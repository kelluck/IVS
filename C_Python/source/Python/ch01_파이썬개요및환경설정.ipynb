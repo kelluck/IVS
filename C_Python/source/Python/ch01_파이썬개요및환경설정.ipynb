{
 "cells": [
  {
   "cell_type": "markdown",
   "id": "eabb2cf0-37f5-4d90-8769-36cd56ad99b8",
   "metadata": {},
   "source": [
    "<font size=\"6\" color = \"blue\"><b>ch01. 파이썬 개요 및 환경설정</b></font>"
   ]
  },
  {
   "cell_type": "markdown",
   "id": "40c404d8-4a2b-475b-adeb-306c5c5d5139",
   "metadata": {},
   "source": [
    "# 1. 주피터 노트북 사용법 (큰제목)\n",
    "    - shift+Enter : 포커스된 셀이 실행되고 다음셀로 이동\n",
    "    - alt+Enter : 포커스된 셀이 실행되고 다음셀이 생성된 후 이동\n",
    "    - ctrl+Enter : 포커스된 셀이 실행되고 포커스 이동없음\n",
    "    - Enter =: 셀이 포커스됨(편집 상태)"
   ]
  },
  {
   "cell_type": "code",
   "execution_count": 3,
   "id": "68d0f1fa-564f-41fb-a88a-cd7ca44097c6",
   "metadata": {},
   "outputs": [
    {
     "name": "stdout",
     "output_type": "stream",
     "text": [
      "Hello\n"
     ]
    }
   ],
   "source": [
    "print('Hello')"
   ]
  },
  {
   "cell_type": "code",
   "execution_count": 6,
   "id": "eb640dff-2533-412f-9e0d-09c6f715036f",
   "metadata": {},
   "outputs": [
    {
     "data": {
      "text/plain": [
       "3"
      ]
     },
     "execution_count": 6,
     "metadata": {},
     "output_type": "execute_result"
    }
   ],
   "source": [
    "a = 1\n",
    "b = '2'\n",
    "a + int(b) #형변환 #문자 + 숫자 불가능"
   ]
  },
  {
   "cell_type": "code",
   "execution_count": 2,
   "id": "24a02107-acfd-4cdb-a345-1c5380aee1bb",
   "metadata": {},
   "outputs": [],
   "source": [
    "# for i in range(1000000000000000) :\n",
    "#     print(i)\n",
    "# 중지 : kernel > 다양한 restart 기능이나 shutdown 기능"
   ]
  },
  {
   "cell_type": "markdown",
   "id": "7d6e7a0d-c6dc-48b2-b896-dee1ede59bbd",
   "metadata": {},
   "source": [
    "# 2. ESC키 누르고 핫키\n",
    "- dd : 셀 삭제\n",
    "- a : 윗셀 추가\n",
    "- b : 아랫셀 추가\n",
    "- m : 마크업셀로 전환\n",
    "- y : 코드셀로 전환"
   ]
  },
  {
   "cell_type": "markdown",
   "id": "8ffd041d-dfd9-412d-9153-e9b273739bed",
   "metadata": {},
   "source": [
    "# 3. 마크다운이란?\n",
    "    - 코드와 함께 문서화할 수 있다.\n",
    "\n",
    "여러 줄 설명은\n",
    "줄바꿈으로 할 수 있습니다\n",
    "\n",
    "```\n",
    "    여러 줄 설명은\n",
    "    줄바꿈으로 할 수 있습니다\n",
    "```"
   ]
  },
  {
   "cell_type": "markdown",
   "id": "292e26c5-8eee-4503-907f-354f1dc11a2a",
   "metadata": {},
   "source": [
    "# 4. Table of contents\n",
    "\n",
    "   * View -> Table of Contents"
   ]
  },
  {
   "cell_type": "code",
   "execution_count": 4,
   "id": "5065299c-cfed-48e6-817a-75b8e8d8635a",
   "metadata": {},
   "outputs": [
    {
     "name": "stdout",
     "output_type": "stream",
     "text": [
      " C 드라이브의 볼륨에는 이름이 없습니다.\n",
      " 볼륨 일련 번호: 92AF-7678\n",
      "\n",
      " C:\\IVS\\C_Python\\source\\Python 디렉터리\n",
      "\n",
      "\n",
      " C:\\IVS\\C_Python\\source\\Python 디렉터리\n",
      "\n",
      "\n",
      " C:\\IVS\\C_Python\\source\\Python 디렉터리\n",
      "\n",
      "\n",
      " C:\\IVS\\C_Python\\source\\Python 디렉터리\n",
      "\n",
      "\n",
      " C:\\IVS\\C_Python\\source\\Python 디렉터리\n",
      "\n",
      "\n",
      " C:\\IVS\\C_Python\\source\\Python 디렉터리\n",
      "\n"
     ]
    },
    {
     "name": "stderr",
     "output_type": "stream",
     "text": [
      "파일을 찾을 수 없습니다.\n"
     ]
    }
   ],
   "source": [
    "!dir #주피터 노트북에서 !는 cmd명령어 수행 가능"
   ]
  },
  {
   "cell_type": "code",
   "execution_count": null,
   "id": "952308c2-5afb-430f-ac29-e04eb854006a",
   "metadata": {},
   "outputs": [],
   "source": []
  }
 ],
 "metadata": {
  "kernelspec": {
   "display_name": "Python 3 (ipykernel)",
   "language": "python",
   "name": "python3"
  },
  "language_info": {
   "codemirror_mode": {
    "name": "ipython",
    "version": 3
   },
   "file_extension": ".py",
   "mimetype": "text/x-python",
   "name": "python",
   "nbconvert_exporter": "python",
   "pygments_lexer": "ipython3",
   "version": "3.11.7"
  }
 },
 "nbformat": 4,
 "nbformat_minor": 5
}
