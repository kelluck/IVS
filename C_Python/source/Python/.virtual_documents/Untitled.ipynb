


# 데이터 구조 : 변수하나에 여러개 데이터를 넣기 위한 자료형
# 리스트 : 파이썬은 변수의 타입이 없으니까 동일 자료형의 집합은 아님 따라서 100% 배열과 똑같지는 않다.





# c : int arr[3] = {1, 2, 3};
#      arr[3] = 1 //불가능 인덱스는 0부터 2까지!! 길이 변경 불가능
# 파이썬 리스트는 길이 줄였다가 늘렸다가 가능.
# 동일 자료형의 집합이 아니여도 리스트에 들어갈 수 있다. -> but! 동일 자료형이 아니면 최소, 최대, sort불가


fruits = ['banana', 'apple', 'orange', 'grape', 0]
type(fruits)


print(fruits) # 그냥 print를 이용해 출력 가능!


print(fruits[0])


fruits[0] = 'mango' # 요소 변경
print(fruits)


# c에서는
# for(int i = 0; i < 5 i++)
#{
#   printf("%d번째 %d\n", i, fruits[i])
#}


for fruit in fruits:
    print(fruit)


for i in [0, 1, 2, 3, 4]: # ...이렇게는 안 씀. 리스트 언제 다 만들어!
    print("{}번째 과일은 {}".format(i, fruits[i])) 


list(range(5)) # 0부터 5 - 1까지 list 만들어주는 함수


len(fruits) #list fruits 요소의 개수


for i in range(len(fruits)): # 가능하지만 비추!!!!! -> enumerate 사용하기!!
    print("{}번째 과일은 {}".format(i, fruits[i])) 


# ★ 인덱스 필요하면 enumerate
for idx, value in enumerate(fruits):
    print("{}번째 과일은 {}".format(idx, value))





numbers = [1,2,3,4,5]
print("요소의 수 : ", len(numbers))
print("최소값 : ", min(numbers))
print("최대값 : ", max(numbers))





# + : 두 리스트를 연결
# 리스트*n : 리스트를 n만큼 반복
# append() : 요소 뒤에 추가
# extend() : 리스트의 요소별로 뒤에 추가


numbers = [1,2,3]
numbers = numbers + numbers
numbers


numbers = [1,2,3]
print(numbers * 3)


numbers.append(4)
print(numbers)


numbers = [1,2,3,4]
num = [5,6]
# numbers를 [1,2,3,4,5,6] vs [1,2,3,4,[5,6]]
numbers.append(num)
print(numbers)


numbers = [1,2,3,4]
num = [5,6]
# numbers를 [1,2,3,4,5,6] vs [1,2,3,4,[5,6]]
numbers.extend(num) # 근데 +를 많이씀...
print(numbers)


numbers = [1,2,3,4]
numbers.append('hello')
print(numbers)


numbers = [1,2,3,4]
numbers.extend('hello')
print(numbers)





numbers = [1,2,3,[1,2,3],1,2,3]
print("2가 몇개인지 : {}".format(numbers.count(2)))
print("4가 몇개인지 : {}".format(numbers.count(4)))


2 in numbers # numbers 안에 2가 있는지 여부 T/F 반환


numbers.index(2,3) # 3번쩨 인덱스부터 2가 처음 나오는 인덱스를 반환





numbers = [1,3,5,9,10,12,13,18,19,20]
numbers[::-1]


numbers[::2] # 인덱스가 짝수인 값을 추출


# 깂이 짝수인 데이터만 추출 (리스트 컨프리헨션 안쓰는 경우)
result = []
for num in numbers:
    if num % 2 == 0:
        result.append(num)
print(result)


# 리스트 컨프리헨션
# for문을 돌면서 if문을 만족하는 num을 result에 저장
result = [num for num in numbers if num % 2 == 0]
result


# numbers 리스트의 제곱값을 리스트로 생성하여라(컴프리헨션 이용)
numbers = [1,3,5]
result = [num**2 for num in numbers]
result


# 과일의 글자가 5글자 이상인 과일을 추출하세요
fruits = ['orange', 'apple', 'mango', 'kiwi']
[fruit for fruit in fruits if len(fruit) >= 5]


# 과일의 글자가 5글자 이상인 과일의 글자수를 추출하세요
[len(fruit) for fruit in fruits if len(fruit) >= 5]





numbers = [1,2,3,4]
print(numbers.pop())
print(numbers)


numbers.remove(1)
print(numbers)


numbers.remove(9) # 없는 데이터 remove시 error발생


del numbers[0] # 0번쩨 요소 없애기
print(numbers)


del numbers # 리스트 자체를 없애기



