





import pandas as pd
pd.__version__


data = pd.read_json('data/ch10_member1.json', encoding="CP949") # 디폴트가 UTF-8 # 알아서 열고 닫아줌.
print(type(data))
data


data = pd.read_json('data/ch10_member2.json') # UTF-8로 read
data


member1 = pd.read_csv('data/ch09_member1.csv', header=None, 
                      names=['name', 'age', 'email', 'address'], encoding="utf-8") # encoding="utf-8" 기본값이라 생략가능
member1





d = {'name':['홍길동', '신길동'], 'age':[20,30]}
df = pd.DataFrame(data=d)
df





d = [{'name' : '홍길동', 'age':20}, {'name':'신길동', 'age':30}]
df = pd.DataFrame(data=d)
df





df = pd.read_csv('data/전국 평균 평당 분양가격(2013년 9월부터 2015년 8월까지).csv', encoding="CP949")
df.shape # 행, 열


df.head(2) # 상위 2줄 # 디폴트 :5줄


pd.options.display.max_columns # 최대 디스플레이될 수 있는 colums 수


pd.options.display.max_columns = 22
df.sample()





import statsmodels.api as sm
iris = sm.datasets.get_rdataset('iris', package='datasets').data
iris.tail() # 끝에서부터 5행보기





member_df = pd.read_csv('data/ch09_member1.csv', header=None)
member_df


# 열이름 지정하기
member_df.columns = ['name', 'age', 'email', 'address']
member_df


member_df = pd.concat([member_df, member_df])
member_df


member_df.index


member_df.index = range(len(member_df))
member_df


# name을 행이름
# member_df = member_df.set_index("name") # inplace=False 적용된 내용 return 
member_df.set_index("name", inplace=True) # inplace=True 데이터프레임에 적용
member_df


# 행이름을 컬럼에 편입시키기
# member_df.reset_index() #reset 적용한 것을 return
member_df.reset_index(inplace=True) # reset을 member_df에 적용
member_df


name = member_df['name'] # 시리즈 # 한 열만 가져올때
print(type(name))
name


member = member_df.loc[0] # 한 행만 가져올때 # 0번 인덱스 행 => 시리즈
print(type(member))
member


member_df.info() # 결측치 확인, type을 볼 수 있음


member_df['age'] = member_df['age'].astype('float64') # 데이터 프레임의 한 열의 타입을 변경


member_df.info()





member = pd.read_csv('data/ch09_member2.csv')
member





member['name'] # 시리즈


member['name'].to_frame() # 시리즈를 데이터 프레임으로





# 단일 행
member.loc[0] # 시리즈


# 여러 행
member.loc[0:4] # 0행부터 5행까지


# 여러 열
member.loc[:,'name':'email'] # 무조건 행이 먼저, 모든 행을 쓸거면 ':'


# 여러 열 (name열과 email열)
member.loc[:, ['name','email']]


# 1행부터 4행까지 name과 email
member.loc[1:4, ['name', 'email']]


# 1과 4행, name, email, address 출력
member.loc[[1,4],['name','email', 'address']]


# 1~4행, name~email열 출력
member.loc[1:4, 'name':'email'] # loc사용 시 index이름과 column 이름을 사용





member.iloc[0:4] # 슬라이싱 from:to:step -> from부터 to 앞까지 step씩


member.iloc[0,0:3] # 0행, 0열부터 3열 앞까지


# 맨 오른쪽 열을 제외하고 출력
member.iloc[:, :-1]


# 0,2,4,6,... 짝수번째 행의 모든 열 출력
member.iloc[::2]


# member의 행 순서를 역순 출력 (맨 마지막열을 제외하고)
member.iloc[::-1,:-1]





# 30살 이상의 데이터 출력
member.loc[member['age'] > 30] # 인덱스 대신 조건


# 강서구 사는 사람 출력
address = "서울시 강동구"
address.find('강동구') # 찾으면 인덱스 반환, 못찾으면 -1반환


# 시리즈에 문자함수를 사용하는 방법
# https://pandas.pydata.org/pandas-docs/stable/reference/series.html#string-handling
member['address'].str.find('강서구') != -1


# address가 '강서구'인 데이터의 name, age, address를 출력하시오.
member.loc[member['address'].str.find('강서구') != -1, ['name', 'age', 'address']]


member.info()


member.isna().sum() # .isna() : 결측치 있으면 True, .sun()으로 다 더해서 확인할 수 있음


# iris
import seaborn as sns
iris_df = sns.load_dataset('iris')
# 0~49 setosa / 50~ 99 versicolor / 100~149 virginica
iris_df.loc[48:60].head()


# spacies가 versicolor인 데이터의 모든 열
iris_df[iris_df['species'] == 'versicolor'].head()


# spacies가 versicolor인 데이터의 맨 마지막 열을 제외한 데이터
iris_df.loc[iris_df['species'] == 'versicolor', 'sepal_length': 'petal_width'].head()


# spacies가 versicolor인 데이터의 맨 마지막 열을 제외한 데이터
iris_df.iloc[:, :-1][iris_df['species'] == 'versicolor']


# sepal_length가 6.2보다 크고, spacies가 versicolor인 데이터를 출력
iris_df[(iris_df.species == 'versicolor') & (iris_df.sepal_length > 6.2)] # iris_df['species'] == iris_df.species
                                                                          # 파이썬에서는 &의 우선순위가 높기 떄문에 괄호 필수!


# sepal_length가 6.2보다 크고, spacies가 versicolor인 데이터의 sepal_length와 species, sepal_width를 출력
iris_df.loc[(iris_df.species == 'versicolor') & (iris_df.sepal_length > 6.2), ['sepal_length', 'sepal_width', 'species']]





member


import numpy as np
member['major'] = ['컴공', '전기', '전자', '기계', 'AI', np.nan] # np.nan로 결측치 넣기
member


hobby = pd.DataFrame({'hobby' : ['놀기', '자기', '읽기', '먹기', '공부', '명상']})
hobby


member = pd.concat([member, hobby], axis=1) # 디폴트는 행 병합 / axis=1 열 병합
member


member.drop(['hobby', 'major'], axis = 1, inplace=True) # member바꾸기 
                                                        # 1) inplace=True 또는 
                                                        # 2) member = member.drop(['hobby', 'major'], axis = 1)
member


# 행 삭제
member.drop(4, inplace=True)
member


member = member.drop(1)
member


member.index = range(len(member))
member





member.sort_index(ascending=False, inplace=True) # 인덱스 정렬


# 특정열의 값 기준 정렬
member.sort_values(by=['name', 'age'], inplace=True) # by는 키워드 인수로 꼭! 써야함. 'name'이 같으면 'age' 순서로
member





iris_df.iloc[:,:-1].min(axis = 1) # 행마다 모든 열 최소값


iris_df.max()


iris_df.iloc[:,:-1].mean()


iris_df.iloc[:,:-1].std()


iris_df.describe() # 수치형 데이터의 개수, 평균, 표준편차, 최소 최대, 사분위수


iris_df["species"].describe() # 범주형 데이터 : 전체개수, 종류, 가장 많은 종류, 가장 많은 종류의 개수


iris_df.describe(include='all') # 수치형과 범주형 데이터 모두 describe


iris_df[iris_df['species'].isna()] # species가 결측치인 행을 출력





iris_df.groupby(['species']).mean() # 종류 별로 평균


iris_group = iris_df.groupby(['species'])
iris_group.mean()





# 1. iris 데이터에서 처음 다섯개 행만 출력하세요
iris.iloc[:5]


# 2.iris 데이터를 데이터프레임 변수인 독립변수 X와 종속변수 y로 나누세요. 
# hint: y = iris.loc[:, ‘species’].to_frame()
X = iris.iloc[:, :-1]
y = iris.loc[:, 'Species'].to_frame()


X.sample()


y.sample()


# 3. iris 데이터에서 처음 50개행을 빼내서 temp변수에 저장하세요
temp = iris.iloc[:50]
temp


# 4.3번에서 선택한 데이터프레임의 요약정보를 출력하세요. 
#   모든 열에 대해 요약정보가 출력되어야 합니다.
iris_df.describe(include='all')


# 5. versicolor종의 데이터만 iris_versicolor변수에 저장하세요
iris_versicolor = iris[iris.Species == 'versicolor']
iris_versicolor


# 6. 2번의 2번의 X와 y변수를 합해서 iris_df데이터 프레임으로 만드세요
#    hint : X와 y합하기 : pd.concat([X, y], axis=1)
iris_df = pd.concat([X,y], axis=1)
iris_df


# 7. iris 데이터의 각 열 평균값을 출력하세요.
iris_df.iloc[:,:-1].mean()


# 8. iris 데이터의 각 열들 사이의 상관계수를 출력하세요
r = iris_df.iloc[:,:-1].corr()
r


import seaborn as sns
import matplotlib.pyplot as plt
#plt.figure(figsize=(12,6)) # 그래프 크기
sns.heatmap(r, annot=True, cmap="Greens") # annot=True 숫자 나타내기
# seaborn 라이브러리 업그레이드 : 아나콘다 프롬프트 pip install seaborn --upgrade
# seaborn 라이브러리 업그레이드 확인 : pip show seaborn


# 9. iris 데이터의 종별 평균을 출력하세요
iris_df.groupby(['Species']).mean()



