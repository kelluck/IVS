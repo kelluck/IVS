





print('Hello')


a = 1
b = '2'
a + int(b) #형변환 #문자 + 숫자 불가능


# for i in range(1000000000000000) :
#     print(i)
# 중지 : kernel > 다양한 restart 기능이나 shutdown 기능











!dir #주피터 노트북에서 !는 cmd명령어 수행 가능



