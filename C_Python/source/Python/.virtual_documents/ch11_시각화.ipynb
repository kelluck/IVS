








# 시작전 설정
import matplotlib.pyplot as plt
%matplotlib inline
# 그래프 해상도 높임
%config InlineBackend.figure_format='retina'
#한글설정
plt.rc('font', family='Malgun Gothic') #window
#plt.rc('font', family='AppleGothic') #mac
plt.rc('axes', unicode_minus=False)
# 경고 메세지 안보이게
import warnings
warnings.filterwarnings(action='ignore')


import seaborn as sns
iris = sns.load_dataset('iris')
iris.shape


iris.plot(kind='line', figsize=(12,4))
plt.legend(bbox_to_anchor=(1.05, 1), loc=2, borderaxespad=0.)
plt.show()


iris.plot(kind="box", figsize=(12,4)) # box plot


iris.plot(kind="scatter", x="petal_length", y="petal_width") # 추천
plt.title('두 변수간 scatter plot')
plt.show()


plt.figure(figsize=(10, 4)) # 이 방법은 비추
plt.plot(iris.petal_length, iris.petal_width, '.')
plt.title('두 변수간 scatter plot')
plt.xlabel('iris.petal_length 값')
plt.ylabel('iris.petal_width 값')
plt.show()





plt.figure(figsize=(10,4))
sns.scatterplot(data=iris, x="petal_length", y="petal_width", hue="species")
plt.legend(bbox_to_anchor=(1.05, 1), loc=2, borderaxespad=0.)
plt.show()


plt.figure(figsize=(10,4))
sns.barplot(data=iris, x="species", y="petal_width")
plt.show()


plt.figure(figsize=(10,4))
sns.lmplot(data=iris, x="petal_length", y="petal_width")
plt.show()


plt.figure(figsize=(10,4))
sns.lmplot(data=iris, x="petal_length", y="petal_width", hue="species")
plt.show()


plt.figure(figsize=(10,4))
sns.boxplot(data=iris, y="petal_length", hue="species")


plt.figure(figsize=(10,4))
sns.violinplot(data=iris, y="petal_length", hue="species") 
# boxplot에서 알 수 없던 분포까지 보여줌
