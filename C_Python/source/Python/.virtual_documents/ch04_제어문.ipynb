





# 점수를 입력받아 학점출력
name = "Hong"
score = int(input(name + "! Enter your score >>")) # input안에서는 .format() 사용불가 -> 연산자 '+' 사용!

# grade는 if문 안에서만이 아니라 계속 쓸 수 있음!
if 90 <= score <= 100: 
    grade = 'A'
elif 80 <= score < 90:
    grade = 'B'
elif 70 <= score < 80:
    grade = 'C'
elif 60 <= score < 70:
    grade = 'D'
elif 0 <= score < 60:
    grade = 'F'
else:
    grade = '유효하지 않은 점수'

print("입력하신 점수는 {}점이고, {}등급입니다".format(score, grade))





list(range(1,10,2)) # range도 나열 가능한 자료


for i in range(10):
    print(i, end='\t')
else:
    print('\nDone')
print('END')


# 1~100까지 짝수의 합을 계산하고 출력하시오.
sum = 0
for i in range(1, 101,):
    if i%2==0:
        sum += i
print("1부터 100까지의 짝수의 합은 {}입니다".format(sum))





# 사용자에게 두 수를 입력받아 첫 번째 수(작은 수)부터 두 번째(큰 수) 입력한 수까지 홀수의 합 누적해서 출력
n1 = int(input("첫 번째(작은 수) 정수를 입력하세요 >>"))
n2 = int(input("두 번째(큰 수) 정수를 입력하세요 >>"))

sum = 0
i = n1
while i <= n2:
    if i % 2 != 0:
        sum += i
    i += 1
print("{}부터 {}까지 홀수의 합은 {}입니다".format(n1, n2, sum))





num = 0
while num <= 10:
    num += 1
    if num == 3:
        # break
        continue
    print("num={}".format(num), end='\t')





for i in range(1, 10):
    for j in range(2, 10):
        print("{} x {} = {:>2}\t".format(j, i, j * i), end='')
    print() # 개행용도 # default가 \n





import random
# random.seed(7) # seed값을 같은 값으로 넣어주면 랜덤수 결과 동일
print(random.randint(1, 100))


# 1. 방법1 1~100까지 컴퓨터가 발생한 난수 알아맞추기(최소값과 최대값을 줄어가며 범위 출력)


# 1. 방법2 1~100까지 컴퓨터가 발생한 난수를 5번 이내로 알아맞추기(최소값과 최대값을 줄어가며 범위 출력)
#    5번 기회 이내에 알아맞추지 않을 시 실패 메시지 출력
import random
com = random.randint(1, 100)
print(com)
chance = 5
min_ = 1;
max_ = 100;
while chance > 0:
    user = int(input(str(min_) + '~' + str(max_) + '사이의 수를 맞춰 보세요. (남은 기회 : ' + str(chance) + ')>>' ))
    if (max_ < user) | (min_ > user):
        print('범위에 맞는 수를 입력하십시오')
    elif user > com:
        print('Down')
        max_ = user
        chance -= 1
    elif user < com:
        print('UP')
        min_ = user
        chance -= 1
    else:
        print('정답입니다! {}번만에 성공하셨습니다.'.format(6-chance))
        break;
else:
    print('모든 기회를 사용하셨습니다.')


# 2. 중복되지 않은 로또 번호를 오름차순 정렬하여 출력하시오
#    list(중복 데이터 포함 가능) or set(중복 불가, 정렬 불가) 사용
import random
lotto = set()
while len(lotto) < 6:
    lotto.add(random.randint(1, 45))

lotto = list(lotto)
lotto.sort()
print(lotto)
