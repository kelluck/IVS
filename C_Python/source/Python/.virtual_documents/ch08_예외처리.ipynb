


# 있는 파일의 경우 예외 발생 안 함
filename = input("파일명? ")
f = open('data/' + filename, 'r', encoding="utf-8") #encoding의 default값은 cp949
f.readlines()


f.close()


# 없는 파일명의 경우 예외 발생 -> 자동적으로 FileNotFoundError라는 예외 객체 생성 -> 예외 메세지
filename = input("파일명? ")
f = open('data/' + filename, 'r', encoding="utf-8") #encoding의 default값은 cp949
f.readlines()


# ValueError 예외 객체 : 숫자가 아닌 문자를 입력했을 경우
# ZeroDivisionError 예외 객체 : 0을 입력했을 경우
num = int(input("나눌 숫자를 입력하세요 >>"))
100/num


# IndexError 예외 객체 : 인덱스를 벗어났을 경우
a = [1,2,3]
a[3]





# 100을 입력받은 정수값으로 나눠 출력한다
# ValueError 
# ZeroDivisionError 
x = int(input("100을 나눌 정수를 입력하세요 >>"))
print("입력한 수는 {}".format(x))
print("100을 입력한 정수로 나누면 {:.2f}입니다".format(100/x))


# 100을 입력받은 정수값으로 나눠 출력한다
# ValueError 
# ZeroDivisionError
try:
    x = int(input("100을 나눌 정수를 입력하세요 >>"))
    print("입력한 수는 {}".format(x))
    print("100을 입력한 정수로 나누면 {:.2f}입니다".format(100/x))
except:
    print("유효한 점수가 아닙니다")


# 100을 입력받은 정수값으로 나눠 출력한다
# ValueError 
# ZeroDivisionError
try:
    x = int(input("100을 나눌 정수를 입력하세요 >>"))
    print("입력한 수는 {}".format(x))
    print("100을 입력한 정수로 나누면 {:.2f}입니다".format(100/x))
except ValueError:
    print("유효한 숫자를 입력하세요")
except ZeroDivisionError:
    print("0으로는 나눌 수 없습니다")


# 100을 입력받은 정수값으로 나눠 출력한다
# ValueError 
# ZeroDivisionError
try:
    x = int(input("100을 나눌 정수를 입력하세요 >>"))
    print("입력한 수는 {}".format(x))
    print("100을 입력한 정수로 나누면 {:.2f}입니다".format(100/x))
except ValueError:
    print("유효한 숫자를 입력하세요")
except ZeroDivisionError:
    print("0으로는 나눌 수 없습니다")
except Exception: # except절이 많을 경우 상위 클래스를 아래에 명시
    print("알 수 없는 혹시 모듈 예외입니다") # 상위 클래스(모든 exception(ValueError, ZeroDivisionError...)이 Exception으로부터 상속받았다)! 따라서 가장 밑에 써야한다. 
                                           #위에 쓰면 모든 에러가 Exception으로 간다


# 100을 입력받은 정수값으로 나눠 출력한다. 유효한 숫자를 입력할 때까지 수를 입력받음
# ValueError 
# ZeroDivisionError
while True:
    try:
        x = int(input("100을 나눌 정수를 입력하세요 >>"))
        print("입력한 수는 {}".format(x))
        print("100을 입력한 정수로 나누면 {:.2f}입니다".format(100/x))
        break; #try를 다 수행하면 끝내기 위함
    except (ValueError, ZeroDivisionError): # 이렇게 써도 됨
        print("유효한 숫자를 입력하세요")
    except Exception: # except절이 많을 경우 상위 클래스를 아래에 명시
        print("알 수 없는 혹시 모듈 예외입니다") 


# 100을 입력받은 정수값으로 나눠 출력한다. 유효한 숫자를 입력할 때까지 수를 입력받음
# ValueError 
# ZeroDivisionError
while True:
    try:
        x = int(input("100을 나눌 정수를 입력하세요 >>"))
        print("입력한 수는 {}".format(x))
        print("100을 입력한 정수로 나누면 {:.2f}입니다".format(100/x))
        break; #try를 다 수행하면 끝내기 위함
    except (ValueError, ZeroDivisionError) as e: # 예외가 발생했을때 변수명이 e로 됨
        print(e) #print(e.__str__()) # print를 쓰면 __str__()함수가 자동으로 수행
        print("예외 객체의 타입 : ", type(e)) 
        print("예외 메세지 e.args : ", e.args) # print(e)와 같음. 따라서 예외 메세지를 보려면 그냥 print하기


try:
    f = open('data/ch08.txt', 'r', encoding='utf-8')
    data = f.read() # 파일을 끝까지 텍스트 형태로 읽어서 반환
    print(data)
except FileNotFoundError as e:
    print(e)
finally:
    f.close() # 중요; w때는 안 닫으면 저장이 안됨.


try:
    f = open('data/ch08.txt', 'r', encoding='utf-8')
    data = f.read() # 파일을 끝까지 텍스트 형태로 읽어서 반환
    #print(data)
except FileNotFoundError as e:
    print(e)
else: # try절이 다 끝났을 경우(except로 안빠졌을때); 그냥 try에 써도 됨...
    print(data)
finally:
    f.close() # 중요; w때는 안 닫으면 저장이 안됨.





raise Exception("예외가 발생했습니다")


# 사용자 정의 예외 타입
class LengthZeroError(Exception): # 기존 파이썬에서 제공되는 Exception으로부터 상속받음
    "길이가 0일때 발생하는 예외" # 도움말
    def __init__(self):
        super().__init__("매개변수 길이가 0이면 예외")


raise LengthZeroError()


def insert(*data): # 튜플 매개변수
    if len(data) == 0:
        raise LengthZeroError()
    for item in data:
        print(item, end=" ")
    print("등을 입력하셨습니다")


insert(1,2,3)


insert()


ㅣ = (1,2,3)
insert(*l)





# 파일 입출력시 자원 반납 필수(close)
try:
    f = open('data/ch08.txt', 'r', encoding="utf-8")
    lines = f.readlines() # 한줄한줄 모든 줄을 list형태로 반환
    print(lines)
except Exception:
    print('없는 파일이거나 encoding 확인 요망', e)
finally:
    f.close()


# with절 이용시 자동 close()실행
with open('data/ch08.txt', 'r', encoding="utf-8") as f:
    lines = f.readlines()
print(lines)
