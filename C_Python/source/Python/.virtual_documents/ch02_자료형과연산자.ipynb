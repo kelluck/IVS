


# C언어
# #include <stdio.h>
# printf()

# <파이썬에서 예시>
# import stdio.h as std <- stdio.h를 std로
# std.printf()

import numpy as np
print("제공되는 pi값은", np.pi)
r = 5
area = np.pi * r * r
# printf("계산된 넓이는 %lf", area); <- c
print("계산된 넓이는", area)
print("area 타입은", type(area))
print("area 주소는", id(area))


area = 10 # 새로 할당할 때마다 새로운 메모리 공간에 값을 할당 
print("area 값은", area)
print("area 타입은", type(area))
print("area 주소는", id(area)) 


area = "파이썬은 좋아요"
print("area 값은", area)
print("area 타입은", type(area))
print("area 주소는", id(area)) 





불용어 = "북한"
불용어


print(불용어)


# 파이썬 변수는 함수 할당 -> print사용 불가
print = 5


print(불용어)


#print 변수 삭제 -> 다시 print 사용가능
del print


print(불용어)


i = 3 + 3j #복소수
type(i)


a = 10
b = 20
a, b


a, b = 10, 20 # 다중 선언
a, b


a, b = b, a + b # 다중 선언; 병렬로 같이 들어감 (20, 40이 아니라 20, 30)
print('a=',a,'\tb=',b)





help(print)


print?


# 도움말 기능 함수내에서 shift+tap 키
print('a', 'b', sep='~')


#y의 default값은 0
def make_number(x, y=0) :
    """doc string(함수의 도움말)
    매개 변수 2개를 이용해서 2자리 정수를 만들어요
    x = 10의 자리수
    y = 1의 자리수 (default값 0)
    """
    return x * 10 + y



make_number(3, 2)


make_number(5)


make = make_number # 함수를 변수에 할당


make(6)





del make


make(6)





first = input("첫 번째 숫자는? ") # 문자로 return
second = input("두 번째 숫자는? ")


print("두 수의 합은 {}".format(first + second)) # 문자 + 문자


first = int(input("첫 번째 숫자는? ")) # 숫자로 return
second = int(input("두 번째 숫자는? "))
print("두 수의 합은 {}".format(first + second))


print('Hello', 'world', sep='~', end='\t')
print('Hello', 'Python')








import sys
print(sys.maxsize) # 모든 크기의 정수를 다 처리 가능


a = sys.maxsize + 10 # maxsize보다 커도 처리 가능
print('값:{} / 주소:{}'.format(a, id(a)))
print(type(a))


a = 1
print('값:{} / 주소:{}'.format(a, id(a)))
print(type(a))


a = 3/2 # 정수형/정수형 => 실수형 (4/2도 2.0으로 나옴)
print('값:{} / 주소:{}'.format(a, id(a)))
print(type(a))


# C언어 처럼 처리하려면
a = int(3/2) #명시적 형변환
a = 3 // 2 #몫 연산자
print('값:{} / 주소:{}'.format(a, id(a)))
print(type(a))


f = 1.12e20 # 1.12 x 10의 20제곱
print(f)
f = 1.12e-20 # 1.12 x 10의 -20제곱
print(f)





name = "홍길동'님'"
print(name)


name = '홍길동"님"'
print(name)


address = "서울시 \"금천구\" \
가산디지털1로"
# \는 다음줄로 계속
print(name, address)


text = "안녕하세요\n홍길동입니다\n반갑습니다"
print(text)


text = """안녕하세요
홍길동입니다
반갑습니다
"""

print(text)


# 문자열 슬라이싱


str(100) # 숫자를 문자로 바꾸는 함수


str_ = "0123456789"
str_


str_[0]


str_[0:3] # 0번째부터 3번째 앞까지(2번째까지)


str_[-1] # 음수 인덱스는 뒤에서부터


str_ = "0123456789"
str_[-5:-1]


str_[5:] # 5번째 인덱스부터 끝까지


str_[:-5] # 처음부터 -5번쩨 앞까지


#str_[19] -> 없는 인덱는 error
str_[5:19] # 슬라이싱에서는 인덱스를 벗어나면 끝까지


# str_[from:to:step]
print(str_[0:9:2]) # 0번째부터 9번째 앞까지 2씩 인덱스 증가
print(str_[::2]) # 처음부터 끝까지 2씩 인덱스 증가해서


# 끝부터 처음까지 (거꾸로)
print(str_[9::-1])
print(str_[::-1])





a = True
print(a)
print(type(a))
print(isinstance(a, bool)) # a가 bool형이냐?


# False로 간주하는 것 : 0, ""(빈스트링), ''(빈스트링), [], (), {}
# True로 가주하는 것 : 0이 아닌 모든 수, " "(스페이스), '\0'(널문자)


if 0 + 0j :
    print("True다")
else :
    print("False다")    





int('10')


int('2,000')


float(True)





name = "홍길동"
add = "서울시 금천구"
print("이름은 {}, 주소는 {}".format(name, add))
print("이름은 {1}, 주소는 {0}".format(add, name))


print("이름은 %s, 주소는 %s"%(name, add)) # 진짜 옛날 방식...


print(f"이름은 {name}, 주소는 {add}")





a = 10
s = 'Hello'
print("[{0:$>10d}], [{1:*<20.2}]".format(a, s))



