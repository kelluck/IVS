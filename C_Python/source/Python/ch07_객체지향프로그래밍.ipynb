{
 "cells": [
  {
   "cell_type": "markdown",
   "id": "b96a8296-c438-4173-8280-b1d51b3d1eb5",
   "metadata": {},
   "source": [
    "<font size=\"6\" color = \"blue\"><b>ch07. 객체지향 프로그래밍</b></font>"
   ]
  },
  {
   "cell_type": "markdown",
   "id": "87c64545-909f-4893-b2d6-e09280450f77",
   "metadata": {},
   "source": [
    "# 1절. 객체와 클래스\n",
    "```\n",
    "class 클래스명(상속받을 클래스명):\n",
    "    변수나 함수들을 선언\n",
    "```"
   ]
  },
  {
   "cell_type": "code",
   "execution_count": 47,
   "id": "d1ff668d-574c-4222-bc1e-41f64457ddcd",
   "metadata": {},
   "outputs": [],
   "source": [
    "class Person:\n",
    "    \"Person 클래스는 어쩌구 저쩌구 여러 줄 설명하는 독스트링\"\n",
    "    pass\n",
    "p1 = Person()"
   ]
  },
  {
   "cell_type": "code",
   "execution_count": 75,
   "id": "21d023d8-8fc8-4ccf-97f4-c7e6873e53ff",
   "metadata": {},
   "outputs": [],
   "source": [
    "class Person:\n",
    "    \"Person은 이름과 성별 멤버변수가 있는 객체타입입니다\"\n",
    "    def __init__(self, name='홍길동', gender='남자'): # 생성자 함수를 이용한 초기화 # self는 내 객체 변수를 뜻함\n",
    "        self.name = name\n",
    "        self.gender = gender # gender는 매개변수, self.gender는 내 객체 변수\n",
    "        print('{}, {} Person 객체가 생성되었습니다'.format(self.name, self.gender))\n",
    "\n",
    "    def print_info(self): # self 꼭 넣어야함! 매개변수 아님! 객체 안의 함수!!\n",
    "        print(\"{}님은 {}입니다\".format(self.name, self.gender), end=' ')     \n",
    "\n",
    "    def printCnt(self, cnt):\n",
    "        for i in range(cnt):\n",
    "            print(self.name, end='\\t')\n",
    "            \n",
    "    def __str__(self): # 새롭게 셋팅하면 원래 __str__()는 없어짐\n",
    "        return \"{}, 성별은 {}\".format(self.name, self.gender)"
   ]
  },
  {
   "cell_type": "code",
   "execution_count": 76,
   "id": "3eb64739-78f6-4e58-97c5-f7faab9a0cc9",
   "metadata": {},
   "outputs": [
    {
     "name": "stdout",
     "output_type": "stream",
     "text": [
      "성춘향, 여자 Person 객체가 생성되었습니다\n"
     ]
    }
   ],
   "source": [
    "p1 = Person('성춘향', '여자')"
   ]
  },
  {
   "cell_type": "code",
   "execution_count": 77,
   "id": "8535ed16-155e-4c42-8fe7-c9e9107f9078",
   "metadata": {},
   "outputs": [
    {
     "name": "stdout",
     "output_type": "stream",
     "text": [
      "성춘향 여자\n"
     ]
    }
   ],
   "source": [
    "print(p1.name, p1.gender)"
   ]
  },
  {
   "cell_type": "code",
   "execution_count": 78,
   "id": "d7d9d128-a0b0-46d1-b9ca-c8c551892670",
   "metadata": {},
   "outputs": [
    {
     "name": "stdout",
     "output_type": "stream",
     "text": [
      "성춘향님은 여자입니다 "
     ]
    }
   ],
   "source": [
    "p1.print_info()"
   ]
  },
  {
   "cell_type": "code",
   "execution_count": 79,
   "id": "70b20f47-106e-4bb9-a00d-3ccaaf08ddbb",
   "metadata": {},
   "outputs": [
    {
     "name": "stdout",
     "output_type": "stream",
     "text": [
      "성춘향\t성춘향\t성춘향\t성춘향\t성춘향\t"
     ]
    }
   ],
   "source": [
    "p1.printCnt(5)"
   ]
  },
  {
   "cell_type": "code",
   "execution_count": 80,
   "id": "54127c33-df2e-444c-b374-3f0744c97396",
   "metadata": {},
   "outputs": [
    {
     "name": "stdout",
     "output_type": "stream",
     "text": [
      "성춘향, 성별은 여자\n"
     ]
    }
   ],
   "source": [
    "print(p1.__str__()) # default로 .__str__() # error가 안남 -> 상속받은게 있기 때문"
   ]
  },
  {
   "cell_type": "code",
   "execution_count": 81,
   "id": "1e00c049-0ad1-485b-a189-80b88dde921f",
   "metadata": {},
   "outputs": [
    {
     "name": "stdout",
     "output_type": "stream",
     "text": [
      "성춘향, 성별은 여자\n"
     ]
    }
   ],
   "source": [
    "print(p1) # def __str__(self): 로 새로 셋팅해서 그냥 출력 가능"
   ]
  },
  {
   "cell_type": "markdown",
   "id": "5236ca74-3563-4357-a80c-f8868505c080",
   "metadata": {},
   "source": [
    "# 2절. 상속과 재정의"
   ]
  },
  {
   "cell_type": "code",
   "execution_count": 88,
   "id": "b9096d51-2294-4b9c-97e7-3ce18c198817",
   "metadata": {},
   "outputs": [],
   "source": [
    "# Person에 있는걸 상속받으면 Person에 있는 것 변수와 메소드 다 쓸 수 있음\n",
    "class Student(Person):\n",
    "    'name, gender, major 멤버변수를 갖는 Student타입'\n",
    "    def __init__(self, name, gender, major):\n",
    "        # 부모 클래스의 생성자 함수로 name, gender 초기화\n",
    "        super().__init__(name, gender) # 'super()는 부모 클래스의' 라는 뜻\n",
    "        self.major = major\n",
    "    def print_info(self): # major는 print가 없다!! 좀 바꿔야징\n",
    "        super().print_info()\n",
    "        print(\"그리고 전공은 {}입니다\".format(self.major))\n",
    "    def __str__(self):\n",
    "        return super().__str__() + \", 전공은 {}\".format(self.major)"
   ]
  },
  {
   "cell_type": "code",
   "execution_count": 89,
   "id": "38a0a576-c9dc-4b60-b360-7bc3f1068f30",
   "metadata": {},
   "outputs": [
    {
     "name": "stdout",
     "output_type": "stream",
     "text": [
      "김철수, 남자 Person 객체가 생성되었습니다\n"
     ]
    }
   ],
   "source": [
    "s1 = Student(\"김철수\", \"남자\", \"컴공\") # Person생성자에서 print함"
   ]
  },
  {
   "cell_type": "code",
   "execution_count": 90,
   "id": "26ef7672-d8cc-4c4d-8e62-ff5d1e0cbcb0",
   "metadata": {},
   "outputs": [
    {
     "data": {
      "text/plain": [
       "('김철수', '남자', '컴공')"
      ]
     },
     "execution_count": 90,
     "metadata": {},
     "output_type": "execute_result"
    }
   ],
   "source": [
    "s1.name, s1.gender, s1.major"
   ]
  },
  {
   "cell_type": "code",
   "execution_count": 91,
   "id": "0fb4c777-eccf-4072-8a3e-492425fb51d6",
   "metadata": {},
   "outputs": [
    {
     "name": "stdout",
     "output_type": "stream",
     "text": [
      "김철수님은 남자입니다 그리고 전공은 컴공입니다\n"
     ]
    }
   ],
   "source": [
    "s1.print_info()"
   ]
  },
  {
   "cell_type": "code",
   "execution_count": 92,
   "id": "6fccd656-f618-4805-a25c-79d6a3efe608",
   "metadata": {},
   "outputs": [
    {
     "name": "stdout",
     "output_type": "stream",
     "text": [
      "김철수\t김철수\t김철수\t김철수\t김철수\t"
     ]
    }
   ],
   "source": [
    "s1.printCnt(5)"
   ]
  },
  {
   "cell_type": "code",
   "execution_count": 93,
   "id": "4e13864e-6b54-4057-be5b-3c51c678e017",
   "metadata": {},
   "outputs": [
    {
     "name": "stdout",
     "output_type": "stream",
     "text": [
      "김철수, 성별은 남자, 전공은 컴공\n"
     ]
    }
   ],
   "source": [
    "print(s1)"
   ]
  },
  {
   "cell_type": "code",
   "execution_count": null,
   "id": "d48c3a92-6edb-44d4-9c49-a4a802b856a1",
   "metadata": {},
   "outputs": [],
   "source": []
  }
 ],
 "metadata": {
  "kernelspec": {
   "display_name": "Python 3 (ipykernel)",
   "language": "python",
   "name": "python3"
  },
  "language_info": {
   "codemirror_mode": {
    "name": "ipython",
    "version": 3
   },
   "file_extension": ".py",
   "mimetype": "text/x-python",
   "name": "python",
   "nbconvert_exporter": "python",
   "pygments_lexer": "ipython3",
   "version": "3.11.7"
  }
 },
 "nbformat": 4,
 "nbformat_minor": 5
}
