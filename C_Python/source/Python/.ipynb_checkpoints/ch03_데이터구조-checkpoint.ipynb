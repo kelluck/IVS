{
 "cells": [
  {
   "cell_type": "markdown",
   "id": "c399b1a5-dcfb-4b80-9e08-0b675b2439b1",
   "metadata": {},
   "source": [
    "<font size=\"8\" color = \"red\"><b>ch03. 데이터 구조</b></font>\n",
    "- 리스트 [], 튜플 (), 딕셔너리(구조체와 유사), 셋 (집합)"
   ]
  },
  {
   "cell_type": "code",
   "execution_count": 1,
   "id": "d9e43e69-65c5-4706-aecf-fbc13056477f",
   "metadata": {},
   "outputs": [],
   "source": [
    "# 데이터 구조 : 변수하나에 여러개 데이터를 넣기 위한 자료형\n",
    "# 리스트 : 파이썬은 변수의 타입이 없으니까 동일 자료형의 집합은 아님 따라서 100% 배열과 똑같지는 않다."
   ]
  },
  {
   "cell_type": "markdown",
   "id": "f1fad30b-ddd9-4d62-ba4b-96b4894cc1e7",
   "metadata": {},
   "source": [
    "# 1절. 리스트\n",
    "## 1.1 리스트 만들기\n",
    "- [] 이용\n",
    "- 인덱스 : 0부터 시작. -1은 맨 마지막 인덱스\n",
    "- 슬라이싱([from:to:step])을 이용하여 추출 가능"
   ]
  },
  {
   "cell_type": "code",
   "execution_count": 2,
   "id": "d04effcf-f131-4e84-882d-cb3cf9597e49",
   "metadata": {},
   "outputs": [],
   "source": [
    "# c : int arr[3] = {1, 2, 3};\n",
    "#      arr[3] = 1 //불가능 인덱스는 0부터 2까지!! 길이 변경 불가능\n",
    "# 파이썬 리스트는 길이 줄였다가 늘렸다가 가능.\n",
    "# 동일 자료형의 집합이 아니여도 리스트에 들어갈 수 있다. -> but! 동일 자료형이 아니면 최소, 최대, sort불가"
   ]
  },
  {
   "cell_type": "code",
   "execution_count": 3,
   "id": "c8abbca0-f5e4-4fdf-ab11-0e9b6c0493f0",
   "metadata": {},
   "outputs": [
    {
     "data": {
      "text/plain": [
       "list"
      ]
     },
     "execution_count": 3,
     "metadata": {},
     "output_type": "execute_result"
    }
   ],
   "source": [
    "fruits = ['banana', 'apple', 'orange', 'grape', 0]\n",
    "type(fruits)"
   ]
  },
  {
   "cell_type": "code",
   "execution_count": 4,
   "id": "2777d383-a9ef-402b-86ef-08d8af629af0",
   "metadata": {},
   "outputs": [
    {
     "name": "stdout",
     "output_type": "stream",
     "text": [
      "['banana', 'apple', 'orange', 'grape', 0]\n"
     ]
    }
   ],
   "source": [
    "print(fruits) # 그냥 print를 이용해 출력 가능!"
   ]
  },
  {
   "cell_type": "code",
   "execution_count": 5,
   "id": "390a8e85-4a41-4773-beef-6363063e9bd7",
   "metadata": {},
   "outputs": [
    {
     "name": "stdout",
     "output_type": "stream",
     "text": [
      "banana\n"
     ]
    }
   ],
   "source": [
    "print(fruits[0])"
   ]
  },
  {
   "cell_type": "code",
   "execution_count": 6,
   "id": "80355087-7353-4d53-a9a8-aad8dfb298f5",
   "metadata": {},
   "outputs": [
    {
     "name": "stdout",
     "output_type": "stream",
     "text": [
      "['mango', 'apple', 'orange', 'grape', 0]\n"
     ]
    }
   ],
   "source": [
    "fruits[0] = 'mango' # 요소 변경\n",
    "print(fruits)"
   ]
  },
  {
   "cell_type": "code",
   "execution_count": 8,
   "id": "555298ee-ae79-46ae-817e-37927456903f",
   "metadata": {},
   "outputs": [],
   "source": [
    "# c에서는\n",
    "# for(int i = 0; i < 5 i++)\n",
    "#{\n",
    "#   printf(\"%d번째 %d\\n\", i, fruits[i])\n",
    "#}"
   ]
  },
  {
   "cell_type": "code",
   "execution_count": 9,
   "id": "577f4705-a35d-490f-87c8-4a322bddac44",
   "metadata": {},
   "outputs": [
    {
     "name": "stdout",
     "output_type": "stream",
     "text": [
      "mango\n",
      "apple\n",
      "orange\n",
      "grape\n",
      "0\n"
     ]
    }
   ],
   "source": [
    "for fruit in fruits:\n",
    "    print(fruit)"
   ]
  },
  {
   "cell_type": "code",
   "execution_count": 10,
   "id": "4ef69984-0c65-4ce2-85ac-cb2e760c6e90",
   "metadata": {},
   "outputs": [
    {
     "name": "stdout",
     "output_type": "stream",
     "text": [
      "0번째 과일은 mango\n",
      "1번째 과일은 apple\n",
      "2번째 과일은 orange\n",
      "3번째 과일은 grape\n",
      "4번째 과일은 0\n"
     ]
    }
   ],
   "source": [
    "for i in [0, 1, 2, 3, 4]: # ...이렇게는 안 씀. 리스트 언제 다 만들어!\n",
    "    print(\"{}번째 과일은 {}\".format(i, fruits[i])) "
   ]
  },
  {
   "cell_type": "code",
   "execution_count": 12,
   "id": "110d6754-614a-4d3c-9be8-a8cbed7c7872",
   "metadata": {},
   "outputs": [
    {
     "data": {
      "text/plain": [
       "[0, 1, 2, 3, 4]"
      ]
     },
     "execution_count": 12,
     "metadata": {},
     "output_type": "execute_result"
    }
   ],
   "source": [
    "list(range(5)) # 0부터 5 - 1까지 list 만들어주는 함수"
   ]
  },
  {
   "cell_type": "code",
   "execution_count": 13,
   "id": "fc4f4830-0263-4c05-9ff0-39d5fa52b455",
   "metadata": {},
   "outputs": [
    {
     "data": {
      "text/plain": [
       "5"
      ]
     },
     "execution_count": 13,
     "metadata": {},
     "output_type": "execute_result"
    }
   ],
   "source": [
    "len(fruits) #list fruits 요소의 개수"
   ]
  },
  {
   "cell_type": "code",
   "execution_count": 14,
   "id": "fa8cc129-774f-49ed-a453-73cf13faeebf",
   "metadata": {},
   "outputs": [
    {
     "name": "stdout",
     "output_type": "stream",
     "text": [
      "0번째 과일은 mango\n",
      "1번째 과일은 apple\n",
      "2번째 과일은 orange\n",
      "3번째 과일은 grape\n",
      "4번째 과일은 0\n"
     ]
    }
   ],
   "source": [
    "for i in range(len(fruits)): # 가능하지만 비추!!!!! -> enumerate 사용하기!!\n",
    "    print(\"{}번째 과일은 {}\".format(i, fruits[i])) "
   ]
  },
  {
   "cell_type": "code",
   "execution_count": 15,
   "id": "390b0caf-3576-4ef1-9609-8719141e3d73",
   "metadata": {},
   "outputs": [
    {
     "name": "stdout",
     "output_type": "stream",
     "text": [
      "0번째 과일은 mango\n",
      "1번째 과일은 apple\n",
      "2번째 과일은 orange\n",
      "3번째 과일은 grape\n",
      "4번째 과일은 0\n"
     ]
    }
   ],
   "source": [
    "# ★ 인덱스 필요하면 enumerate\n",
    "for idx, value in enumerate(fruits):\n",
    "    print(\"{}번째 과일은 {}\".format(idx, value))"
   ]
  },
  {
   "cell_type": "markdown",
   "id": "d8727402-7141-4f31-9ffb-da94c99f094a",
   "metadata": {},
   "source": [
    "## 1.2 기본정보 조회"
   ]
  },
  {
   "cell_type": "code",
   "execution_count": 16,
   "id": "8c6b9846-cc22-445f-a51d-2c50fda07f7b",
   "metadata": {},
   "outputs": [
    {
     "name": "stdout",
     "output_type": "stream",
     "text": [
      "요소의 수 :  5\n",
      "최소값 :  1\n",
      "최대값 :  5\n"
     ]
    }
   ],
   "source": [
    "numbers = [1,2,3,4,5]\n",
    "print(\"요소의 수 : \", len(numbers))\n",
    "print(\"최소값 : \", min(numbers))\n",
    "print(\"최대값 : \", max(numbers))"
   ]
  },
  {
   "cell_type": "markdown",
   "id": "974f75e0-cb29-417b-82b6-b2cbb5a91b69",
   "metadata": {},
   "source": [
    "## 1.3 요소 추가"
   ]
  },
  {
   "cell_type": "code",
   "execution_count": 17,
   "id": "61c9709b-9c96-4d8d-8367-202e455ee900",
   "metadata": {},
   "outputs": [],
   "source": [
    "# + : 두 리스트를 연결\n",
    "# 리스트*n : 리스트를 n만큼 반복\n",
    "# append() : 요소 뒤에 추가\n",
    "# extend() : 리스트의 요소별로 뒤에 추가"
   ]
  },
  {
   "cell_type": "code",
   "execution_count": 18,
   "id": "abe37e15-0954-4e31-9eb1-13e747bbfba4",
   "metadata": {},
   "outputs": [
    {
     "data": {
      "text/plain": [
       "[1, 2, 3, 1, 2, 3]"
      ]
     },
     "execution_count": 18,
     "metadata": {},
     "output_type": "execute_result"
    }
   ],
   "source": [
    "numbers = [1,2,3]\n",
    "numbers = numbers + numbers\n",
    "numbers"
   ]
  },
  {
   "cell_type": "code",
   "execution_count": 20,
   "id": "bdad8d02-50dc-4207-bd2f-a8af068d7554",
   "metadata": {},
   "outputs": [
    {
     "name": "stdout",
     "output_type": "stream",
     "text": [
      "[1, 2, 3, 1, 2, 3, 1, 2, 3]\n"
     ]
    }
   ],
   "source": [
    "numbers = [1,2,3]\n",
    "print(numbers * 3)"
   ]
  },
  {
   "cell_type": "code",
   "execution_count": 21,
   "id": "710c6b05-232f-4de6-b205-b1b434d9df0e",
   "metadata": {},
   "outputs": [
    {
     "name": "stdout",
     "output_type": "stream",
     "text": [
      "[1, 2, 3, 4]\n"
     ]
    }
   ],
   "source": [
    "numbers.append(4)\n",
    "print(numbers)"
   ]
  },
  {
   "cell_type": "code",
   "execution_count": 23,
   "id": "908a7bc7-4d33-4460-a4fa-a060fa5413ff",
   "metadata": {},
   "outputs": [
    {
     "name": "stdout",
     "output_type": "stream",
     "text": [
      "[1, 2, 3, 4, [5, 6]]\n"
     ]
    }
   ],
   "source": [
    "numbers = [1,2,3,4]\n",
    "num = [5,6]\n",
    "# numbers를 [1,2,3,4,5,6] vs [1,2,3,4,[5,6]]\n",
    "numbers.append(num)\n",
    "print(numbers)"
   ]
  },
  {
   "cell_type": "code",
   "execution_count": 25,
   "id": "28e2a371-5eae-4492-8141-94ab503ce9c2",
   "metadata": {},
   "outputs": [
    {
     "name": "stdout",
     "output_type": "stream",
     "text": [
      "[1, 2, 3, 4, 5, 6]\n"
     ]
    }
   ],
   "source": [
    "numbers = [1,2,3,4]\n",
    "num = [5,6]\n",
    "# numbers를 [1,2,3,4,5,6] vs [1,2,3,4,[5,6]]\n",
    "numbers.extend(num) # 근데 +를 많이씀...\n",
    "print(numbers)"
   ]
  },
  {
   "cell_type": "code",
   "execution_count": 26,
   "id": "c27e5894-c24d-4d9a-977a-bba0e6214a45",
   "metadata": {},
   "outputs": [
    {
     "name": "stdout",
     "output_type": "stream",
     "text": [
      "[1, 2, 3, 4, 'hello']\n"
     ]
    }
   ],
   "source": [
    "numbers = [1,2,3,4]\n",
    "numbers.append('hello')\n",
    "print(numbers)"
   ]
  },
  {
   "cell_type": "code",
   "execution_count": 27,
   "id": "57c4899a-6945-49bf-a990-87285b9e1401",
   "metadata": {},
   "outputs": [
    {
     "name": "stdout",
     "output_type": "stream",
     "text": [
      "[1, 2, 3, 4, 'h', 'e', 'l', 'l', 'o']\n"
     ]
    }
   ],
   "source": [
    "numbers = [1,2,3,4]\n",
    "numbers.extend('hello')\n",
    "print(numbers)"
   ]
  },
  {
   "cell_type": "markdown",
   "id": "58d9cd9f-d72e-48cd-828c-be99a8d934c8",
   "metadata": {},
   "source": [
    "## 1.4 인덱싱\n",
    "- index(찾고자하는 값, 1) : 찾고자하는 값을 1번 인덱스부터 찾아 그 위치를 반환.\n",
    "- count(찾고자하는 값) : 찾고자하는 값이 몇 번 나오는지 count"
   ]
  },
  {
   "cell_type": "code",
   "execution_count": 30,
   "id": "788dc1cf-e85a-4766-9ed2-8523af9e5427",
   "metadata": {},
   "outputs": [
    {
     "name": "stdout",
     "output_type": "stream",
     "text": [
      "2가 몇개인지 : 2\n",
      "4가 몇개인지 : 0\n"
     ]
    }
   ],
   "source": [
    "numbers = [1,2,3,[1,2,3],1,2,3]\n",
    "print(\"2가 몇개인지 : {}\".format(numbers.count(2)))\n",
    "print(\"4가 몇개인지 : {}\".format(numbers.count(4)))"
   ]
  },
  {
   "cell_type": "code",
   "execution_count": 32,
   "id": "132021f0-4c26-4664-9b37-e22c7bc653f8",
   "metadata": {},
   "outputs": [
    {
     "data": {
      "text/plain": [
       "True"
      ]
     },
     "execution_count": 32,
     "metadata": {},
     "output_type": "execute_result"
    }
   ],
   "source": [
    "2 in numbers # numbers 안에 2가 있는지 여부 T/F 반환"
   ]
  },
  {
   "cell_type": "code",
   "execution_count": 33,
   "id": "b54f20a1-4898-4c95-98af-4cfaa72baea9",
   "metadata": {},
   "outputs": [
    {
     "data": {
      "text/plain": [
       "5"
      ]
     },
     "execution_count": 33,
     "metadata": {},
     "output_type": "execute_result"
    }
   ],
   "source": [
    "numbers.index(2,3) # 3번쩨 인덱스부터 2가 처음 나오는 인덱스를 반환"
   ]
  },
  {
   "cell_type": "markdown",
   "id": "072e220d-da8a-4eba-90a2-d2a3ef0af727",
   "metadata": {},
   "source": [
    "## 1.5 리스트의 원하는 내용만 추출\n",
    "- 슬라이싱 [from:to:step] ; 원하는 인덱스의 값을 추출\n",
    "- 리스트 컴프리헨션을 이용 (람다 함수와 관련있음!) ; 원하는 데이터만 추출"
   ]
  },
  {
   "cell_type": "code",
   "execution_count": 34,
   "id": "0acc0190-c329-420e-af29-388dd42797dd",
   "metadata": {},
   "outputs": [
    {
     "data": {
      "text/plain": [
       "[20, 19, 18, 13, 12, 10, 9, 5, 3, 1]"
      ]
     },
     "execution_count": 34,
     "metadata": {},
     "output_type": "execute_result"
    }
   ],
   "source": [
    "numbers = [1,3,5,9,10,12,13,18,19,20]\n",
    "numbers[::-1]"
   ]
  },
  {
   "cell_type": "code",
   "execution_count": 35,
   "id": "f79e9bf2-2550-4ba9-9530-daa475db376b",
   "metadata": {},
   "outputs": [
    {
     "data": {
      "text/plain": [
       "[1, 5, 10, 13, 19]"
      ]
     },
     "execution_count": 35,
     "metadata": {},
     "output_type": "execute_result"
    }
   ],
   "source": [
    "numbers[::2] # 인덱스가 짝수인 값을 추출"
   ]
  },
  {
   "cell_type": "code",
   "execution_count": 38,
   "id": "11a8f03c-631f-4653-b772-a5050aee0f35",
   "metadata": {},
   "outputs": [
    {
     "name": "stdout",
     "output_type": "stream",
     "text": [
      "[10, 12, 18, 20]\n"
     ]
    }
   ],
   "source": [
    "# 깂이 짝수인 데이터만 추출 (리스트 컨프리헨션 안쓰는 경우)\n",
    "result = []\n",
    "for num in numbers:\n",
    "    if num % 2 == 0:\n",
    "        result.append(num)\n",
    "print(result)"
   ]
  },
  {
   "cell_type": "code",
   "execution_count": 41,
   "id": "cb8ce41b-afff-45e5-a9fa-40a1b72030f3",
   "metadata": {},
   "outputs": [
    {
     "data": {
      "text/plain": [
       "[10, 12, 18, 20]"
      ]
     },
     "execution_count": 41,
     "metadata": {},
     "output_type": "execute_result"
    }
   ],
   "source": [
    "# 리스트 컨프리헨션\n",
    "# for문을 돌면서 if문을 만족하는 num을 result에 저장\n",
    "result = [num for num in numbers if num % 2 == 0]\n",
    "result"
   ]
  },
  {
   "cell_type": "code",
   "execution_count": 46,
   "id": "e96bec7d-37cf-44a1-be01-de8fec674819",
   "metadata": {},
   "outputs": [
    {
     "data": {
      "text/plain": [
       "[1, 9, 25]"
      ]
     },
     "execution_count": 46,
     "metadata": {},
     "output_type": "execute_result"
    }
   ],
   "source": [
    "# numbers 리스트의 제곱값을 리스트로 생성하여라(컴프리헨션 이용)\n",
    "numbers = [1,3,5]\n",
    "result = [num**2 for num in numbers]\n",
    "result"
   ]
  },
  {
   "cell_type": "code",
   "execution_count": 48,
   "id": "c4daa67e-3723-4c4a-abbc-6b44b40f125a",
   "metadata": {},
   "outputs": [
    {
     "data": {
      "text/plain": [
       "['orange', 'apple', 'mango']"
      ]
     },
     "execution_count": 48,
     "metadata": {},
     "output_type": "execute_result"
    }
   ],
   "source": [
    "# 과일의 글자가 5글자 이상인 과일을 추출하세요\n",
    "fruits = ['orange', 'apple', 'mango', 'kiwi']\n",
    "[fruit for fruit in fruits if len(fruit) >= 5]"
   ]
  },
  {
   "cell_type": "code",
   "execution_count": 49,
   "id": "3eb223d1-452b-400f-8c0a-856352882b16",
   "metadata": {},
   "outputs": [
    {
     "data": {
      "text/plain": [
       "[6, 5, 5]"
      ]
     },
     "execution_count": 49,
     "metadata": {},
     "output_type": "execute_result"
    }
   ],
   "source": [
    "# 과일의 글자가 5글자 이상인 과일의 글자수를 추출하세요\n",
    "[len(fruit) for fruit in fruits if len(fruit) >= 5]"
   ]
  },
  {
   "cell_type": "markdown",
   "id": "bc7f5f3f-0e33-4b98-8616-4f37985b6f18",
   "metadata": {},
   "source": [
    "## 1.6 삭제하기\n",
    "- remove(data) : 해당 data가 제거 ; return 되지 않음\n",
    "- del 리스트변수[idx] : idx번째 요소 제거\n",
    "- pop() : 가장 마지막 인덱스 요소가 return 되고 삭제"
   ]
  },
  {
   "cell_type": "code",
   "execution_count": 53,
   "id": "9a8cb804-18ec-4250-8e76-b974e809c406",
   "metadata": {},
   "outputs": [
    {
     "name": "stdout",
     "output_type": "stream",
     "text": [
      "4\n",
      "[1, 2, 3]\n"
     ]
    }
   ],
   "source": [
    "numbers = [1,2,3,4]\n",
    "print(numbers.pop())\n",
    "print(numbers)"
   ]
  },
  {
   "cell_type": "code",
   "execution_count": 55,
   "id": "6c824b3c-9720-4d85-999a-6f1d78797f30",
   "metadata": {},
   "outputs": [
    {
     "name": "stdout",
     "output_type": "stream",
     "text": [
      "[2, 3]\n"
     ]
    }
   ],
   "source": [
    "numbers.remove(1)\n",
    "print(numbers)"
   ]
  },
  {
   "cell_type": "code",
   "execution_count": 58,
   "id": "540354e2-c12b-4e43-bf96-dc3fcc5141ab",
   "metadata": {},
   "outputs": [
    {
     "ename": "ValueError",
     "evalue": "list.remove(x): x not in list",
     "output_type": "error",
     "traceback": [
      "\u001b[1;31m---------------------------------------------------------------------------\u001b[0m",
      "\u001b[1;31mValueError\u001b[0m                                Traceback (most recent call last)",
      "Cell \u001b[1;32mIn[58], line 1\u001b[0m\n\u001b[1;32m----> 1\u001b[0m numbers\u001b[38;5;241m.\u001b[39mremove(\u001b[38;5;241m9\u001b[39m)\n",
      "\u001b[1;31mValueError\u001b[0m: list.remove(x): x not in list"
     ]
    }
   ],
   "source": [
    "numbers.remove(9) # 없는 데이터 remove시 error발생"
   ]
  },
  {
   "cell_type": "code",
   "execution_count": 59,
   "id": "af869448-896c-45e8-a3c4-d1c6c0b8a51d",
   "metadata": {},
   "outputs": [
    {
     "name": "stdout",
     "output_type": "stream",
     "text": [
      "[3]\n"
     ]
    }
   ],
   "source": [
    "del numbers[0] # 0번쩨 요소 없애기\n",
    "print(numbers)"
   ]
  },
  {
   "cell_type": "code",
   "execution_count": 60,
   "id": "536dff09-fcf2-42b9-bdbe-dd207e14ca5b",
   "metadata": {},
   "outputs": [],
   "source": [
    "del numbers # 리스트 자체를 없애기"
   ]
  },
  {
   "cell_type": "markdown",
   "id": "9d39c135-2aeb-496c-a391-b3ceee705c6a",
   "metadata": {},
   "source": [
    "## 1.7 정렬하기"
   ]
  },
  {
   "cell_type": "code",
   "execution_count": 63,
   "id": "461a432e-d0cd-42bf-a2f6-c959e7fdb62f",
   "metadata": {},
   "outputs": [
    {
     "data": {
      "text/plain": [
       "[1, 5, 5, 9, 10]"
      ]
     },
     "execution_count": 63,
     "metadata": {},
     "output_type": "execute_result"
    }
   ],
   "source": [
    "numbers = [9, 10, 1, 5, 5]\n",
    "numbers.sort() # 오름차순 정렬\n",
    "numbers"
   ]
  },
  {
   "cell_type": "code",
   "execution_count": 65,
   "id": "dcdd1510-4b23-4aff-8bce-31c2fb5345bf",
   "metadata": {},
   "outputs": [
    {
     "data": {
      "text/plain": [
       "[10, 9, 5, 5, 1]"
      ]
     },
     "execution_count": 65,
     "metadata": {},
     "output_type": "execute_result"
    }
   ],
   "source": [
    "numbers = [9, 10, 1, 5, 5]\n",
    "numbers.sort(reverse = True) # 내림차순 정렬\n",
    "numbers"
   ]
  },
  {
   "cell_type": "markdown",
   "id": "c58698fb-edb1-49d2-a173-3b11159f0ab9",
   "metadata": {},
   "source": [
    "## 1.8 리스트 복제"
   ]
  },
  {
   "cell_type": "code",
   "execution_count": 66,
   "id": "b8e14ea2-eaad-4e71-a16f-0c8f99c37a26",
   "metadata": {},
   "outputs": [
    {
     "name": "stdout",
     "output_type": "stream",
     "text": [
      "정렬 전 데이터 :  [1, 2, 6]\n",
      "정렬 후 데이터 :  [1, 2, 6]\n"
     ]
    }
   ],
   "source": [
    "numbers = [6,1,2]\n",
    "new_numbers = numbers # 얕은 복사 ; 주소값을 복사 : 인스턴트가 메모리에 새로 생성되지 않는다\n",
    "numbers.sort()\n",
    "print(\"정렬 전 데이터 : \", new_numbers)\n",
    "print(\"정렬 후 데이터 : \", numbers)\n",
    "# 이렇게 하면 다 바뀜... 깊은 복사 해야한다!"
   ]
  },
  {
   "cell_type": "code",
   "execution_count": 67,
   "id": "73f7d643-8fa3-4e59-98cb-47ea329e2623",
   "metadata": {},
   "outputs": [
    {
     "name": "stdout",
     "output_type": "stream",
     "text": [
      "정렬 전 데이터 :  [6, 1, 2]\n",
      "정렬 후 데이터 :  [1, 2, 6]\n"
     ]
    }
   ],
   "source": [
    "numbers = [6,1,2]\n",
    "new_numbers = numbers.copy() # 깊은 복사 ; 데이터 자체를 복사 : 복사된 두 객체는 완전히 독립적인 메모리를 차지한다.\n",
    "numbers.sort()\n",
    "print(\"정렬 전 데이터 : \", new_numbers)\n",
    "print(\"정렬 후 데이터 : \", numbers)"
   ]
  },
  {
   "cell_type": "markdown",
   "id": "4fed237a-8eaf-4413-85be-4176936cbadc",
   "metadata": {},
   "source": [
    "# 2절. 튜플\n",
    "- 리스트와 유사하지만 읽기 전용 (수정이 불가능!)\n",
    "- ()를 이용해서 생성"
   ]
  },
  {
   "cell_type": "code",
   "execution_count": 68,
   "id": "0f4bb807-2b1c-42dc-8aaf-9c12eec7adc3",
   "metadata": {},
   "outputs": [
    {
     "name": "stdout",
     "output_type": "stream",
     "text": [
      "<class 'tuple'>\n",
      "('서울', '부산', '광주', '대전')\n"
     ]
    }
   ],
   "source": [
    "city = ('서울', '부산', '광주', '대전')\n",
    "print(type(city))\n",
    "print(city)"
   ]
  },
  {
   "cell_type": "code",
   "execution_count": 69,
   "id": "567e7b9d-a228-4671-b030-3bb809875d4f",
   "metadata": {},
   "outputs": [
    {
     "data": {
      "text/plain": [
       "'서울~부산~광주~대전'"
      ]
     },
     "execution_count": 69,
     "metadata": {},
     "output_type": "execute_result"
    }
   ],
   "source": [
    "'~'.join(city)"
   ]
  },
  {
   "cell_type": "code",
   "execution_count": 70,
   "id": "37f0c167-87ac-4bd9-9fb7-5b40fd6dcec9",
   "metadata": {},
   "outputs": [
    {
     "data": {
      "text/plain": [
       "list"
      ]
     },
     "execution_count": 70,
     "metadata": {},
     "output_type": "execute_result"
    }
   ],
   "source": [
    "list_ = ['서울'] # 요소가 하나여도 list\n",
    "type(list_)"
   ]
  },
  {
   "cell_type": "code",
   "execution_count": 71,
   "id": "5d21dde2-a9cc-4c3c-bccc-d7c349e149e4",
   "metadata": {},
   "outputs": [
    {
     "data": {
      "text/plain": [
       "str"
      ]
     },
     "execution_count": 71,
     "metadata": {},
     "output_type": "execute_result"
    }
   ],
   "source": [
    "t = ('서울') # ??? \n",
    "type(t)"
   ]
  },
  {
   "cell_type": "code",
   "execution_count": 72,
   "id": "7b02dfe1-a354-43fd-8435-de1c8a875d8e",
   "metadata": {},
   "outputs": [
    {
     "data": {
      "text/plain": [
       "tuple"
      ]
     },
     "execution_count": 72,
     "metadata": {},
     "output_type": "execute_result"
    }
   ],
   "source": [
    "t = ('서울',) # 요소가 하나인 튜플은 컴마(,) 필수!\n",
    "type(t)"
   ]
  },
  {
   "cell_type": "markdown",
   "id": "c3792dfc-bbd0-4928-8872-5ecbf8a180d7",
   "metadata": {},
   "source": [
    "# 3절. 딕셔너리\n",
    "- 구조체와 유사 (c의 구조체와 다른점 : 함수 있음, 추가 가능)\n",
    "- {}를 이용해서 생성. key-value쌍으로 구성\n",
    "- value는 중복 가능하나 key는 중복 불가\n",
    "- index를 이용한 참조 불가 (index가 없음)"
   ]
  },
  {
   "cell_type": "code",
   "execution_count": 80,
   "id": "6d1c06b8-f118-4b5d-9258-1fd820552a42",
   "metadata": {},
   "outputs": [
    {
     "name": "stdout",
     "output_type": "stream",
     "text": [
      "<class 'dict'>\n",
      "{'name': '홍길동', 'address': '서울시 금천구'}\n"
     ]
    }
   ],
   "source": [
    "dic = {'name' : '홍길동', 'address' : '서울시 금천구'}\n",
    "print(type(dic))\n",
    "print(dic)"
   ]
  },
  {
   "cell_type": "code",
   "execution_count": 83,
   "id": "427eae17-76df-4b61-9c8e-40c475a4e19a",
   "metadata": {},
   "outputs": [
    {
     "data": {
      "text/plain": [
       "('홍길동', '서울시 금천구')"
      ]
     },
     "execution_count": 83,
     "metadata": {},
     "output_type": "execute_result"
    }
   ],
   "source": [
    "dic['name'], dic['address'] # 컴마(,) 연결하면 튜플로 인식"
   ]
  },
  {
   "cell_type": "code",
   "execution_count": 84,
   "id": "f81a598a-e7ac-4ba1-8183-35506d254699",
   "metadata": {},
   "outputs": [
    {
     "ename": "KeyError",
     "evalue": "'score'",
     "output_type": "error",
     "traceback": [
      "\u001b[1;31m---------------------------------------------------------------------------\u001b[0m",
      "\u001b[1;31mKeyError\u001b[0m                                  Traceback (most recent call last)",
      "Cell \u001b[1;32mIn[84], line 1\u001b[0m\n\u001b[1;32m----> 1\u001b[0m dic[\u001b[38;5;124m'\u001b[39m\u001b[38;5;124mscore\u001b[39m\u001b[38;5;124m'\u001b[39m]\n",
      "\u001b[1;31mKeyError\u001b[0m: 'score'"
     ]
    }
   ],
   "source": [
    "dic['score'] # 없으면 error"
   ]
  },
  {
   "cell_type": "code",
   "execution_count": 86,
   "id": "a45ee1b6-022b-4a9f-bcf1-30e451f2e6a0",
   "metadata": {},
   "outputs": [
    {
     "data": {
      "text/plain": [
       "('홍길동', '서울시 금천구', None)"
      ]
     },
     "execution_count": 86,
     "metadata": {},
     "output_type": "execute_result"
    }
   ],
   "source": [
    "dic.get('name'), dic.get('address'), dic.get('score') # .get()은 없으면 None으로"
   ]
  },
  {
   "cell_type": "code",
   "execution_count": 88,
   "id": "d3df55a3-066d-43b9-9373-25d9287ed674",
   "metadata": {},
   "outputs": [
    {
     "name": "stdout",
     "output_type": "stream",
     "text": [
      "{'name': '홍길동', 'address': '서울시 금천구', 'score': 100, 'sport': 'sleep'}\n"
     ]
    }
   ],
   "source": [
    "#수정 : 추가할 수 있다!\n",
    "dic['score'] = 100\n",
    "dic['sport'] = 'sleep'\n",
    "print(dic)"
   ]
  },
  {
   "cell_type": "code",
   "execution_count": 89,
   "id": "cc8bb1a4-eb65-4b9e-838e-4b0b900da472",
   "metadata": {},
   "outputs": [
    {
     "data": {
      "text/plain": [
       "'sleep'"
      ]
     },
     "execution_count": 89,
     "metadata": {},
     "output_type": "execute_result"
    }
   ],
   "source": [
    "# 제거 가능\n",
    "dic.pop('sport')"
   ]
  },
  {
   "cell_type": "code",
   "execution_count": 90,
   "id": "1451bbb3-b37f-4929-85e7-4c04deb251d8",
   "metadata": {},
   "outputs": [
    {
     "data": {
      "text/plain": [
       "{'name': '홍길동', 'address': '서울시 금천구', 'score': 100}"
      ]
     },
     "execution_count": 90,
     "metadata": {},
     "output_type": "execute_result"
    }
   ],
   "source": [
    "dic"
   ]
  },
  {
   "cell_type": "code",
   "execution_count": 92,
   "id": "f921859d-3c1f-4ca5-a436-330f7c13361a",
   "metadata": {},
   "outputs": [],
   "source": [
    "# for문 사용 방법 (리스트, 튜플과 달리 딕셔너리에는 index가 없는데...)"
   ]
  },
  {
   "cell_type": "code",
   "execution_count": 96,
   "id": "88548797-d442-49f5-a664-3f3e765f10a1",
   "metadata": {},
   "outputs": [
    {
     "name": "stdout",
     "output_type": "stream",
     "text": [
      "name\n",
      "address\n",
      "score\n",
      "0 name\n",
      "1 address\n",
      "2 score\n"
     ]
    }
   ],
   "source": [
    "# 리스트(튜플, 셋) 방식으로 for문 사용하면 key만 출력 (value를 출력하고 싶은데!!)\n",
    "for key in dic:  \n",
    "    print(key)\n",
    "\n",
    "for idx, value in enumerate(dic):\n",
    "    print(idx, value)"
   ]
  },
  {
   "cell_type": "code",
   "execution_count": 97,
   "id": "e6b017ac-1979-4d66-bb59-c42fb9a06e78",
   "metadata": {},
   "outputs": [
    {
     "data": {
      "text/plain": [
       "dict_keys(['name', 'address', 'score'])"
      ]
     },
     "execution_count": 97,
     "metadata": {},
     "output_type": "execute_result"
    }
   ],
   "source": [
    "dic.keys()"
   ]
  },
  {
   "cell_type": "code",
   "execution_count": 98,
   "id": "94fe4d23-4ed9-4022-81b6-6fe807cd7ce6",
   "metadata": {},
   "outputs": [
    {
     "data": {
      "text/plain": [
       "dict_values(['홍길동', '서울시 금천구', 100])"
      ]
     },
     "execution_count": 98,
     "metadata": {},
     "output_type": "execute_result"
    }
   ],
   "source": [
    "dic.values()"
   ]
  },
  {
   "cell_type": "code",
   "execution_count": 100,
   "id": "9f02d20f-581c-4a0d-ac24-130496807510",
   "metadata": {},
   "outputs": [
    {
     "data": {
      "text/plain": [
       "dict_items([('name', '홍길동'), ('address', '서울시 금천구'), ('score', 100)])"
      ]
     },
     "execution_count": 100,
     "metadata": {},
     "output_type": "execute_result"
    }
   ],
   "source": [
    "dic.items() # (key, value) 형식의 튜플들로 반환\n",
    "            # ★★★★★ for문에 items()를 사용!!"
   ]
  },
  {
   "cell_type": "code",
   "execution_count": 101,
   "id": "4ede2915-e18a-4b8a-adce-63817ec1171b",
   "metadata": {},
   "outputs": [
    {
     "name": "stdout",
     "output_type": "stream",
     "text": [
      "홍길동\n",
      "서울시 금천구\n",
      "100\n"
     ]
    }
   ],
   "source": [
    "for data in dic.values():\n",
    "    print(data)"
   ]
  },
  {
   "cell_type": "code",
   "execution_count": 103,
   "id": "6054e288-2e10-4426-bc4d-769543133e5b",
   "metadata": {},
   "outputs": [
    {
     "name": "stdout",
     "output_type": "stream",
     "text": [
      "name : 홍길동\n",
      "address : 서울시 금천구\n",
      "score : 100\n"
     ]
    }
   ],
   "source": [
    "for key, value in dic.items():\n",
    "    print(\"{} : {}\".format(key, value))"
   ]
  },
  {
   "cell_type": "code",
   "execution_count": 105,
   "id": "28b90955-c719-4d0e-96da-76ff8534bf24",
   "metadata": {},
   "outputs": [
    {
     "data": {
      "text/plain": [
       "True"
      ]
     },
     "execution_count": 105,
     "metadata": {},
     "output_type": "execute_result"
    }
   ],
   "source": [
    "li = ['a', 'b', 'c']\n",
    "'c' in li # li에 'c'가 있나? T/F"
   ]
  },
  {
   "cell_type": "code",
   "execution_count": 106,
   "id": "c1593456-bc1c-4dd5-917b-2a2a1bca5b54",
   "metadata": {},
   "outputs": [
    {
     "data": {
      "text/plain": [
       "True"
      ]
     },
     "execution_count": 106,
     "metadata": {},
     "output_type": "execute_result"
    }
   ],
   "source": [
    "dic = {'name' : '홍길동', 'score' : 100}\n",
    "'name' in dic"
   ]
  },
  {
   "cell_type": "code",
   "execution_count": 108,
   "id": "7a39f0da-542d-4f88-b87e-528d811834e3",
   "metadata": {},
   "outputs": [
    {
     "data": {
      "text/plain": [
       "False"
      ]
     },
     "execution_count": 108,
     "metadata": {},
     "output_type": "execute_result"
    }
   ],
   "source": [
    "'홍길동' in dic # 딕셔너리에서는 key값이 있는지를 의미(value X)"
   ]
  },
  {
   "cell_type": "code",
   "execution_count": 109,
   "id": "fa1c65ec-83ad-448e-8c19-15b2bb152b30",
   "metadata": {},
   "outputs": [
    {
     "data": {
      "text/plain": [
       "2"
      ]
     },
     "execution_count": 109,
     "metadata": {},
     "output_type": "execute_result"
    }
   ],
   "source": [
    "len(dic) # 데이터 개수"
   ]
  },
  {
   "cell_type": "markdown",
   "id": "79f602c1-82d1-4891-8749-2ff26aa08748",
   "metadata": {},
   "source": [
    "# 4절. 셋\n",
    "- 중복을 허용하지 않는 집합 (순서x = 인덱스x; but, enumuerate 사용 가능)\n",
    "- {}를 이용해서 정의"
   ]
  },
  {
   "cell_type": "code",
   "execution_count": 114,
   "id": "cf7a5dcd-c2c5-4f11-a383-b81764128d0f",
   "metadata": {},
   "outputs": [
    {
     "name": "stdout",
     "output_type": "stream",
     "text": [
      "{'banana', 0, 'apple', 'orange'}\n",
      "<class 'set'>\n"
     ]
    }
   ],
   "source": [
    "fruits = {'apple', 'orange', 'banana', 'banana', 0, 0} # 파이썬은 자료형 상관없음\n",
    "print(fruits)\n",
    "print(type(fruits))"
   ]
  },
  {
   "cell_type": "code",
   "execution_count": 115,
   "id": "09640a1b-7a84-40f1-986a-f359c6702239",
   "metadata": {},
   "outputs": [
    {
     "name": "stdout",
     "output_type": "stream",
     "text": [
      "{0, 'orange', 'kiwi', 'banana', 'apple'}\n"
     ]
    }
   ],
   "source": [
    "fruits.add('kiwi')\n",
    "print(fruits)"
   ]
  },
  {
   "cell_type": "code",
   "execution_count": 117,
   "id": "17303ac9-746a-447b-9a3c-fe41167d53c6",
   "metadata": {},
   "outputs": [
    {
     "name": "stdout",
     "output_type": "stream",
     "text": [
      "{0, 'orange', 'kiwi', 'banana', 'apple'}\n"
     ]
    }
   ],
   "source": [
    "fruits.add('banana') # 이미 존재하는 값은 추가되지 않음\n",
    "print(fruits)"
   ]
  },
  {
   "cell_type": "code",
   "execution_count": 120,
   "id": "a673a50c-879f-486a-b1a6-cb48332074df",
   "metadata": {},
   "outputs": [
    {
     "name": "stdout",
     "output_type": "stream",
     "text": [
      "0:0\n",
      "1:orange\n",
      "2:kiwi\n",
      "3:banana\n",
      "4:apple\n"
     ]
    }
   ],
   "source": [
    "for i, value in enumerate(fruits): # 입력 순서는 아님!\n",
    "    print(\"{}:{}\".format(i, value))"
   ]
  },
  {
   "cell_type": "code",
   "execution_count": 121,
   "id": "8ce9ecee-8e42-4bd9-a312-d81cedf0f96e",
   "metadata": {},
   "outputs": [
    {
     "name": "stdout",
     "output_type": "stream",
     "text": [
      "0\n",
      "orange\n",
      "kiwi\n",
      "banana\n",
      "apple\n"
     ]
    }
   ],
   "source": [
    "for data in fruits:\n",
    "    print(data)"
   ]
  },
  {
   "cell_type": "markdown",
   "id": "1a8d67a4-8c55-439f-ad10-f30a30afe005",
   "metadata": {},
   "source": [
    "# 5절. 연습문제"
   ]
  },
  {
   "cell_type": "code",
   "execution_count": 122,
   "id": "a3c47e64-1fa6-4174-bcc4-b9ed2abf53d8",
   "metadata": {},
   "outputs": [],
   "source": [
    "numbers = [1,2,3,4,5,6,7,8,9,10]"
   ]
  },
  {
   "cell_type": "code",
   "execution_count": 123,
   "id": "da5b66f8-0713-4379-8aaf-f19f4e88ab9c",
   "metadata": {},
   "outputs": [
    {
     "name": "stdout",
     "output_type": "stream",
     "text": [
      "[1, 2, 3, 4, 5, 6, 7, 8, 9, 10, 100]\n"
     ]
    }
   ],
   "source": [
    "# 1. 숫자 100을 맨 뒤에 추가하세요\n",
    "numbers.append(100)\n",
    "print(numbers)"
   ]
  },
  {
   "cell_type": "code",
   "execution_count": 124,
   "id": "13b3d530-0c7d-443a-a533-36fcb7a61630",
   "metadata": {},
   "outputs": [
    {
     "name": "stdout",
     "output_type": "stream",
     "text": [
      "[1, 2, 3, 4, 5, 6, 7, 8, 9, 10, 100, 200, 300, 400, 500]\n"
     ]
    }
   ],
   "source": [
    "# 2. 다음 리스트를 numbers리스트 맨 뒤에 추가하세요\n",
    "# data = [200, 300, 400, 500]\n",
    "data = [200, 300, 400, 500]\n",
    "numbers.extend(data)\n",
    "print(numbers)"
   ]
  },
  {
   "cell_type": "code",
   "execution_count": 126,
   "id": "90231339-334c-4bb7-8da3-3de246f6487e",
   "metadata": {},
   "outputs": [
    {
     "name": "stdout",
     "output_type": "stream",
     "text": [
      "[1, 2, 3, 4, 5]\n"
     ]
    }
   ],
   "source": [
    "# 3. 처음 다섯 개 숫자만 출력하세요\n",
    "print(numbers[:5])"
   ]
  },
  {
   "cell_type": "code",
   "execution_count": 129,
   "id": "85f32358-f95e-4588-8b75-d94e6265da72",
   "metadata": {},
   "outputs": [
    {
     "name": "stdout",
     "output_type": "stream",
     "text": [
      "[2, 4, 6, 8, 10, 200, 400]\n"
     ]
    }
   ],
   "source": [
    "# 4. 리스트에서 짝수 번째 데이터만 출력하세요\n",
    "print(numbers[1::2])"
   ]
  },
  {
   "cell_type": "code",
   "execution_count": 153,
   "id": "fe5daeab-cc5a-42cf-bdc1-1f150a516202",
   "metadata": {},
   "outputs": [
    {
     "data": {
      "text/plain": [
       "[1, 0, 3, 0, 5, 0, 7, 0, 9, 0, 100, 0, 300, 0, 500]"
      ]
     },
     "execution_count": 153,
     "metadata": {},
     "output_type": "execute_result"
    }
   ],
   "source": [
    "# 5. 짝수번째 데이터를 모두 0으로 바꾸세요\n",
    "numbers[1::2] = [0] * len(numbers[1::2])\n",
    "numbers"
   ]
  },
  {
   "cell_type": "code",
   "execution_count": 154,
   "id": "3fb86bdb-babd-437e-8fbf-7d44340b3cd7",
   "metadata": {},
   "outputs": [
    {
     "data": {
      "text/plain": [
       "[500, 0, 300, 0, 100, 0, 9, 0, 7, 0, 5, 0, 3, 0, 1]"
      ]
     },
     "execution_count": 154,
     "metadata": {},
     "output_type": "execute_result"
    }
   ],
   "source": [
    "# 6. 데이터를 역순으로 나열하세요(내림차순 정렬이 아닙니다)\n",
    "numbers[::-1]"
   ]
  },
  {
   "cell_type": "code",
   "execution_count": 133,
   "id": "d8bc9c84-fd84-489d-9e12-31c645d9d5f2",
   "metadata": {},
   "outputs": [],
   "source": [
    "# 다음 딕셔너리 데이터가 주어졌을 경우 요구사항대로 코드를 작성하세요.\n",
    "# member = {'name':\"홍길동\",\"age\":20,\"address\":\"서울시 금천구\", 'score':90}\n",
    "member = {'name':\"홍길동\",\"age\":20,\"address\":\"서울시 금천구\", 'score':90}"
   ]
  },
  {
   "cell_type": "code",
   "execution_count": 136,
   "id": "bf0bbbd3-84e6-4a87-8827-9e3761fe71d9",
   "metadata": {},
   "outputs": [
    {
     "name": "stdout",
     "output_type": "stream",
     "text": [
      "서울시 금천구\n"
     ]
    }
   ],
   "source": [
    "# 7. address값을 출력하세요\n",
    "print(member['address'])"
   ]
  },
  {
   "cell_type": "code",
   "execution_count": 137,
   "id": "1e53b657-b7a6-4e24-bcd4-48038950ff32",
   "metadata": {},
   "outputs": [
    {
     "data": {
      "text/plain": [
       "90"
      ]
     },
     "execution_count": 137,
     "metadata": {},
     "output_type": "execute_result"
    }
   ],
   "source": [
    "# 8. score 를 출력하고 member 딕셔너리에서 삭제하세요.\n",
    "member.pop('score')"
   ]
  },
  {
   "cell_type": "code",
   "execution_count": 141,
   "id": "04bc949f-8397-4a4a-a07b-c4e92a635cf3",
   "metadata": {},
   "outputs": [
    {
     "data": {
      "text/plain": [
       "{'name': '홍길동', 'age': 20, 'address': '서울시 금천구'}"
      ]
     },
     "execution_count": 141,
     "metadata": {},
     "output_type": "execute_result"
    }
   ],
   "source": [
    "member"
   ]
  },
  {
   "cell_type": "code",
   "execution_count": 142,
   "id": "e09e19ab-27a5-4155-a84a-4325bfd0ef6c",
   "metadata": {},
   "outputs": [],
   "source": [
    "# 9. address를 '서울시 서대문구'로 변경하세요.\n",
    "member['address'] = '서울시 서대문구'"
   ]
  },
  {
   "cell_type": "code",
   "execution_count": 143,
   "id": "81eab2c0-8961-4fc3-8217-f3a822965df7",
   "metadata": {},
   "outputs": [
    {
     "data": {
      "text/plain": [
       "{'name': '홍길동', 'age': 20, 'address': '서울시 서대문구'}"
      ]
     },
     "execution_count": 143,
     "metadata": {},
     "output_type": "execute_result"
    }
   ],
   "source": [
    "member"
   ]
  },
  {
   "cell_type": "code",
   "execution_count": 149,
   "id": "3b69047d-fc07-4bd3-a266-bbef1a55a7e2",
   "metadata": {},
   "outputs": [
    {
     "data": {
      "text/plain": [
       "['홍길동', 20, '서울시 서대문구']"
      ]
     },
     "execution_count": 149,
     "metadata": {},
     "output_type": "execute_result"
    }
   ],
   "source": [
    "# 10. member 딕셔너리 데이터의 값을 리스트로 출력하세요\n",
    "list(member.values())"
   ]
  },
  {
   "cell_type": "code",
   "execution_count": null,
   "id": "11dc68c4-6858-4900-8cf6-9770b37728c1",
   "metadata": {},
   "outputs": [],
   "source": []
  }
 ],
 "metadata": {
  "kernelspec": {
   "display_name": "Python 3 (ipykernel)",
   "language": "python",
   "name": "python3"
  },
  "language_info": {
   "codemirror_mode": {
    "name": "ipython",
    "version": 3
   },
   "file_extension": ".py",
   "mimetype": "text/x-python",
   "name": "python",
   "nbconvert_exporter": "python",
   "pygments_lexer": "ipython3",
   "version": "3.11.7"
  }
 },
 "nbformat": 4,
 "nbformat_minor": 5
}
