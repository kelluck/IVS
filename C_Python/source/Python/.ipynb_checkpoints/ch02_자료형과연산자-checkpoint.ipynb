{
 "cells": [
  {
   "cell_type": "markdown",
   "id": "9aa5c043-d2a7-46f4-87ab-b4679b7a5254",
   "metadata": {},
   "source": [
    "# 1절. 변수\n",
    "## 1.1 변수선언\n",
    "    - 별도의 변수 선언과정 없음\n",
    "## 1.2 변수 할당\n",
    "    - 대입연산자(=) 사용"
   ]
  },
  {
   "cell_type": "code",
   "execution_count": 3,
   "id": "47b8be48-7c7b-4253-92ef-5a9a70b15e93",
   "metadata": {},
   "outputs": [
    {
     "name": "stdout",
     "output_type": "stream",
     "text": [
      "제공되는 pi값은 3.141592653589793\n",
      "계산된 넓이는 78.53981633974483\n",
      "area 타입은 <class 'float'>\n",
      "area 주소는 2462405071696\n"
     ]
    }
   ],
   "source": [
    "# C언어\n",
    "# #include <stdio.h>\n",
    "# printf()\n",
    "\n",
    "# <파이썬에서 예시>\n",
    "# import stdio.h as std <- stdio.h를 std로\n",
    "# std.printf()\n",
    "\n",
    "import numpy as np\n",
    "print(\"제공되는 pi값은\", np.pi)\n",
    "r = 5\n",
    "area = np.pi * r * r\n",
    "# printf(\"계산된 넓이는 %lf\", area); <- c\n",
    "print(\"계산된 넓이는\", area)\n",
    "print(\"area 타입은\", type(area))\n",
    "print(\"area 주소는\", id(area))"
   ]
  },
  {
   "cell_type": "code",
   "execution_count": 5,
   "id": "2cc25e95-75ab-40f4-b56c-66179f71a2e2",
   "metadata": {},
   "outputs": [
    {
     "name": "stdout",
     "output_type": "stream",
     "text": [
      "area 값은 10\n",
      "area 타입은 <class 'int'>\n",
      "area 주소는 140720999285832\n"
     ]
    }
   ],
   "source": [
    "area = 10 # 새로 할당할 때마다 새로운 메모리 공간에 값을 할당 \n",
    "print(\"area 값은\", area)\n",
    "print(\"area 타입은\", type(area))\n",
    "print(\"area 주소는\", id(area)) "
   ]
  },
  {
   "cell_type": "code",
   "execution_count": 6,
   "id": "c4d3bdf4-af65-4bd2-b7b9-72965d7604f5",
   "metadata": {},
   "outputs": [
    {
     "name": "stdout",
     "output_type": "stream",
     "text": [
      "area 값은 파이썬은 좋아요\n",
      "area 타입은 <class 'str'>\n",
      "area 주소는 2462405211984\n"
     ]
    }
   ],
   "source": [
    "area = \"파이썬은 좋아요\"\n",
    "print(\"area 값은\", area)\n",
    "print(\"area 타입은\", type(area))\n",
    "print(\"area 주소는\", id(area)) "
   ]
  },
  {
   "cell_type": "markdown",
   "id": "536562c3-7869-479e-a261-6407425a2fd2",
   "metadata": {},
   "source": [
    "## 1.3 변수이름 규칙\n",
    "    - 문자(특수문자는 _제외하고 안됨), 숫자, _로 명명.\n",
    "    - 문자로 시작\n",
    "    - 파이썬에서 제공되는 기본 함수명은 피하자. 꼭 써야한다면 int_ 식으로 _를 붙임\n",
    "    - 파이썬 예약어는 변수명 불가(ex. if)"
   ]
  },
  {
   "cell_type": "code",
   "execution_count": 7,
   "id": "dc95c36b-c8ec-491a-bb47-decc521f7f8d",
   "metadata": {},
   "outputs": [
    {
     "data": {
      "text/plain": [
       "'북한'"
      ]
     },
     "execution_count": 7,
     "metadata": {},
     "output_type": "execute_result"
    }
   ],
   "source": [
    "불용어 = \"북한\"\n",
    "불용어"
   ]
  },
  {
   "cell_type": "code",
   "execution_count": 8,
   "id": "19b5c71b-f084-4020-bee4-0779b0d61032",
   "metadata": {},
   "outputs": [
    {
     "name": "stdout",
     "output_type": "stream",
     "text": [
      "북한\n"
     ]
    }
   ],
   "source": [
    "print(불용어)"
   ]
  },
  {
   "cell_type": "code",
   "execution_count": 9,
   "id": "23feb7f7-2dab-4bd9-afa6-d6a87fdd3275",
   "metadata": {},
   "outputs": [],
   "source": [
    "# 파이썬 변수는 함수 할당 -> print사용 불가\n",
    "print = 5"
   ]
  },
  {
   "cell_type": "code",
   "execution_count": 10,
   "id": "e0944972-e3e0-4524-a79c-158d426c1ae3",
   "metadata": {},
   "outputs": [
    {
     "ename": "TypeError",
     "evalue": "'int' object is not callable",
     "output_type": "error",
     "traceback": [
      "\u001b[1;31m---------------------------------------------------------------------------\u001b[0m",
      "\u001b[1;31mTypeError\u001b[0m                                 Traceback (most recent call last)",
      "Cell \u001b[1;32mIn[10], line 1\u001b[0m\n\u001b[1;32m----> 1\u001b[0m \u001b[38;5;28mprint\u001b[39m(불용어)\n",
      "\u001b[1;31mTypeError\u001b[0m: 'int' object is not callable"
     ]
    }
   ],
   "source": [
    "print(불용어)"
   ]
  },
  {
   "cell_type": "code",
   "execution_count": 11,
   "id": "d01be461-fccf-47ad-9300-62296c845dc2",
   "metadata": {},
   "outputs": [],
   "source": [
    "#print 변수 삭제 -> 다시 print 사용가능\n",
    "del print"
   ]
  },
  {
   "cell_type": "code",
   "execution_count": 12,
   "id": "734ac35c-fe7f-41ab-bd5b-802706e55ced",
   "metadata": {},
   "outputs": [
    {
     "name": "stdout",
     "output_type": "stream",
     "text": [
      "북한\n"
     ]
    }
   ],
   "source": [
    "print(불용어)"
   ]
  },
  {
   "cell_type": "code",
   "execution_count": 13,
   "id": "84126c84-9268-4c17-86d6-adc70f0b1e2a",
   "metadata": {},
   "outputs": [
    {
     "data": {
      "text/plain": [
       "complex"
      ]
     },
     "execution_count": 13,
     "metadata": {},
     "output_type": "execute_result"
    }
   ],
   "source": [
    "i = 3 + 3j #복소수\n",
    "type(i)"
   ]
  },
  {
   "cell_type": "code",
   "execution_count": 17,
   "id": "ecdf6b4f-4f93-4248-ba07-0fcf36aa5dba",
   "metadata": {},
   "outputs": [
    {
     "data": {
      "text/plain": [
       "(10, 20)"
      ]
     },
     "execution_count": 17,
     "metadata": {},
     "output_type": "execute_result"
    }
   ],
   "source": [
    "a = 10\n",
    "b = 20\n",
    "a, b"
   ]
  },
  {
   "cell_type": "code",
   "execution_count": 20,
   "id": "ab46d2c4-f422-4a1f-9635-f79887cd51ed",
   "metadata": {},
   "outputs": [
    {
     "data": {
      "text/plain": [
       "(10, 20)"
      ]
     },
     "execution_count": 20,
     "metadata": {},
     "output_type": "execute_result"
    }
   ],
   "source": [
    "a, b = 10, 20 # 다중 선언\n",
    "a, b"
   ]
  },
  {
   "cell_type": "code",
   "execution_count": 22,
   "id": "1f0ce5dd-6a77-448a-b1ad-5573dd9a643d",
   "metadata": {},
   "outputs": [
    {
     "name": "stdout",
     "output_type": "stream",
     "text": [
      "a= 30 \tb= 50\n"
     ]
    }
   ],
   "source": [
    "a, b = b, a + b # 다중 선언; 병렬로 같이 들어감 (20, 40이 아니라 20, 30)\n",
    "print('a=',a,'\\tb=',b)"
   ]
  },
  {
   "cell_type": "markdown",
   "id": "83444a18-7055-4498-9aa2-f9fc9ec7d520",
   "metadata": {},
   "source": [
    "## 1.4 도움말"
   ]
  },
  {
   "cell_type": "code",
   "execution_count": 23,
   "id": "fbee853b-497f-47bc-a369-39c30ff72cbd",
   "metadata": {},
   "outputs": [
    {
     "name": "stdout",
     "output_type": "stream",
     "text": [
      "Help on built-in function print in module builtins:\n",
      "\n",
      "print(*args, sep=' ', end='\\n', file=None, flush=False)\n",
      "    Prints the values to a stream, or to sys.stdout by default.\n",
      "    \n",
      "    sep\n",
      "      string inserted between values, default a space.\n",
      "    end\n",
      "      string appended after the last value, default a newline.\n",
      "    file\n",
      "      a file-like object (stream); defaults to the current sys.stdout.\n",
      "    flush\n",
      "      whether to forcibly flush the stream.\n",
      "\n"
     ]
    }
   ],
   "source": [
    "help(print)"
   ]
  },
  {
   "cell_type": "code",
   "execution_count": 24,
   "id": "b24f91a2-8890-4dee-9e02-21068a105d51",
   "metadata": {},
   "outputs": [
    {
     "data": {
      "text/plain": [
       "\u001b[1;31mSignature:\u001b[0m \u001b[0mprint\u001b[0m\u001b[1;33m(\u001b[0m\u001b[1;33m*\u001b[0m\u001b[0margs\u001b[0m\u001b[1;33m,\u001b[0m \u001b[0msep\u001b[0m\u001b[1;33m=\u001b[0m\u001b[1;34m' '\u001b[0m\u001b[1;33m,\u001b[0m \u001b[0mend\u001b[0m\u001b[1;33m=\u001b[0m\u001b[1;34m'\\n'\u001b[0m\u001b[1;33m,\u001b[0m \u001b[0mfile\u001b[0m\u001b[1;33m=\u001b[0m\u001b[1;32mNone\u001b[0m\u001b[1;33m,\u001b[0m \u001b[0mflush\u001b[0m\u001b[1;33m=\u001b[0m\u001b[1;32mFalse\u001b[0m\u001b[1;33m)\u001b[0m\u001b[1;33m\u001b[0m\u001b[1;33m\u001b[0m\u001b[0m\n",
       "\u001b[1;31mDocstring:\u001b[0m\n",
       "Prints the values to a stream, or to sys.stdout by default.\n",
       "\n",
       "sep\n",
       "  string inserted between values, default a space.\n",
       "end\n",
       "  string appended after the last value, default a newline.\n",
       "file\n",
       "  a file-like object (stream); defaults to the current sys.stdout.\n",
       "flush\n",
       "  whether to forcibly flush the stream.\n",
       "\u001b[1;31mType:\u001b[0m      builtin_function_or_method"
      ]
     },
     "metadata": {},
     "output_type": "display_data"
    }
   ],
   "source": [
    "print?"
   ]
  },
  {
   "cell_type": "code",
   "execution_count": 25,
   "id": "55a9bf27-e9e6-45d0-ab61-cd82aa9f29ab",
   "metadata": {},
   "outputs": [
    {
     "name": "stdout",
     "output_type": "stream",
     "text": [
      "a~b\n"
     ]
    }
   ],
   "source": [
    "# 도움말 기능 함수내에서 shift+tap 키\n",
    "print('a', 'b', sep='~')"
   ]
  },
  {
   "cell_type": "code",
   "execution_count": 26,
   "id": "6a0a734f-f631-46e9-8263-8c575b716c81",
   "metadata": {},
   "outputs": [],
   "source": [
    "#y의 default값은 0\n",
    "def make_number(x, y=0) :\n",
    "    \"\"\"doc string(함수의 도움말)\n",
    "    매개 변수 2개를 이용해서 2자리 정수를 만들어요\n",
    "    x = 10의 자리수\n",
    "    y = 1의 자리수 (default값 0)\n",
    "    \"\"\"\n",
    "    return x * 10 + y\n"
   ]
  },
  {
   "cell_type": "code",
   "execution_count": 27,
   "id": "6632f134-2f27-4de2-898a-ad3601d521f6",
   "metadata": {},
   "outputs": [
    {
     "data": {
      "text/plain": [
       "32"
      ]
     },
     "execution_count": 27,
     "metadata": {},
     "output_type": "execute_result"
    }
   ],
   "source": [
    "make_number(3, 2)"
   ]
  },
  {
   "cell_type": "code",
   "execution_count": 28,
   "id": "7ed8e3cf-e587-4b9a-9a1c-ab75288f0617",
   "metadata": {},
   "outputs": [
    {
     "data": {
      "text/plain": [
       "50"
      ]
     },
     "execution_count": 28,
     "metadata": {},
     "output_type": "execute_result"
    }
   ],
   "source": [
    "make_number(5)"
   ]
  },
  {
   "cell_type": "code",
   "execution_count": 29,
   "id": "1eb6a2b3-69b8-43f0-a72d-0efa23220e17",
   "metadata": {},
   "outputs": [],
   "source": [
    "make = make_number # 함수를 변수에 할당"
   ]
  },
  {
   "cell_type": "code",
   "execution_count": 31,
   "id": "83f2b310-9c18-4c41-ab9d-1efb760cf180",
   "metadata": {},
   "outputs": [
    {
     "data": {
      "text/plain": [
       "60"
      ]
     },
     "execution_count": 31,
     "metadata": {},
     "output_type": "execute_result"
    }
   ],
   "source": [
    "make(6)"
   ]
  },
  {
   "cell_type": "markdown",
   "id": "aaae972c-6a63-4e08-a269-b9c6e7340411",
   "metadata": {},
   "source": [
    "## 1.5 변수 삭제"
   ]
  },
  {
   "cell_type": "code",
   "execution_count": 32,
   "id": "1566e9ea-4152-4114-bce7-10485f7c6c58",
   "metadata": {},
   "outputs": [],
   "source": [
    "del make"
   ]
  },
  {
   "cell_type": "code",
   "execution_count": 33,
   "id": "910b6baf-b465-48fc-b043-b6dd2a509ad3",
   "metadata": {},
   "outputs": [
    {
     "ename": "NameError",
     "evalue": "name 'make' is not defined",
     "output_type": "error",
     "traceback": [
      "\u001b[1;31m---------------------------------------------------------------------------\u001b[0m",
      "\u001b[1;31mNameError\u001b[0m                                 Traceback (most recent call last)",
      "Cell \u001b[1;32mIn[33], line 1\u001b[0m\n\u001b[1;32m----> 1\u001b[0m make(\u001b[38;5;241m6\u001b[39m)\n",
      "\u001b[1;31mNameError\u001b[0m: name 'make' is not defined"
     ]
    }
   ],
   "source": [
    "make(6)"
   ]
  },
  {
   "cell_type": "markdown",
   "id": "9f71d22f-3230-4435-b198-df00d21c4bbb",
   "metadata": {},
   "source": [
    "# 2절. 화면 I/O"
   ]
  },
  {
   "cell_type": "code",
   "execution_count": 34,
   "id": "a4a2afae-1588-461d-9ff7-a5932a27fcf3",
   "metadata": {},
   "outputs": [
    {
     "name": "stdin",
     "output_type": "stream",
     "text": [
      "첫 번째 숫자는?  30\n",
      "두 번째 숫자는?  41\n"
     ]
    }
   ],
   "source": [
    "first = input(\"첫 번째 숫자는? \") # 문자로 return\n",
    "second = input(\"두 번째 숫자는? \")"
   ]
  },
  {
   "cell_type": "code",
   "execution_count": 35,
   "id": "7fd83ac7-4d45-4d4f-ae39-8243ec78cfc1",
   "metadata": {},
   "outputs": [
    {
     "name": "stdout",
     "output_type": "stream",
     "text": [
      "두 수의 합은 3041\n"
     ]
    }
   ],
   "source": [
    "print(\"두 수의 합은 {}\".format(first + second)) # 문자 + 문자"
   ]
  },
  {
   "cell_type": "code",
   "execution_count": 36,
   "id": "0a2fff98-6d36-4f35-986e-369232670882",
   "metadata": {},
   "outputs": [
    {
     "name": "stdin",
     "output_type": "stream",
     "text": [
      "첫 번째 숫자는?  40\n",
      "두 번째 숫자는?  10\n"
     ]
    },
    {
     "name": "stdout",
     "output_type": "stream",
     "text": [
      "두 수의 합은 50\n"
     ]
    }
   ],
   "source": [
    "first = int(input(\"첫 번째 숫자는? \")) # 숫자로 return\n",
    "second = int(input(\"두 번째 숫자는? \"))\n",
    "print(\"두 수의 합은 {}\".format(first + second))"
   ]
  },
  {
   "cell_type": "code",
   "execution_count": 39,
   "id": "db3937c6-18c2-4fd5-8aeb-fac71ef33037",
   "metadata": {},
   "outputs": [
    {
     "name": "stdout",
     "output_type": "stream",
     "text": [
      "Hello~world\tHello Python\n"
     ]
    }
   ],
   "source": [
    "print('Hello', 'world', sep='~', end='\\t')\n",
    "print('Hello', 'Python')"
   ]
  },
  {
   "cell_type": "markdown",
   "id": "3fd995ec-cfc9-49e4-8e1e-3ae9b289f9f3",
   "metadata": {},
   "source": [
    "# 3. 기본 자료형\n",
    "    - 숫자 : int, float, complex\n",
    "    - 문자 : str\n",
    "    - 논리 : bool\n",
    "    파이썬은 타입을 지칭하는 키워드가 없고, 변수 할당 시 타입이 정해짐"
   ]
  },
  {
   "cell_type": "markdown",
   "id": "75f121bf-e239-4acb-938d-b9cad110b7b5",
   "metadata": {},
   "source": [
    "## 3.1 숫자형"
   ]
  },
  {
   "cell_type": "code",
   "execution_count": 41,
   "id": "a8326bc9-09c1-4052-a840-91cf918b7511",
   "metadata": {},
   "outputs": [
    {
     "name": "stdout",
     "output_type": "stream",
     "text": [
      "9223372036854775807\n"
     ]
    }
   ],
   "source": [
    "import sys\n",
    "print(sys.maxsize) # 모든 크기의 정수를 다 처리 가능"
   ]
  },
  {
   "cell_type": "code",
   "execution_count": 43,
   "id": "bbea4667-e9d7-44b3-89cc-7dddda6f5006",
   "metadata": {},
   "outputs": [
    {
     "name": "stdout",
     "output_type": "stream",
     "text": [
      "값:9223372036854775817 / 주소:2462480588000\n",
      "<class 'int'>\n"
     ]
    }
   ],
   "source": [
    "a = sys.maxsize + 10 # maxsize보다 커도 처리 가능\n",
    "print('값:{} / 주소:{}'.format(a, id(a)))\n",
    "print(type(a))"
   ]
  },
  {
   "cell_type": "code",
   "execution_count": 44,
   "id": "6f7872e4-54b6-4673-b0ac-6ef28ed5740a",
   "metadata": {},
   "outputs": [
    {
     "name": "stdout",
     "output_type": "stream",
     "text": [
      "값:1 / 주소:140720999285544\n",
      "<class 'int'>\n"
     ]
    }
   ],
   "source": [
    "a = 1\n",
    "print('값:{} / 주소:{}'.format(a, id(a)))\n",
    "print(type(a))"
   ]
  },
  {
   "cell_type": "code",
   "execution_count": 45,
   "id": "0d1d749a-964f-4a54-9abd-e94661e26e63",
   "metadata": {},
   "outputs": [
    {
     "name": "stdout",
     "output_type": "stream",
     "text": [
      "값:1.5 / 주소:2462439307664\n",
      "<class 'float'>\n"
     ]
    }
   ],
   "source": [
    "a = 3/2 # 정수형/정수형 => 실수형 (4/2도 2.0으로 나옴)\n",
    "print('값:{} / 주소:{}'.format(a, id(a)))\n",
    "print(type(a))"
   ]
  },
  {
   "cell_type": "code",
   "execution_count": 48,
   "id": "7024c19f-eabe-4396-ae5a-7b0fda1f318f",
   "metadata": {},
   "outputs": [
    {
     "name": "stdout",
     "output_type": "stream",
     "text": [
      "값:1 / 주소:140720999285544\n",
      "<class 'int'>\n"
     ]
    }
   ],
   "source": [
    "# C언어 처럼 처리하려면\n",
    "a = int(3/2) #명시적 형변환\n",
    "a = 3 // 2 #몫 연산자\n",
    "print('값:{} / 주소:{}'.format(a, id(a)))\n",
    "print(type(a))"
   ]
  },
  {
   "cell_type": "code",
   "execution_count": 49,
   "id": "2f1088ae-a10e-4ace-85e3-7ab205e6a26e",
   "metadata": {},
   "outputs": [
    {
     "name": "stdout",
     "output_type": "stream",
     "text": [
      "1.12e+20\n",
      "1.12e-20\n"
     ]
    }
   ],
   "source": [
    "f = 1.12e20 # 1.12 x 10의 20제곱\n",
    "print(f)\n",
    "f = 1.12e-20 # 1.12 x 10의 -20제곱\n",
    "print(f)"
   ]
  },
  {
   "cell_type": "markdown",
   "id": "86494b8e-60d6-47b5-bc09-6356f9e09fc0",
   "metadata": {},
   "source": [
    "## 3.2 문자형"
   ]
  },
  {
   "cell_type": "code",
   "execution_count": 51,
   "id": "51908694-8f86-4740-8f06-6eb6af974983",
   "metadata": {},
   "outputs": [
    {
     "name": "stdout",
     "output_type": "stream",
     "text": [
      "홍길동'님'\n"
     ]
    }
   ],
   "source": [
    "name = \"홍길동'님'\"\n",
    "print(name)"
   ]
  },
  {
   "cell_type": "code",
   "execution_count": 52,
   "id": "5bb94037-d4bc-44e5-9598-edd803f72925",
   "metadata": {},
   "outputs": [
    {
     "name": "stdout",
     "output_type": "stream",
     "text": [
      "홍길동\"님\"\n"
     ]
    }
   ],
   "source": [
    "name = '홍길동\"님\"'\n",
    "print(name)"
   ]
  },
  {
   "cell_type": "code",
   "execution_count": 53,
   "id": "cbd6af96-bd95-4ce7-960c-58b95bc85f0a",
   "metadata": {},
   "outputs": [
    {
     "name": "stdout",
     "output_type": "stream",
     "text": [
      "홍길동\"님\" 서울시 \"금천구\" 가산디지털1로\n"
     ]
    }
   ],
   "source": [
    "address = \"서울시 \\\"금천구\\\" \\\n",
    "가산디지털1로\"\n",
    "# \\는 다음줄로 계속\n",
    "print(name, address)"
   ]
  },
  {
   "cell_type": "code",
   "execution_count": 54,
   "id": "aeb2d71d-ae41-4059-bd21-cda40c17f643",
   "metadata": {},
   "outputs": [
    {
     "name": "stdout",
     "output_type": "stream",
     "text": [
      "안녕하세요\n",
      "홍길동입니다\n",
      "반갑습니다\n"
     ]
    }
   ],
   "source": [
    "text = \"안녕하세요\\n홍길동입니다\\n반갑습니다\"\n",
    "print(text)"
   ]
  },
  {
   "cell_type": "code",
   "execution_count": 55,
   "id": "b345fb30-5d83-423c-80e7-4aea7bc32f7e",
   "metadata": {},
   "outputs": [
    {
     "name": "stdout",
     "output_type": "stream",
     "text": [
      "안녕하세요\n",
      "홍길동입니다\n",
      "반갑습니다\n",
      "\n"
     ]
    }
   ],
   "source": [
    "text = \"\"\"안녕하세요\n",
    "홍길동입니다\n",
    "반갑습니다\n",
    "\"\"\"\n",
    "\n",
    "print(text)"
   ]
  },
  {
   "cell_type": "code",
   "execution_count": 56,
   "id": "fdedaf8e-3922-4094-8d81-587bdd7aee6b",
   "metadata": {},
   "outputs": [],
   "source": [
    "# 문자열 슬라이싱"
   ]
  },
  {
   "cell_type": "code",
   "execution_count": 58,
   "id": "15fe7beb-99f2-40a0-a470-1ab0ebfaab34",
   "metadata": {},
   "outputs": [
    {
     "data": {
      "text/plain": [
       "'100'"
      ]
     },
     "execution_count": 58,
     "metadata": {},
     "output_type": "execute_result"
    }
   ],
   "source": [
    "str(100) # 숫자를 문자로 바꾸는 함수"
   ]
  },
  {
   "cell_type": "code",
   "execution_count": 59,
   "id": "3cc44a07-1314-43e1-9607-ef63e8b0e8fd",
   "metadata": {},
   "outputs": [
    {
     "data": {
      "text/plain": [
       "'0123456789'"
      ]
     },
     "execution_count": 59,
     "metadata": {},
     "output_type": "execute_result"
    }
   ],
   "source": [
    "str_ = \"0123456789\"\n",
    "str_"
   ]
  },
  {
   "cell_type": "code",
   "execution_count": 60,
   "id": "109bb497-316b-47c1-bc94-4b07b7edcb69",
   "metadata": {},
   "outputs": [
    {
     "data": {
      "text/plain": [
       "'0'"
      ]
     },
     "execution_count": 60,
     "metadata": {},
     "output_type": "execute_result"
    }
   ],
   "source": [
    "str_[0]"
   ]
  },
  {
   "cell_type": "code",
   "execution_count": 61,
   "id": "01364a70-bf7d-45a7-9beb-f60a50cc8508",
   "metadata": {},
   "outputs": [
    {
     "data": {
      "text/plain": [
       "'012'"
      ]
     },
     "execution_count": 61,
     "metadata": {},
     "output_type": "execute_result"
    }
   ],
   "source": [
    "str_[0:3] # 0번째부터 3번째 앞까지(2번째까지)"
   ]
  },
  {
   "cell_type": "code",
   "execution_count": 62,
   "id": "cff39779-c068-4b8f-a685-0f041a0764c5",
   "metadata": {},
   "outputs": [
    {
     "data": {
      "text/plain": [
       "'9'"
      ]
     },
     "execution_count": 62,
     "metadata": {},
     "output_type": "execute_result"
    }
   ],
   "source": [
    "str_[-1] # 음수 인덱스는 뒤에서부터"
   ]
  },
  {
   "cell_type": "code",
   "execution_count": 63,
   "id": "05ea305a-2005-404f-b509-60d7ab533c4c",
   "metadata": {},
   "outputs": [
    {
     "data": {
      "text/plain": [
       "'5678'"
      ]
     },
     "execution_count": 63,
     "metadata": {},
     "output_type": "execute_result"
    }
   ],
   "source": [
    "str_ = \"0123456789\"\n",
    "str_[-5:-1]"
   ]
  },
  {
   "cell_type": "code",
   "execution_count": 65,
   "id": "ba6b01dd-5ad1-4d39-8c85-4f3c15c19140",
   "metadata": {},
   "outputs": [
    {
     "data": {
      "text/plain": [
       "'56789'"
      ]
     },
     "execution_count": 65,
     "metadata": {},
     "output_type": "execute_result"
    }
   ],
   "source": [
    "str_[5:] # 5번째 인덱스부터 끝까지"
   ]
  },
  {
   "cell_type": "code",
   "execution_count": 66,
   "id": "31b0d4d0-d20c-4b5d-a663-fc4bc49103de",
   "metadata": {},
   "outputs": [
    {
     "data": {
      "text/plain": [
       "'01234'"
      ]
     },
     "execution_count": 66,
     "metadata": {},
     "output_type": "execute_result"
    }
   ],
   "source": [
    "str_[:-5] # 처음부터 -5번쩨 앞까지"
   ]
  },
  {
   "cell_type": "code",
   "execution_count": 67,
   "id": "09643954-eb3e-4890-baf6-8c812906fe94",
   "metadata": {},
   "outputs": [
    {
     "data": {
      "text/plain": [
       "'56789'"
      ]
     },
     "execution_count": 67,
     "metadata": {},
     "output_type": "execute_result"
    }
   ],
   "source": [
    "#str_[19] -> 없는 인덱는 error\n",
    "str_[5:19] # 슬라이싱에서는 인덱스를 벗어나면 끝까지"
   ]
  },
  {
   "cell_type": "code",
   "execution_count": 68,
   "id": "8f19e9b6-1036-4dcf-b733-c79720d38bcd",
   "metadata": {},
   "outputs": [
    {
     "name": "stdout",
     "output_type": "stream",
     "text": [
      "02468\n",
      "02468\n"
     ]
    }
   ],
   "source": [
    "# str_[from:to:step]\n",
    "print(str_[0:9:2]) # 0번째부터 9번째 앞까지 2씩 인덱스 증가\n",
    "print(str_[::2]) # 처음부터 끝까지 2씩 인덱스 증가해서"
   ]
  },
  {
   "cell_type": "code",
   "execution_count": 73,
   "id": "e3d06356-78b7-4885-a515-a9422404825a",
   "metadata": {},
   "outputs": [
    {
     "name": "stdout",
     "output_type": "stream",
     "text": [
      "9876543210\n",
      "9876543210\n"
     ]
    }
   ],
   "source": [
    "# 끝부터 처음까지 (거꾸로)\n",
    "print(str_[9::-1])\n",
    "print(str_[::-1])"
   ]
  },
  {
   "cell_type": "markdown",
   "id": "395fe5bb-c79c-4d1b-96fd-94d9a949335b",
   "metadata": {},
   "source": [
    "## 3.3 논리형(True, False)"
   ]
  },
  {
   "cell_type": "code",
   "execution_count": 74,
   "id": "3a732e88-cffe-4b20-b75f-55ad567c8b56",
   "metadata": {},
   "outputs": [
    {
     "name": "stdout",
     "output_type": "stream",
     "text": [
      "True\n",
      "<class 'bool'>\n",
      "True\n"
     ]
    }
   ],
   "source": [
    "a = True\n",
    "print(a)\n",
    "print(type(a))\n",
    "print(isinstance(a, bool)) # a가 bool형이냐?"
   ]
  },
  {
   "cell_type": "code",
   "execution_count": null,
   "id": "4583ce76-b08a-4ba3-b292-cee0fa69fca1",
   "metadata": {},
   "outputs": [],
   "source": [
    "# False로 간주하는 것 : 0, \"\"(빈스트링), ''(빈스트링), [], (), {}\n",
    "# True로 가주하는 것 : 0이 아닌 모든 수, \" \"(스페이스), '\\0'(널문자)"
   ]
  },
  {
   "cell_type": "code",
   "execution_count": 75,
   "id": "7cf86ee8-66c7-4e12-8e77-95a5da2d3510",
   "metadata": {},
   "outputs": [
    {
     "name": "stdout",
     "output_type": "stream",
     "text": [
      "False다\n"
     ]
    }
   ],
   "source": [
    "if 0 + 0j :\n",
    "    print(\"True다\")\n",
    "else :\n",
    "    print(\"False다\")    "
   ]
  },
  {
   "cell_type": "markdown",
   "id": "62378e80-e77c-430c-8323-321cb0aba9f2",
   "metadata": {},
   "source": [
    "## 3.4 자료형 확인 및 변환\n",
    "    - type() : 자료형 확인\n",
    "    - int() : 정수형 변환\n",
    "    - float() : 실수형 변환\n",
    "    - str() : 문자형 변환\n",
    "    - bool() : 논리형 변환"
   ]
  },
  {
   "cell_type": "code",
   "execution_count": 76,
   "id": "805a2eb6-f035-426c-9606-fa42f8445366",
   "metadata": {},
   "outputs": [
    {
     "data": {
      "text/plain": [
       "10"
      ]
     },
     "execution_count": 76,
     "metadata": {},
     "output_type": "execute_result"
    }
   ],
   "source": [
    "int('10')"
   ]
  },
  {
   "cell_type": "code",
   "execution_count": 77,
   "id": "c759a5d4-2938-439b-a1ab-6b362e29ce04",
   "metadata": {},
   "outputs": [
    {
     "ename": "ValueError",
     "evalue": "invalid literal for int() with base 10: '2,000'",
     "output_type": "error",
     "traceback": [
      "\u001b[1;31m---------------------------------------------------------------------------\u001b[0m",
      "\u001b[1;31mValueError\u001b[0m                                Traceback (most recent call last)",
      "Cell \u001b[1;32mIn[77], line 1\u001b[0m\n\u001b[1;32m----> 1\u001b[0m \u001b[38;5;28mint\u001b[39m(\u001b[38;5;124m'\u001b[39m\u001b[38;5;124m2,000\u001b[39m\u001b[38;5;124m'\u001b[39m)\n",
      "\u001b[1;31mValueError\u001b[0m: invalid literal for int() with base 10: '2,000'"
     ]
    }
   ],
   "source": [
    "int('2,000')"
   ]
  },
  {
   "cell_type": "code",
   "execution_count": 78,
   "id": "24f7f124-2947-4b71-9bef-3cd6e9a41d71",
   "metadata": {},
   "outputs": [
    {
     "data": {
      "text/plain": [
       "1.0"
      ]
     },
     "execution_count": 78,
     "metadata": {},
     "output_type": "execute_result"
    }
   ],
   "source": [
    "float(True)"
   ]
  },
  {
   "cell_type": "markdown",
   "id": "8a17c13b-516a-463b-961f-7d02211229e6",
   "metadata": {},
   "source": [
    "# 4절. 포맷팅"
   ]
  },
  {
   "cell_type": "code",
   "execution_count": 80,
   "id": "916f60c3-412f-4739-9617-fdd051da00a1",
   "metadata": {},
   "outputs": [
    {
     "name": "stdout",
     "output_type": "stream",
     "text": [
      "이름은 홍길동, 주소는 서울시 금천구\n",
      "이름은 홍길동, 주소는 서울시 금천구\n"
     ]
    }
   ],
   "source": [
    "name = \"홍길동\"\n",
    "add = \"서울시 금천구\"\n",
    "print(\"이름은 {}, 주소는 {}\".format(name, add))\n",
    "print(\"이름은 {1}, 주소는 {0}\".format(add, name))"
   ]
  },
  {
   "cell_type": "code",
   "execution_count": 82,
   "id": "7ee3976a-b853-4f3e-afac-7a8047139af5",
   "metadata": {},
   "outputs": [
    {
     "name": "stdout",
     "output_type": "stream",
     "text": [
      "이름은 홍길동, 주소는 서울시 금천구\n"
     ]
    }
   ],
   "source": [
    "print(\"이름은 %s, 주소는 %s\"%(name, add)) # 진짜 옛날 방식..."
   ]
  },
  {
   "cell_type": "code",
   "execution_count": 84,
   "id": "fd273e01-d85e-4a25-90cf-fe20d1316157",
   "metadata": {},
   "outputs": [
    {
     "name": "stdout",
     "output_type": "stream",
     "text": [
      "이름은 홍길동, 주소는 서울시 금천구\n"
     ]
    }
   ],
   "source": [
    "print(f\"이름은 {name}, 주소는 {add}\")"
   ]
  },
  {
   "cell_type": "markdown",
   "id": "0d04661c-e813-41a8-b395-6f0e50ad1b25",
   "metadata": {},
   "source": [
    "format()함수\n",
    "```\n",
    "- \"{[인덱스]:[공백대체문자][정렬방법][자릿수][타입]}\".format(변수명, ...)\n",
    "      - 정렬방법 : < (왼쪽정렬), > (오른쪽 정렬), ^ (가운데 정렬)\n",
    "      - 타입 : d(10진수), x(16진수), b(2진수), f(실수), s(문자)\n",
    "```"
   ]
  },
  {
   "cell_type": "code",
   "execution_count": 87,
   "id": "bbec5958-7687-486b-9e79-d423c1d04807",
   "metadata": {},
   "outputs": [
    {
     "name": "stdout",
     "output_type": "stream",
     "text": [
      "[$$$$$$$$10], [He******************]\n"
     ]
    }
   ],
   "source": [
    "a = 10\n",
    "s = 'Hello'\n",
    "print(\"[{0:$>10d}], [{1:*<20.2}]\".format(a, s)) #.2는 2개만 출력하라는 뜻"
   ]
  },
  {
   "cell_type": "markdown",
   "id": "f3208bb5-393c-4d4a-aa49-e64bc4b9f47e",
   "metadata": {},
   "source": [
    "# 5절. 연산자\n",
    "## 5.1 산술연산자 : +, -, /, +, //(몫), %(나머지), **(제곱)\n",
    "## 5.2 할당연산자 : =, +=, -=, /=, %= ...\n",
    "## 5.3 논리연산자 : &, and, |, or, not (연산자 우선순위가 높음)\n",
    "## 5.4 비트연산자 : &, |, ^(XOR) (연산자 우선순위가 높음)"
   ]
  },
  {
   "cell_type": "code",
   "execution_count": 88,
   "id": "01120121-3e22-49b1-99a5-36c2cca66a1f",
   "metadata": {},
   "outputs": [
    {
     "name": "stdout",
     "output_type": "stream",
     "text": [
      "True\n"
     ]
    }
   ],
   "source": [
    "print((10>3) & (10>5)) # 논리 연산 True & False"
   ]
  },
  {
   "cell_type": "code",
   "execution_count": 91,
   "id": "aa418164-1ce8-478a-9c4e-03746452c2e1",
   "metadata": {},
   "outputs": [
    {
     "name": "stdout",
     "output_type": "stream",
     "text": [
      "0\n",
      "13\n"
     ]
    }
   ],
   "source": [
    "print(12 & 1) # 비트연산 12 : 1100\n",
    "              #          1 : 0001\n",
    "print(12 | 1)"
   ]
  },
  {
   "cell_type": "markdown",
   "id": "921f9027-cf00-44a4-9458-177e14deb7c5",
   "metadata": {},
   "source": [
    "## 5.5 비교연산자 > >= < <= == !="
   ]
  },
  {
   "cell_type": "code",
   "execution_count": 92,
   "id": "1047a242-27a5-4318-a4f7-57b3f3c8f01a",
   "metadata": {},
   "outputs": [
    {
     "data": {
      "text/plain": [
       "True"
      ]
     },
     "execution_count": 92,
     "metadata": {},
     "output_type": "execute_result"
    }
   ],
   "source": [
    "'아' < '하'"
   ]
  },
  {
   "cell_type": "code",
   "execution_count": 97,
   "id": "3e2ac223-7acd-4427-9fdf-1c03f613d49a",
   "metadata": {},
   "outputs": [
    {
     "data": {
      "text/plain": [
       "True"
      ]
     },
     "execution_count": 97,
     "metadata": {},
     "output_type": "execute_result"
    }
   ],
   "source": [
    "'*' < '1' < 'A' < 'a' # 아스키코드 순서 : 특수문자 < 숫자 < 대문자 < 소문자"
   ]
  },
  {
   "cell_type": "code",
   "execution_count": 98,
   "id": "ed299722-93e0-4ec8-844e-29b2303d5c0e",
   "metadata": {},
   "outputs": [
    {
     "data": {
      "text/plain": [
       "True"
      ]
     },
     "execution_count": 98,
     "metadata": {},
     "output_type": "execute_result"
    }
   ],
   "source": [
    "score = 85\n",
    "80 <= score < 90 < 100"
   ]
  },
  {
   "cell_type": "markdown",
   "id": "2bfa4b23-3d3d-4b1e-aa84-25ce78800ff7",
   "metadata": {},
   "source": [
    "# 6절. 문자열 다루기\n",
    "    - 문자열 슬라이싱 : 문자변수[from:to:step]\n",
    "    - len(문자열) : 문자 개수\n",
    "    - upper() : 대문자로 변환\n",
    "    - lower() : 소문자로 변환\n",
    "    - title() : 각 단어의 앞글자만 대문자로\n",
    "    - capitalize() : 첫문자만 대문자로, 그외는 소문자\n",
    "    - count('찾을문자열') : 찾을 문자열이 몇개 들어있는지 갯수 반환\n",
    "    - find('찾을문자열') : 찾을 문자열을 왼쪽부터 시작하여 몇번째 인덱스에 있는지 index 반환\n",
    "                          (찾을문자열이 없으면 -1을 반환)\n",
    "    - rfind('찾을문자열') : 찾을 문자열을 오른쪽부터 시작하여 몇번째 인덱스에 있는지 index 반환\n",
    "                          (찾을문자열이 없으면 -1을 반환)\n",
    "    - startswith('특정문자열') : 특정문자열로 시작하는지 여부 T/F 반환\n",
    "    - endswith('특정문자열') : 특정문자열로 끝나는지 여부 T/F 반환\n",
    "    - strip() : 좌우 공백제거\n",
    "    - lstrip() : 왼쪽 공백제거\n",
    "    - rstrip() : 오른쪽 공백제거\n",
    "    - isdigit() : 문자열이 숫자 문자열인지 여부 T/F 반환\n",
    "    - islower() : 문자열이 소문자인지 여부 T/F 반환\n",
    "    - isupper() : 문자열이 대문자인지 여부 T/F 반환\n",
    "    - replace(oldStr, newStr) : oldStr을 newStr로 변경"
   ]
  },
  {
   "cell_type": "code",
   "execution_count": 102,
   "id": "85581080-e0d6-4c7c-9d49-70c24b019469",
   "metadata": {},
   "outputs": [
    {
     "data": {
      "text/plain": [
       "['__add__',\n",
       " '__class__',\n",
       " '__contains__',\n",
       " '__delattr__',\n",
       " '__dir__',\n",
       " '__doc__',\n",
       " '__eq__',\n",
       " '__format__',\n",
       " '__ge__',\n",
       " '__getattribute__',\n",
       " '__getitem__',\n",
       " '__getnewargs__',\n",
       " '__getstate__',\n",
       " '__gt__',\n",
       " '__hash__',\n",
       " '__init__',\n",
       " '__init_subclass__',\n",
       " '__iter__',\n",
       " '__le__',\n",
       " '__len__',\n",
       " '__lt__',\n",
       " '__mod__',\n",
       " '__mul__',\n",
       " '__ne__',\n",
       " '__new__',\n",
       " '__reduce__',\n",
       " '__reduce_ex__',\n",
       " '__repr__',\n",
       " '__rmod__',\n",
       " '__rmul__',\n",
       " '__setattr__',\n",
       " '__sizeof__',\n",
       " '__str__',\n",
       " '__subclasshook__',\n",
       " 'capitalize',\n",
       " 'casefold',\n",
       " 'center',\n",
       " 'count',\n",
       " 'encode',\n",
       " 'endswith',\n",
       " 'expandtabs',\n",
       " 'find',\n",
       " 'format',\n",
       " 'format_map',\n",
       " 'index',\n",
       " 'isalnum',\n",
       " 'isalpha',\n",
       " 'isascii',\n",
       " 'isdecimal',\n",
       " 'isdigit',\n",
       " 'isidentifier',\n",
       " 'islower',\n",
       " 'isnumeric',\n",
       " 'isprintable',\n",
       " 'isspace',\n",
       " 'istitle',\n",
       " 'isupper',\n",
       " 'join',\n",
       " 'ljust',\n",
       " 'lower',\n",
       " 'lstrip',\n",
       " 'maketrans',\n",
       " 'partition',\n",
       " 'removeprefix',\n",
       " 'removesuffix',\n",
       " 'replace',\n",
       " 'rfind',\n",
       " 'rindex',\n",
       " 'rjust',\n",
       " 'rpartition',\n",
       " 'rsplit',\n",
       " 'rstrip',\n",
       " 'split',\n",
       " 'splitlines',\n",
       " 'startswith',\n",
       " 'strip',\n",
       " 'swapcase',\n",
       " 'title',\n",
       " 'translate',\n",
       " 'upper',\n",
       " 'zfill']"
      ]
     },
     "execution_count": 102,
     "metadata": {},
     "output_type": "execute_result"
    }
   ],
   "source": [
    "# 문자열을 다룰 수 있는 함수 목록\n",
    "dir(str)"
   ]
  },
  {
   "cell_type": "code",
   "execution_count": 101,
   "id": "1443fe35-9a96-489a-b63e-29763ce9c98f",
   "metadata": {},
   "outputs": [
    {
     "data": {
      "text/plain": [
       "('PYTHON IS EASY. PYTHON IS SMART.', 32)"
      ]
     },
     "execution_count": 101,
     "metadata": {},
     "output_type": "execute_result"
    }
   ],
   "source": [
    "temp = 'Python is easy. Python is smart.'\n",
    "#       01234567890123456789012345678901\n",
    "temp.upper(), len(temp)"
   ]
  },
  {
   "cell_type": "code",
   "execution_count": 103,
   "id": "1a3a3a32-455b-4720-99d2-88b2b6d0c86c",
   "metadata": {},
   "outputs": [
    {
     "name": "stdout",
     "output_type": "stream",
     "text": [
      "첫 번째 글자:P, 마지막 글자:.\n"
     ]
    }
   ],
   "source": [
    "print(\"첫 번째 글자:{}, 마지막 글자:{}\".format(temp[0], temp[-1]))"
   ]
  },
  {
   "cell_type": "code",
   "execution_count": 108,
   "id": "ab2d67ec-97f7-41fe-b9f6-fb8b6e8f060c",
   "metadata": {},
   "outputs": [
    {
     "name": "stdout",
     "output_type": "stream",
     "text": [
      "대문자로:  PYTHON IS EASY. PYTHON IS SMART.\n",
      "첫글자만 대문자:  Python is easy. python is smart.\n",
      "title():  Python Is Easy. Python Is Smart.\n",
      "count():  2\n",
      "find():  0\n",
      "rfind():  16\n",
      "replace('Python',' '):    is easy.   is smart.\n",
      "startswith():  True\n"
     ]
    }
   ],
   "source": [
    "print(\"대문자로: \", temp.upper())\n",
    "print(\"첫글자만 대문자: \", temp.capitalize())\n",
    "print(\"title(): \", temp.title())\n",
    "print(\"count(): \", temp.count('Python'))\n",
    "print(\"find(): \", temp.find('Python'))\n",
    "print(\"rfind(): \", temp.rfind('Python'))\n",
    "print(\"replace('Python',' '): \", temp.replace('Python', ' '))\n",
    "print(\"startswith(): \", temp.startswith(\"Py\"))"
   ]
  },
  {
   "cell_type": "code",
   "execution_count": 110,
   "id": "8d94e519-6248-4d33-85e3-23ecb53c8438",
   "metadata": {},
   "outputs": [
    {
     "name": "stdout",
     "output_type": "stream",
     "text": [
      "temp: [    Python     ]\n",
      "strip: [Python]\n",
      "lstrip: [Python     ]\n",
      "rstrip: [    Python]\n"
     ]
    }
   ],
   "source": [
    "temp = '    Python     '\n",
    "print(\"temp: [{}]\".format(temp))\n",
    "print(\"strip: [{}]\".format(temp.strip()))\n",
    "print(\"lstrip: [{}]\".format(temp.lstrip()))\n",
    "print(\"rstrip: [{}]\".format(temp.rstrip()))"
   ]
  },
  {
   "cell_type": "code",
   "execution_count": 111,
   "id": "107ef349-bf24-4260-9e86-3b94775034f7",
   "metadata": {},
   "outputs": [
    {
     "name": "stdout",
     "output_type": "stream",
     "text": [
      "space 단위로 분리 list로 반환 :  ['Python', 'is', 'easy.', 'Python', 'is', 'smart.']\n"
     ]
    }
   ],
   "source": [
    "temp = 'Python is easy. Python is smart.'\n",
    "print(\"space 단위로 분리 list로 반환 : \", temp.split())"
   ]
  },
  {
   "cell_type": "code",
   "execution_count": 116,
   "id": "5668b7c8-cfae-45c3-ad09-31b4a1ff4d4b",
   "metadata": {},
   "outputs": [
    {
     "name": "stdout",
     "output_type": "stream",
     "text": [
      "년월일 분리 :  ['2024', '05', '30']\n",
      "연결된 temp :  2024~05~30\n"
     ]
    }
   ],
   "source": [
    "temp = \"2024-05-30\"\n",
    "temp_list = temp.split('-')\n",
    "temp_join = '~'.join(temp_list)\n",
    "print(\"년월일 분리 : \", temp.split('-'))\n",
    "print(\"연결된 temp : \", temp_join)"
   ]
  },
  {
   "cell_type": "markdown",
   "id": "5172972d-8e56-4b3d-8240-2282b1785188",
   "metadata": {},
   "source": [
    "# 7절. 날짜 다루기\n",
    "## 7.1 날짜"
   ]
  },
  {
   "cell_type": "code",
   "execution_count": 117,
   "id": "e093a4e3-2a9f-4e49-8899-78c553c874ce",
   "metadata": {},
   "outputs": [
    {
     "data": {
      "text/plain": [
       "datetime.date(2024, 5, 30)"
      ]
     },
     "execution_count": 117,
     "metadata": {},
     "output_type": "execute_result"
    }
   ],
   "source": [
    "from datetime import date # 폴터(파일)안에 파일(함수)를 가져와라\n",
    "someday = date(2024, 5, 30)\n",
    "someday"
   ]
  },
  {
   "cell_type": "code",
   "execution_count": 118,
   "id": "035f7dde-661f-4084-b9c2-dc4228d76253",
   "metadata": {},
   "outputs": [
    {
     "name": "stdout",
     "output_type": "stream",
     "text": [
      "2024-05-30\n"
     ]
    }
   ],
   "source": [
    "print(\"{}\".format(someday))"
   ]
  },
  {
   "cell_type": "code",
   "execution_count": 121,
   "id": "e267a585-fd74-4779-8418-5fb6602f841f",
   "metadata": {},
   "outputs": [
    {
     "name": "stdout",
     "output_type": "stream",
     "text": [
      "2024년05월30일 00시 00분\n"
     ]
    }
   ],
   "source": [
    "print(\"{:%Y년%m월%d일 %H시 %M분}\".format(someday)) #...안씀"
   ]
  },
  {
   "cell_type": "markdown",
   "id": "80a689ff-632f-4eeb-ba8c-64a75d37234b",
   "metadata": {},
   "source": [
    "## 7.2 시간"
   ]
  },
  {
   "cell_type": "code",
   "execution_count": 122,
   "id": "9dee19d3-c2f9-40f8-9771-07815c6fc69e",
   "metadata": {},
   "outputs": [
    {
     "name": "stdout",
     "output_type": "stream",
     "text": [
      "2024년05월30일 12시 48분\n"
     ]
    }
   ],
   "source": [
    "from datetime import datetime\n",
    "now = datetime.today()\n",
    "print(\"{:%Y년%m월%d일 %H시 %M분}\".format(now))"
   ]
  },
  {
   "cell_type": "code",
   "execution_count": null,
   "id": "6cbbd213-7225-403f-8695-d2c6e2537b23",
   "metadata": {},
   "outputs": [],
   "source": []
  }
 ],
 "metadata": {
  "kernelspec": {
   "display_name": "Python 3 (ipykernel)",
   "language": "python",
   "name": "python3"
  },
  "language_info": {
   "codemirror_mode": {
    "name": "ipython",
    "version": 3
   },
   "file_extension": ".py",
   "mimetype": "text/x-python",
   "name": "python",
   "nbconvert_exporter": "python",
   "pygments_lexer": "ipython3",
   "version": "3.11.7"
  }
 },
 "nbformat": 4,
 "nbformat_minor": 5
}
