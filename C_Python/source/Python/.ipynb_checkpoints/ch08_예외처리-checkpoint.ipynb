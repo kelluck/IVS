{
 "cells": [
  {
   "cell_type": "markdown",
   "id": "1d9b83d6-cc45-4e89-9be7-3d17a4f20958",
   "metadata": {},
   "source": [
    "<font size=\"6\" color = \"blue\"><b>ch08. 예외처리</b></font>\n",
    "- 예외가 날 가능성이 있는 부분을 미리 예상하고 그에 대한 처리를 프로그래밍하는 것 (이유 : 안정적으로 실행될 수 있도록 하기 위함)"
   ]
  },
  {
   "cell_type": "code",
   "execution_count": 3,
   "id": "6fba1f63-0b20-4cbb-a141-c3c3f81b6815",
   "metadata": {},
   "outputs": [
    {
     "name": "stdin",
     "output_type": "stream",
     "text": [
      "파일명?  ch08.txt\n"
     ]
    },
    {
     "data": {
      "text/plain": [
       "['This is Test File\\n', 'Hello, Python\\n', '테스트 파일입니다']"
      ]
     },
     "execution_count": 3,
     "metadata": {},
     "output_type": "execute_result"
    }
   ],
   "source": [
    "# 있는 파일의 경우 예외 발생 안 함\n",
    "filename = input(\"파일명? \")\n",
    "f = open('data/' + filename, 'r', encoding=\"utf-8\") #encoding의 default값은 cp949\n",
    "f.readlines()"
   ]
  },
  {
   "cell_type": "code",
   "execution_count": 4,
   "id": "4dcc647a-4394-40de-8bdb-ab3f2091cf73",
   "metadata": {},
   "outputs": [],
   "source": [
    "f.close()"
   ]
  },
  {
   "cell_type": "code",
   "execution_count": 5,
   "id": "74c5c60a-3b75-4534-997f-9cb2eaa7dd45",
   "metadata": {},
   "outputs": [
    {
     "name": "stdin",
     "output_type": "stream",
     "text": [
      "파일명?  z.txt\n"
     ]
    },
    {
     "ename": "FileNotFoundError",
     "evalue": "[Errno 2] No such file or directory: 'data/z.txt'",
     "output_type": "error",
     "traceback": [
      "\u001b[1;31m---------------------------------------------------------------------------\u001b[0m",
      "\u001b[1;31mFileNotFoundError\u001b[0m                         Traceback (most recent call last)",
      "Cell \u001b[1;32mIn[5], line 3\u001b[0m\n\u001b[0;32m      1\u001b[0m \u001b[38;5;66;03m# 없는 파일명의 경우 예외 발생\u001b[39;00m\n\u001b[0;32m      2\u001b[0m filename \u001b[38;5;241m=\u001b[39m \u001b[38;5;28minput\u001b[39m(\u001b[38;5;124m\"\u001b[39m\u001b[38;5;124m파일명? \u001b[39m\u001b[38;5;124m\"\u001b[39m)\n\u001b[1;32m----> 3\u001b[0m f \u001b[38;5;241m=\u001b[39m \u001b[38;5;28mopen\u001b[39m(\u001b[38;5;124m'\u001b[39m\u001b[38;5;124mdata/\u001b[39m\u001b[38;5;124m'\u001b[39m \u001b[38;5;241m+\u001b[39m filename, \u001b[38;5;124m'\u001b[39m\u001b[38;5;124mr\u001b[39m\u001b[38;5;124m'\u001b[39m, encoding\u001b[38;5;241m=\u001b[39m\u001b[38;5;124m\"\u001b[39m\u001b[38;5;124mutf-8\u001b[39m\u001b[38;5;124m\"\u001b[39m) \u001b[38;5;66;03m#encoding의 default값은 cp949\u001b[39;00m\n\u001b[0;32m      4\u001b[0m f\u001b[38;5;241m.\u001b[39mreadlines()\n",
      "File \u001b[1;32m~\\anaconda3\\Lib\\site-packages\\IPython\\core\\interactiveshell.py:310\u001b[0m, in \u001b[0;36m_modified_open\u001b[1;34m(file, *args, **kwargs)\u001b[0m\n\u001b[0;32m    303\u001b[0m \u001b[38;5;28;01mif\u001b[39;00m file \u001b[38;5;129;01min\u001b[39;00m {\u001b[38;5;241m0\u001b[39m, \u001b[38;5;241m1\u001b[39m, \u001b[38;5;241m2\u001b[39m}:\n\u001b[0;32m    304\u001b[0m     \u001b[38;5;28;01mraise\u001b[39;00m \u001b[38;5;167;01mValueError\u001b[39;00m(\n\u001b[0;32m    305\u001b[0m         \u001b[38;5;124mf\u001b[39m\u001b[38;5;124m\"\u001b[39m\u001b[38;5;124mIPython won\u001b[39m\u001b[38;5;124m'\u001b[39m\u001b[38;5;124mt let you open fd=\u001b[39m\u001b[38;5;132;01m{\u001b[39;00mfile\u001b[38;5;132;01m}\u001b[39;00m\u001b[38;5;124m by default \u001b[39m\u001b[38;5;124m\"\u001b[39m\n\u001b[0;32m    306\u001b[0m         \u001b[38;5;124m\"\u001b[39m\u001b[38;5;124mas it is likely to crash IPython. If you know what you are doing, \u001b[39m\u001b[38;5;124m\"\u001b[39m\n\u001b[0;32m    307\u001b[0m         \u001b[38;5;124m\"\u001b[39m\u001b[38;5;124myou can use builtins\u001b[39m\u001b[38;5;124m'\u001b[39m\u001b[38;5;124m open.\u001b[39m\u001b[38;5;124m\"\u001b[39m\n\u001b[0;32m    308\u001b[0m     )\n\u001b[1;32m--> 310\u001b[0m \u001b[38;5;28;01mreturn\u001b[39;00m io_open(file, \u001b[38;5;241m*\u001b[39margs, \u001b[38;5;241m*\u001b[39m\u001b[38;5;241m*\u001b[39mkwargs)\n",
      "\u001b[1;31mFileNotFoundError\u001b[0m: [Errno 2] No such file or directory: 'data/z.txt'"
     ]
    }
   ],
   "source": [
    "# 없는 파일명의 경우 예외 발생 -> 자동적으로 FileNotFoundError라는 예외 객체 생성 -> 예외 메세지\n",
    "filename = input(\"파일명? \")\n",
    "f = open('data/' + filename, 'r', encoding=\"utf-8\") #encoding의 default값은 cp949\n",
    "f.readlines()"
   ]
  },
  {
   "cell_type": "code",
   "execution_count": 8,
   "id": "5465de4e-436f-49f6-bdc5-efee1b2088d6",
   "metadata": {},
   "outputs": [
    {
     "name": "stdin",
     "output_type": "stream",
     "text": [
      "나눌 숫자를 입력하세요 >> 0\n"
     ]
    },
    {
     "ename": "ZeroDivisionError",
     "evalue": "division by zero",
     "output_type": "error",
     "traceback": [
      "\u001b[1;31m---------------------------------------------------------------------------\u001b[0m",
      "\u001b[1;31mZeroDivisionError\u001b[0m                         Traceback (most recent call last)",
      "Cell \u001b[1;32mIn[8], line 4\u001b[0m\n\u001b[0;32m      1\u001b[0m \u001b[38;5;66;03m# ValueError 예외 객체 : 숫자가 아닌 문자를 입력했을 경우\u001b[39;00m\n\u001b[0;32m      2\u001b[0m \u001b[38;5;66;03m# ZeroDivisionError 예외 객체 : 0을 입력했을 경우\u001b[39;00m\n\u001b[0;32m      3\u001b[0m num \u001b[38;5;241m=\u001b[39m \u001b[38;5;28mint\u001b[39m(\u001b[38;5;28minput\u001b[39m(\u001b[38;5;124m\"\u001b[39m\u001b[38;5;124m나눌 숫자를 입력하세요 >>\u001b[39m\u001b[38;5;124m\"\u001b[39m))\n\u001b[1;32m----> 4\u001b[0m \u001b[38;5;241m100\u001b[39m\u001b[38;5;241m/\u001b[39mnum\n",
      "\u001b[1;31mZeroDivisionError\u001b[0m: division by zero"
     ]
    }
   ],
   "source": [
    "# ValueError 예외 객체 : 숫자가 아닌 문자를 입력했을 경우\n",
    "# ZeroDivisionError 예외 객체 : 0을 입력했을 경우\n",
    "num = int(input(\"나눌 숫자를 입력하세요 >>\"))\n",
    "100/num"
   ]
  },
  {
   "cell_type": "code",
   "execution_count": 10,
   "id": "afcf51c1-0afe-4e17-9534-5368273b0d93",
   "metadata": {},
   "outputs": [
    {
     "ename": "IndexError",
     "evalue": "list index out of range",
     "output_type": "error",
     "traceback": [
      "\u001b[1;31m---------------------------------------------------------------------------\u001b[0m",
      "\u001b[1;31mIndexError\u001b[0m                                Traceback (most recent call last)",
      "Cell \u001b[1;32mIn[10], line 3\u001b[0m\n\u001b[0;32m      1\u001b[0m \u001b[38;5;66;03m# IndexError 예외 객체 : 인덱스를 벗어났을 경우\u001b[39;00m\n\u001b[0;32m      2\u001b[0m a \u001b[38;5;241m=\u001b[39m [\u001b[38;5;241m1\u001b[39m,\u001b[38;5;241m2\u001b[39m,\u001b[38;5;241m3\u001b[39m]\n\u001b[1;32m----> 3\u001b[0m a[\u001b[38;5;241m3\u001b[39m]\n",
      "\u001b[1;31mIndexError\u001b[0m: list index out of range"
     ]
    }
   ],
   "source": [
    "# IndexError 예외 객체 : 인덱스를 벗어났을 경우\n",
    "a = [1,2,3]\n",
    "a[3]"
   ]
  },
  {
   "cell_type": "markdown",
   "id": "800eecae-f8b4-4f03-9a3a-cbb502d9fcc0",
   "metadata": {},
   "source": [
    "# 2절. try~ except로 예외 처리\n",
    "```\n",
    "try:\n",
    "    예외가 발생할 가능성이 있는 명령어1\n",
    "    명령어...\n",
    "except[예외 타입[as 예외객체변수명]]:           #[예외 타입[as 예외객체변수명]]는 써도 돼고 안써도 됨.\n",
    "    예외가 발생했을 경우 수행\n",
    "[else:\n",
    "    예외가 발생되지 않을 경우 수행 명령어]       # 진짜 거의 안씀\n",
    "[finally:\n",
    "    예외가 발생되든 안되든 반드시 실행할 명령어]  # database, file access하지 않으면 쓸 일없음. 요즘은 그마저도 다른 문법으로 대체하려고함\n",
    "```"
   ]
  },
  {
   "cell_type": "code",
   "execution_count": 18,
   "id": "fb7bd487-99a8-48b9-9396-1189a2db9ad0",
   "metadata": {},
   "outputs": [
    {
     "name": "stdin",
     "output_type": "stream",
     "text": [
      "100을 나눌 정수를 입력하세요 >> 3\n"
     ]
    },
    {
     "name": "stdout",
     "output_type": "stream",
     "text": [
      "입력한 수는 3\n",
      "100을 입력한 정수로 나누면 33.33입니다\n"
     ]
    }
   ],
   "source": [
    "# 100을 입력받은 정수값으로 나눠 출력한다\n",
    "# ValueError \n",
    "# ZeroDivisionError \n",
    "x = int(input(\"100을 나눌 정수를 입력하세요 >>\"))\n",
    "print(\"입력한 수는 {}\".format(x))\n",
    "print(\"100을 입력한 정수로 나누면 {:.2f}입니다\".format(100/x))"
   ]
  },
  {
   "cell_type": "code",
   "execution_count": 23,
   "id": "36a2ead9-be6a-4c2b-b98b-c925b3802074",
   "metadata": {},
   "outputs": [
    {
     "name": "stdin",
     "output_type": "stream",
     "text": [
      "100을 나눌 정수를 입력하세요 >> 0\n"
     ]
    },
    {
     "name": "stdout",
     "output_type": "stream",
     "text": [
      "입력한 수는 0\n",
      "유효한 점수가 아닙니다\n"
     ]
    }
   ],
   "source": [
    "# 100을 입력받은 정수값으로 나눠 출력한다\n",
    "# ValueError \n",
    "# ZeroDivisionError\n",
    "try:\n",
    "    x = int(input(\"100을 나눌 정수를 입력하세요 >>\"))\n",
    "    print(\"입력한 수는 {}\".format(x))\n",
    "    print(\"100을 입력한 정수로 나누면 {:.2f}입니다\".format(100/x))\n",
    "except:\n",
    "    print(\"유효한 점수가 아닙니다\")"
   ]
  },
  {
   "cell_type": "code",
   "execution_count": 28,
   "id": "08344184-7df7-47c8-ac28-cf302f2fb002",
   "metadata": {},
   "outputs": [
    {
     "name": "stdin",
     "output_type": "stream",
     "text": [
      "100을 나눌 정수를 입력하세요 >> \n"
     ]
    },
    {
     "name": "stdout",
     "output_type": "stream",
     "text": [
      "유효한 숫자를 입력하세요\n"
     ]
    }
   ],
   "source": [
    "# 100을 입력받은 정수값으로 나눠 출력한다\n",
    "# ValueError \n",
    "# ZeroDivisionError\n",
    "try:\n",
    "    x = int(input(\"100을 나눌 정수를 입력하세요 >>\"))\n",
    "    print(\"입력한 수는 {}\".format(x))\n",
    "    print(\"100을 입력한 정수로 나누면 {:.2f}입니다\".format(100/x))\n",
    "except ValueError:\n",
    "    print(\"유효한 숫자를 입력하세요\")\n",
    "except ZeroDivisionError:\n",
    "    print(\"0으로는 나눌 수 없습니다\")"
   ]
  },
  {
   "cell_type": "code",
   "execution_count": 30,
   "id": "893add8e-2241-4af7-8f2c-63c9a90fb497",
   "metadata": {},
   "outputs": [
    {
     "name": "stdin",
     "output_type": "stream",
     "text": [
      "100을 나눌 정수를 입력하세요 >> 0\n"
     ]
    },
    {
     "name": "stdout",
     "output_type": "stream",
     "text": [
      "입력한 수는 0\n",
      "0으로는 나눌 수 없습니다\n"
     ]
    }
   ],
   "source": [
    "# 100을 입력받은 정수값으로 나눠 출력한다\n",
    "# ValueError \n",
    "# ZeroDivisionError\n",
    "try:\n",
    "    x = int(input(\"100을 나눌 정수를 입력하세요 >>\"))\n",
    "    print(\"입력한 수는 {}\".format(x))\n",
    "    print(\"100을 입력한 정수로 나누면 {:.2f}입니다\".format(100/x))\n",
    "except ValueError:\n",
    "    print(\"유효한 숫자를 입력하세요\")\n",
    "except ZeroDivisionError:\n",
    "    print(\"0으로는 나눌 수 없습니다\")\n",
    "except Exception: # except절이 많을 경우 상위 클래스를 아래에 명시\n",
    "    print(\"알 수 없는 혹시 모듈 예외입니다\") # 상위 클래스(모든 exception(ValueError, ZeroDivisionError...)이 Exception으로부터 상속받았다)! 따라서 가장 밑에 써야한다. \n",
    "                                           #위에 쓰면 모든 에러가 Exception으로 간다"
   ]
  },
  {
   "cell_type": "code",
   "execution_count": 31,
   "id": "1feae08d-bc02-47a7-93d8-f80f8b69254c",
   "metadata": {},
   "outputs": [
    {
     "name": "stdin",
     "output_type": "stream",
     "text": [
      "100을 나눌 정수를 입력하세요 >> .\n"
     ]
    },
    {
     "name": "stdout",
     "output_type": "stream",
     "text": [
      "유효한 숫자를 입력하세요\n"
     ]
    },
    {
     "name": "stdin",
     "output_type": "stream",
     "text": [
      "100을 나눌 정수를 입력하세요 >> 0\n"
     ]
    },
    {
     "name": "stdout",
     "output_type": "stream",
     "text": [
      "입력한 수는 0\n",
      "0으로는 나눌 수 없습니다\n"
     ]
    },
    {
     "name": "stdin",
     "output_type": "stream",
     "text": [
      "100을 나눌 정수를 입력하세요 >> 0\n"
     ]
    },
    {
     "name": "stdout",
     "output_type": "stream",
     "text": [
      "입력한 수는 0\n",
      "0으로는 나눌 수 없습니다\n"
     ]
    },
    {
     "name": "stdin",
     "output_type": "stream",
     "text": [
      "100을 나눌 정수를 입력하세요 >> a\n"
     ]
    },
    {
     "name": "stdout",
     "output_type": "stream",
     "text": [
      "유효한 숫자를 입력하세요\n"
     ]
    },
    {
     "name": "stdin",
     "output_type": "stream",
     "text": [
      "100을 나눌 정수를 입력하세요 >> 10\n"
     ]
    },
    {
     "name": "stdout",
     "output_type": "stream",
     "text": [
      "입력한 수는 10\n",
      "100을 입력한 정수로 나누면 10.00입니다\n"
     ]
    }
   ],
   "source": [
    "# 100을 입력받은 정수값으로 나눠 출력한다. 유효한 숫자를 입력할 때까지 수를 입력받음\n",
    "# ValueError \n",
    "# ZeroDivisionError\n",
    "while True:\n",
    "    try:\n",
    "        x = int(input(\"100을 나눌 정수를 입력하세요 >>\"))\n",
    "        print(\"입력한 수는 {}\".format(x))\n",
    "        print(\"100을 입력한 정수로 나누면 {:.2f}입니다\".format(100/x))\n",
    "        break; #try를 다 수행하면 끝내기 위함\n",
    "    except (ValueError, ZeroDivisionError): # 이렇게 써도 됨\n",
    "        print(\"유효한 숫자를 입력하세요\")\n",
    "    except Exception: # except절이 많을 경우 상위 클래스를 아래에 명시\n",
    "        print(\"알 수 없는 혹시 모듈 예외입니다\") "
   ]
  },
  {
   "cell_type": "code",
   "execution_count": 32,
   "id": "32e98eb1-9db9-435b-9ccd-570fcffa0aac",
   "metadata": {},
   "outputs": [
    {
     "name": "stdin",
     "output_type": "stream",
     "text": [
      "100을 나눌 정수를 입력하세요 >> 0\n"
     ]
    },
    {
     "name": "stdout",
     "output_type": "stream",
     "text": [
      "입력한 수는 0\n",
      "division by zero\n",
      "예외 객체의 타입 :  <class 'ZeroDivisionError'>\n",
      "예외 메세지 e.args :  ('division by zero',)\n"
     ]
    },
    {
     "name": "stdin",
     "output_type": "stream",
     "text": [
      "100을 나눌 정수를 입력하세요 >> 10\n"
     ]
    },
    {
     "name": "stdout",
     "output_type": "stream",
     "text": [
      "입력한 수는 10\n",
      "100을 입력한 정수로 나누면 10.00입니다\n"
     ]
    }
   ],
   "source": [
    "# 100을 입력받은 정수값으로 나눠 출력한다. 유효한 숫자를 입력할 때까지 수를 입력받음\n",
    "# ValueError \n",
    "# ZeroDivisionError\n",
    "while True:\n",
    "    try:\n",
    "        x = int(input(\"100을 나눌 정수를 입력하세요 >>\"))\n",
    "        print(\"입력한 수는 {}\".format(x))\n",
    "        print(\"100을 입력한 정수로 나누면 {:.2f}입니다\".format(100/x))\n",
    "        break; #try를 다 수행하면 끝내기 위함\n",
    "    except (ValueError, ZeroDivisionError) as e: # 예외가 발생했을때 변수명이 e로 됨\n",
    "        print(e) #print(e.__str__()) # print를 쓰면 __str__()함수가 자동으로 수행\n",
    "        print(\"예외 객체의 타입 : \", type(e)) \n",
    "        print(\"예외 메세지 e.args : \", e.args) # print(e)와 같음. 따라서 예외 메세지를 보려면 그냥 print하기"
   ]
  },
  {
   "cell_type": "code",
   "execution_count": 50,
   "id": "1ce065a8-9842-4f12-a069-3f354d6f6163",
   "metadata": {},
   "outputs": [
    {
     "name": "stdout",
     "output_type": "stream",
     "text": [
      "This is Test File\n",
      "Hello, Python\n",
      "테스트 파일입니다\n"
     ]
    }
   ],
   "source": [
    "try:\n",
    "    f = open('data/ch08.txt', 'r', encoding='utf-8')\n",
    "    data = f.read() # 파일을 끝까지 텍스트 형태로 읽어서 반환\n",
    "    print(data)\n",
    "except FileNotFoundError as e:\n",
    "    print(e)\n",
    "finally:\n",
    "    f.close() # 중요; w때는 안 닫으면 저장이 안됨."
   ]
  },
  {
   "cell_type": "code",
   "execution_count": 51,
   "id": "7ee517cb-52e4-4008-a787-314fcf45db11",
   "metadata": {},
   "outputs": [
    {
     "name": "stdout",
     "output_type": "stream",
     "text": [
      "This is Test File\n",
      "Hello, Python\n",
      "테스트 파일입니다\n"
     ]
    }
   ],
   "source": [
    "try:\n",
    "    f = open('data/ch08.txt', 'r', encoding='utf-8')\n",
    "    data = f.read() # 파일을 끝까지 텍스트 형태로 읽어서 반환\n",
    "    #print(data)\n",
    "except FileNotFoundError as e:\n",
    "    print(e)\n",
    "else: # try절이 다 끝났을 경우(except로 안빠졌을때); 그냥 try에 써도 됨...\n",
    "    print(data)\n",
    "finally:\n",
    "    f.close() # 중요; w때는 안 닫으면 저장이 안됨."
   ]
  },
  {
   "cell_type": "markdown",
   "id": "b343bffd-c8d7-4608-a703-a98eb319acf0",
   "metadata": {},
   "source": [
    "# 3절. 강제 예외 발생(raise)"
   ]
  },
  {
   "cell_type": "code",
   "execution_count": 52,
   "id": "235a7255-e32e-468e-8a82-0b06d81c67bc",
   "metadata": {},
   "outputs": [
    {
     "ename": "Exception",
     "evalue": "예외가 발생했습니다",
     "output_type": "error",
     "traceback": [
      "\u001b[1;31m---------------------------------------------------------------------------\u001b[0m",
      "\u001b[1;31mException\u001b[0m                                 Traceback (most recent call last)",
      "Cell \u001b[1;32mIn[52], line 1\u001b[0m\n\u001b[1;32m----> 1\u001b[0m \u001b[38;5;28;01mraise\u001b[39;00m \u001b[38;5;167;01mException\u001b[39;00m(\u001b[38;5;124m\"\u001b[39m\u001b[38;5;124m예외가 발생했습니다\u001b[39m\u001b[38;5;124m\"\u001b[39m)\n",
      "\u001b[1;31mException\u001b[0m: 예외가 발생했습니다"
     ]
    }
   ],
   "source": [
    "raise Exception(\"예외가 발생했습니다\")"
   ]
  },
  {
   "cell_type": "code",
   "execution_count": 53,
   "id": "073318ca-3bdd-4b2e-bc0b-8f3f0ac91d53",
   "metadata": {},
   "outputs": [],
   "source": [
    "# 사용자 정의 예외 타입\n",
    "class LengthZeroError(Exception): # 기존 파이썬에서 제공되는 Exception으로부터 상속받음\n",
    "    \"길이가 0일때 발생하는 예외\" # 도움말\n",
    "    def __init__(self):\n",
    "        super().__init__(\"매개변수 길이가 0이면 예외\")"
   ]
  },
  {
   "cell_type": "code",
   "execution_count": 54,
   "id": "0db1e961-5cd6-48a8-839a-2cd48c61d53e",
   "metadata": {},
   "outputs": [
    {
     "ename": "LengthZeroError",
     "evalue": "매개변수 길이가 0이면 예외",
     "output_type": "error",
     "traceback": [
      "\u001b[1;31m---------------------------------------------------------------------------\u001b[0m",
      "\u001b[1;31mLengthZeroError\u001b[0m                           Traceback (most recent call last)",
      "Cell \u001b[1;32mIn[54], line 1\u001b[0m\n\u001b[1;32m----> 1\u001b[0m \u001b[38;5;28;01mraise\u001b[39;00m LengthZeroError()\n",
      "\u001b[1;31mLengthZeroError\u001b[0m: 매개변수 길이가 0이면 예외"
     ]
    }
   ],
   "source": [
    "raise LengthZeroError()"
   ]
  },
  {
   "cell_type": "code",
   "execution_count": 55,
   "id": "ed40a182-d85d-4c3a-b425-a1fae1bec6b5",
   "metadata": {},
   "outputs": [],
   "source": [
    "def insert(*data): # 튜플 매개변수\n",
    "    if len(data) == 0:\n",
    "        raise LengthZeroError()\n",
    "    for item in data:\n",
    "        print(item, end=\" \")\n",
    "    print(\"등을 입력하셨습니다\")"
   ]
  },
  {
   "cell_type": "code",
   "execution_count": 56,
   "id": "d20749c2-49a7-4e83-90a7-fda63f633b17",
   "metadata": {},
   "outputs": [
    {
     "name": "stdout",
     "output_type": "stream",
     "text": [
      "1 2 3 등을 입력하셨습니다\n"
     ]
    }
   ],
   "source": [
    "insert(1,2,3)"
   ]
  },
  {
   "cell_type": "code",
   "execution_count": 57,
   "id": "d3420d83-26d2-47f6-9994-59997d5804b6",
   "metadata": {},
   "outputs": [
    {
     "ename": "LengthZeroError",
     "evalue": "매개변수 길이가 0이면 예외",
     "output_type": "error",
     "traceback": [
      "\u001b[1;31m---------------------------------------------------------------------------\u001b[0m",
      "\u001b[1;31mLengthZeroError\u001b[0m                           Traceback (most recent call last)",
      "Cell \u001b[1;32mIn[57], line 1\u001b[0m\n\u001b[1;32m----> 1\u001b[0m insert()\n",
      "Cell \u001b[1;32mIn[55], line 3\u001b[0m, in \u001b[0;36minsert\u001b[1;34m(*data)\u001b[0m\n\u001b[0;32m      1\u001b[0m \u001b[38;5;28;01mdef\u001b[39;00m \u001b[38;5;21minsert\u001b[39m(\u001b[38;5;241m*\u001b[39mdata): \u001b[38;5;66;03m# 튜플 매개변수\u001b[39;00m\n\u001b[0;32m      2\u001b[0m     \u001b[38;5;28;01mif\u001b[39;00m \u001b[38;5;28mlen\u001b[39m(data) \u001b[38;5;241m==\u001b[39m \u001b[38;5;241m0\u001b[39m:\n\u001b[1;32m----> 3\u001b[0m         \u001b[38;5;28;01mraise\u001b[39;00m LengthZeroError()\n\u001b[0;32m      4\u001b[0m     \u001b[38;5;28;01mfor\u001b[39;00m item \u001b[38;5;129;01min\u001b[39;00m data:\n\u001b[0;32m      5\u001b[0m         \u001b[38;5;28mprint\u001b[39m(item, end\u001b[38;5;241m=\u001b[39m\u001b[38;5;124m\"\u001b[39m\u001b[38;5;124m \u001b[39m\u001b[38;5;124m\"\u001b[39m)\n",
      "\u001b[1;31mLengthZeroError\u001b[0m: 매개변수 길이가 0이면 예외"
     ]
    }
   ],
   "source": [
    "insert()"
   ]
  },
  {
   "cell_type": "code",
   "execution_count": 58,
   "id": "0d962149-3622-49c6-ac00-cf67282dad68",
   "metadata": {},
   "outputs": [
    {
     "name": "stdout",
     "output_type": "stream",
     "text": [
      "1 2 3 등을 입력하셨습니다\n"
     ]
    }
   ],
   "source": [
    "ㅣ = (1,2,3)\n",
    "insert(*l)"
   ]
  },
  {
   "cell_type": "markdown",
   "id": "69d14ceb-63d6-48bc-8296-7eeda6be09d4",
   "metadata": {},
   "source": [
    "# 4절. 파일 정리 작업(with절 이용)"
   ]
  },
  {
   "cell_type": "code",
   "execution_count": 60,
   "id": "11c61f8a-0c1e-4256-a9e5-69ed02c8e716",
   "metadata": {},
   "outputs": [
    {
     "name": "stdout",
     "output_type": "stream",
     "text": [
      "['This is Test File\\n', 'Hello, Python\\n', '테스트 파일입니다']\n"
     ]
    }
   ],
   "source": [
    "# 파일 입출력시 자원 반납 필수(close)\n",
    "try:\n",
    "    f = open('data/ch08.txt', 'r', encoding=\"utf-8\")\n",
    "    lines = f.readlines() # 한줄한줄 모든 줄을 list형태로 반환\n",
    "    print(lines)\n",
    "except Exception:\n",
    "    print('없는 파일이거나 encoding 확인 요망', e)\n",
    "finally:\n",
    "    f.close()"
   ]
  },
  {
   "cell_type": "code",
   "execution_count": 64,
   "id": "6c5cf81b-3a12-4992-abe8-14d2cc5d0bb1",
   "metadata": {},
   "outputs": [
    {
     "name": "stdout",
     "output_type": "stream",
     "text": [
      "['This is Test File\\n', 'Hello, Python\\n', '테스트 파일입니다']\n"
     ]
    }
   ],
   "source": [
    "# with절 이용시 자동 close()실행\n",
    "with open('data/ch08.txt', 'r', encoding=\"utf-8\") as f:\n",
    "    lines = f.readlines()\n",
    "print(lines)"
   ]
  }
 ],
 "metadata": {
  "kernelspec": {
   "display_name": "Python 3 (ipykernel)",
   "language": "python",
   "name": "python3"
  },
  "language_info": {
   "codemirror_mode": {
    "name": "ipython",
    "version": 3
   },
   "file_extension": ".py",
   "mimetype": "text/x-python",
   "name": "python",
   "nbconvert_exporter": "python",
   "pygments_lexer": "ipython3",
   "version": "3.11.7"
  }
 },
 "nbformat": 4,
 "nbformat_minor": 5
}
