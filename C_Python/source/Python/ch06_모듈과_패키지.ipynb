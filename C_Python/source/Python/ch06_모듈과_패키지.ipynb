{
 "cells": [
  {
   "cell_type": "markdown",
   "id": "a4db9e8d-37d5-450e-baef-831a9db898aa",
   "metadata": {},
   "source": [
    "<font size=\"6\" color = \"blue\"><b>ch06. 모듈과 패키지</b></font>"
   ]
  },
  {
   "cell_type": "markdown",
   "id": "24a45639-ea4f-48f7-97c9-e38d9b9bfea0",
   "metadata": {},
   "source": [
    "# 1절. 모듈 사용하기\n",
    "- 모듈은 함수, 변수, 클래스가 담긴 파일(*.py)\n",
    "- 패키지는 모듈들이 묶여있는 폴더\n",
    "- 파이썬 표준 모듈 200여개\n",
    "- 표준 모듈 외의 모듈 사용하려면 라이브러리를 설치 :\n",
    "          \"pip install 라이브러리명\"\n",
    "          \"conda install 라이브러리명\""
   ]
  },
  {
   "cell_type": "code",
   "execution_count": 2,
   "id": "0bf2313c-9802-43fd-b001-4db32aed32f1",
   "metadata": {},
   "outputs": [
    {
     "data": {
      "text/plain": [
       "['ArrowDtype',\n",
       " 'BooleanDtype',\n",
       " 'Categorical',\n",
       " 'CategoricalDtype',\n",
       " 'CategoricalIndex',\n",
       " 'DataFrame',\n",
       " 'DateOffset',\n",
       " 'DatetimeIndex',\n",
       " 'DatetimeTZDtype',\n",
       " 'ExcelFile',\n",
       " 'ExcelWriter',\n",
       " 'Flags',\n",
       " 'Float32Dtype',\n",
       " 'Float64Dtype',\n",
       " 'Grouper',\n",
       " 'HDFStore',\n",
       " 'Index',\n",
       " 'IndexSlice',\n",
       " 'Int16Dtype',\n",
       " 'Int32Dtype',\n",
       " 'Int64Dtype',\n",
       " 'Int8Dtype',\n",
       " 'Interval',\n",
       " 'IntervalDtype',\n",
       " 'IntervalIndex',\n",
       " 'MultiIndex',\n",
       " 'NA',\n",
       " 'NaT',\n",
       " 'NamedAgg',\n",
       " 'Period',\n",
       " 'PeriodDtype',\n",
       " 'PeriodIndex',\n",
       " 'RangeIndex',\n",
       " 'Series',\n",
       " 'SparseDtype',\n",
       " 'StringDtype',\n",
       " 'Timedelta',\n",
       " 'TimedeltaIndex',\n",
       " 'Timestamp',\n",
       " 'UInt16Dtype',\n",
       " 'UInt32Dtype',\n",
       " 'UInt64Dtype',\n",
       " 'UInt8Dtype',\n",
       " '__all__',\n",
       " '__builtins__',\n",
       " '__cached__',\n",
       " '__doc__',\n",
       " '__docformat__',\n",
       " '__file__',\n",
       " '__git_version__',\n",
       " '__loader__',\n",
       " '__name__',\n",
       " '__package__',\n",
       " '__path__',\n",
       " '__spec__',\n",
       " '__version__',\n",
       " '_built_with_meson',\n",
       " '_config',\n",
       " '_is_numpy_dev',\n",
       " '_libs',\n",
       " '_pandas_datetime_CAPI',\n",
       " '_pandas_parser_CAPI',\n",
       " '_testing',\n",
       " '_typing',\n",
       " '_version_meson',\n",
       " 'annotations',\n",
       " 'api',\n",
       " 'array',\n",
       " 'arrays',\n",
       " 'bdate_range',\n",
       " 'compat',\n",
       " 'concat',\n",
       " 'core',\n",
       " 'crosstab',\n",
       " 'cut',\n",
       " 'date_range',\n",
       " 'describe_option',\n",
       " 'errors',\n",
       " 'eval',\n",
       " 'factorize',\n",
       " 'from_dummies',\n",
       " 'get_dummies',\n",
       " 'get_option',\n",
       " 'infer_freq',\n",
       " 'interval_range',\n",
       " 'io',\n",
       " 'isna',\n",
       " 'isnull',\n",
       " 'json_normalize',\n",
       " 'lreshape',\n",
       " 'melt',\n",
       " 'merge',\n",
       " 'merge_asof',\n",
       " 'merge_ordered',\n",
       " 'notna',\n",
       " 'notnull',\n",
       " 'offsets',\n",
       " 'option_context',\n",
       " 'options',\n",
       " 'pandas',\n",
       " 'period_range',\n",
       " 'pivot',\n",
       " 'pivot_table',\n",
       " 'plotting',\n",
       " 'qcut',\n",
       " 'read_clipboard',\n",
       " 'read_csv',\n",
       " 'read_excel',\n",
       " 'read_feather',\n",
       " 'read_fwf',\n",
       " 'read_gbq',\n",
       " 'read_hdf',\n",
       " 'read_html',\n",
       " 'read_json',\n",
       " 'read_orc',\n",
       " 'read_parquet',\n",
       " 'read_pickle',\n",
       " 'read_sas',\n",
       " 'read_spss',\n",
       " 'read_sql',\n",
       " 'read_sql_query',\n",
       " 'read_sql_table',\n",
       " 'read_stata',\n",
       " 'read_table',\n",
       " 'read_xml',\n",
       " 'reset_option',\n",
       " 'set_eng_float_format',\n",
       " 'set_option',\n",
       " 'show_versions',\n",
       " 'test',\n",
       " 'testing',\n",
       " 'timedelta_range',\n",
       " 'to_datetime',\n",
       " 'to_numeric',\n",
       " 'to_pickle',\n",
       " 'to_timedelta',\n",
       " 'tseries',\n",
       " 'unique',\n",
       " 'util',\n",
       " 'value_counts',\n",
       " 'wide_to_long']"
      ]
     },
     "execution_count": 2,
     "metadata": {},
     "output_type": "execute_result"
    }
   ],
   "source": [
    "import pandas as pd\n",
    "dir(pd)"
   ]
  },
  {
   "cell_type": "markdown",
   "id": "3ff8c5ad-d0e6-4714-99ba-64df7afc5cc3",
   "metadata": {},
   "source": [
    "# 2절. 사용자 정의 모듈 \n",
    "- 모듈을 가져오는 순서 (1) 표준모듈 (2) sys.path 변수에 저장된 경로"
   ]
  },
  {
   "cell_type": "code",
   "execution_count": 7,
   "id": "776332c6-8c74-4d8e-8d98-810891663081",
   "metadata": {},
   "outputs": [
    {
     "data": {
      "text/plain": [
       "['C:\\\\IVS\\\\C_Python\\\\source\\\\Python',\n",
       " 'C:\\\\Users\\\\user\\\\anaconda3\\\\python311.zip',\n",
       " 'C:\\\\Users\\\\user\\\\anaconda3\\\\DLLs',\n",
       " 'C:\\\\Users\\\\user\\\\anaconda3\\\\Lib',\n",
       " 'C:\\\\Users\\\\user\\\\anaconda3',\n",
       " '',\n",
       " 'C:\\\\Users\\\\user\\\\anaconda3\\\\Lib\\\\site-packages',\n",
       " 'C:\\\\Users\\\\user\\\\anaconda3\\\\Lib\\\\site-packages\\\\win32',\n",
       " 'C:\\\\Users\\\\user\\\\anaconda3\\\\Lib\\\\site-packages\\\\win32\\\\lib',\n",
       " 'C:\\\\Users\\\\user\\\\anaconda3\\\\Lib\\\\site-packages\\\\Pythonwin',\n",
       " 'C:\\\\IVS\\\\C_Python\\\\source\\\\pylib',\n",
       " 'C:\\\\IVS\\\\C_Python\\\\source\\\\pylib',\n",
       " 'C:\\\\IVS\\\\C_Python\\\\source\\\\pylib']"
      ]
     },
     "execution_count": 7,
     "metadata": {},
     "output_type": "execute_result"
    }
   ],
   "source": [
    "import sys\n",
    "sys.path.append(\"C:\\\\IVS\\\\C_Python\\\\source\\\\pylib\") # sys.path에 모듈이 있는 경로 추가\n",
    "sys.path"
   ]
  },
  {
   "cell_type": "markdown",
   "id": "79d7feb9-2222-4a81-9441-59764d442be2",
   "metadata": {},
   "source": [
    "```\n",
    "1. import A      : A모듈을 가져옴\n",
    "2. import A as B : A모듈을 B이름으로 가져옴\n",
    "3. from A import B : A모듈 안의 B함수를 가져옴 (다른 함수는 안 가져오다!)\n",
    "4. from A import B as C : A모듈 안에 B함수를 C이름으로 가져옴\n",
    "5. from A.B import C : A 패키지 안의 B모듈의 C함수를 가져옴\n",
    "6. from A.B import C as D : A 패키지 안의 B모듈의 C함수를 D이름으로 가져옴\n",
    "```"
   ]
  },
  {
   "cell_type": "code",
   "execution_count": 9,
   "id": "3410e12b-e341-4efb-9c3d-af90c5c79f9c",
   "metadata": {},
   "outputs": [
    {
     "name": "stdout",
     "output_type": "stream",
     "text": [
      "0. 1. 1. 2. 3. 5. 8. 13. 21. 34. 55. 89. \n"
     ]
    }
   ],
   "source": [
    "# 1. import A      : A 모듈을 가져옴\n",
    "import fibonacci\n",
    "fibonacci.fibonacci(100)"
   ]
  },
  {
   "cell_type": "code",
   "execution_count": 10,
   "id": "76a94fd6-a8b3-47ec-94be-cd2a9e228985",
   "metadata": {},
   "outputs": [],
   "source": [
    "del fibonacci # import 취소"
   ]
  },
  {
   "cell_type": "code",
   "execution_count": 11,
   "id": "0038f408-548f-4f6e-9843-0a5a259e4664",
   "metadata": {},
   "outputs": [
    {
     "name": "stdout",
     "output_type": "stream",
     "text": [
      "0. 1. 1. 2. 3. 5. 8. 13. 21. 34. \n"
     ]
    }
   ],
   "source": [
    "# 2. import A as B : A모듈을 B이름으로 가져옴\n",
    "import fibonacci as fibo\n",
    "fibo.fibonacci(50)"
   ]
  },
  {
   "cell_type": "code",
   "execution_count": 12,
   "id": "d03e8ef2-64e9-4d46-bb66-d75ae2415646",
   "metadata": {},
   "outputs": [],
   "source": [
    "del fibo"
   ]
  },
  {
   "cell_type": "code",
   "execution_count": 14,
   "id": "8b467579-ea70-4ed1-865d-c97ce11f8a51",
   "metadata": {},
   "outputs": [
    {
     "name": "stdout",
     "output_type": "stream",
     "text": [
      "0. 1. 1. 2. 3. 5. 8. 13. 21. 34. \n"
     ]
    }
   ],
   "source": [
    "# 3. from A import B : A모듈 안의 B함수를 가져옴 (다른 함수는 안 가져오다!)\n",
    "from fibonacci import fibonacci # 여러 함수 가져오려면 from fibonacci import fibonacci, a, b, c... (컴마로 구분해서 가져옴)\n",
    "fibonacci(50)"
   ]
  },
  {
   "cell_type": "code",
   "execution_count": 16,
   "id": "4e2b43f2-6e24-4043-8ad6-aa49d9109da7",
   "metadata": {},
   "outputs": [],
   "source": [
    "del fibonacci"
   ]
  },
  {
   "cell_type": "code",
   "execution_count": 18,
   "id": "788adf0e-e5bc-4e4e-831c-bbaf49ac3eba",
   "metadata": {},
   "outputs": [
    {
     "name": "stdout",
     "output_type": "stream",
     "text": [
      "0. 1. 1. 2. 3. 5. 8. 13. \n"
     ]
    }
   ],
   "source": [
    "# 4. from A import B as C : A모듈 안에 B함수를 C이름으로 가져옴\n",
    "from fibonacci import fibonacci as fibo\n",
    "fibo(20)"
   ]
  },
  {
   "cell_type": "code",
   "execution_count": 22,
   "id": "208c29c0-a097-4de4-92ea-c553d590b2dd",
   "metadata": {},
   "outputs": [
    {
     "data": {
      "text/plain": [
       "['__builtins__',\n",
       " '__cached__',\n",
       " '__doc__',\n",
       " '__file__',\n",
       " '__loader__',\n",
       " '__name__',\n",
       " '__package__',\n",
       " '__spec__',\n",
       " 'fibonacci']"
      ]
     },
     "execution_count": 22,
     "metadata": {},
     "output_type": "execute_result"
    }
   ],
   "source": [
    "import fibonacci\n",
    "dir(fibonacci) # 모듈안의 함수 볼 수 있음"
   ]
  }
 ],
 "metadata": {
  "kernelspec": {
   "display_name": "Python 3 (ipykernel)",
   "language": "python",
   "name": "python3"
  },
  "language_info": {
   "codemirror_mode": {
    "name": "ipython",
    "version": 3
   },
   "file_extension": ".py",
   "mimetype": "text/x-python",
   "name": "python",
   "nbconvert_exporter": "python",
   "pygments_lexer": "ipython3",
   "version": "3.11.7"
  }
 },
 "nbformat": 4,
 "nbformat_minor": 5
}
