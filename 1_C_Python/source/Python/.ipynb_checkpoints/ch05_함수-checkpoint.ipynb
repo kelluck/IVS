{
 "cells": [
  {
   "cell_type": "markdown",
   "id": "2179a1c8-75aa-43ab-b527-e2cc2289859b",
   "metadata": {},
   "source": [
    "<font size=\"6\" color = \"blue\"><b>ch05. 함수</b></font>\n",
    "- 반복해서 사용할 코드를 묶어서 구현해 놓은 것\n",
    "- 같은 이름의 함수는 덮어씀 (오버로딩 불가)\n",
    "- 함수 정의 (구현)\n",
    "  ```\n",
    "    def 함수명([인수1, 인수2, ...]):\n",
    "      명령어1\n",
    "      명령어2\n",
    "  ```"
   ]
  },
  {
   "cell_type": "markdown",
   "id": "439562f7-c208-4a47-a6a6-33560c06bfff",
   "metadata": {},
   "source": [
    "# 1절. 함수의 정의 및 사용(호출)\n",
    "## 1.1 함수정의"
   ]
  },
  {
   "cell_type": "code",
   "execution_count": null,
   "id": "102f242f-53c9-48c7-a4fa-dc2aab93699a",
   "metadata": {},
   "outputs": [],
   "source": [
    "# 함수형 언어인 자바스크립트와 파이썬은 함수와 변수 모두 변수!!!"
   ]
  },
  {
   "cell_type": "code",
   "execution_count": 2,
   "id": "2aedf211-bf30-4976-a26a-4905b2d94ab9",
   "metadata": {},
   "outputs": [],
   "source": [
    "def my_hello(x, msg): # 함수정의\n",
    "    for i in range(x):\n",
    "        print(i, msg)"
   ]
  },
  {
   "cell_type": "code",
   "execution_count": 3,
   "id": "712056bd-774e-403e-b078-4bc9a34b628b",
   "metadata": {},
   "outputs": [
    {
     "name": "stdout",
     "output_type": "stream",
     "text": [
      "0 쉬는 시간입니다\n",
      "1 쉬는 시간입니다\n",
      "2 쉬는 시간입니다\n",
      "3 쉬는 시간입니다\n"
     ]
    }
   ],
   "source": [
    "my_hello(4, '쉬는 시간입니다') # 함수 호출"
   ]
  },
  {
   "cell_type": "code",
   "execution_count": 4,
   "id": "32b9eb7a-7a62-487b-9ba2-c2f29f4f7971",
   "metadata": {},
   "outputs": [
    {
     "data": {
      "text/plain": [
       "function"
      ]
     },
     "execution_count": 4,
     "metadata": {},
     "output_type": "execute_result"
    }
   ],
   "source": [
    "type(my_hello)"
   ]
  },
  {
   "cell_type": "code",
   "execution_count": 5,
   "id": "e9b032e8-9979-48e9-ad54-cdbd80300eb9",
   "metadata": {},
   "outputs": [
    {
     "data": {
      "text/plain": [
       "int"
      ]
     },
     "execution_count": 5,
     "metadata": {},
     "output_type": "execute_result"
    }
   ],
   "source": [
    "my_hello = 10\n",
    "type(my_hello)"
   ]
  },
  {
   "cell_type": "code",
   "execution_count": 6,
   "id": "99272313-52a6-4c5b-9cf1-5f97654d6213",
   "metadata": {},
   "outputs": [
    {
     "ename": "TypeError",
     "evalue": "'int' object is not callable",
     "output_type": "error",
     "traceback": [
      "\u001b[1;31m---------------------------------------------------------------------------\u001b[0m",
      "\u001b[1;31mTypeError\u001b[0m                                 Traceback (most recent call last)",
      "Cell \u001b[1;32mIn[6], line 1\u001b[0m\n\u001b[1;32m----> 1\u001b[0m my_hello(\u001b[38;5;241m4\u001b[39m, \u001b[38;5;124m'\u001b[39m\u001b[38;5;124m쉬는 시간입니다\u001b[39m\u001b[38;5;124m'\u001b[39m)\n",
      "\u001b[1;31mTypeError\u001b[0m: 'int' object is not callable"
     ]
    }
   ],
   "source": [
    "my_hello(4, '쉬는 시간입니다') # my_hello = 10 때문에 function은 없어짐"
   ]
  },
  {
   "cell_type": "code",
   "execution_count": 9,
   "id": "041e8107-2637-4a5e-ba00-63d81622c84e",
   "metadata": {},
   "outputs": [],
   "source": [
    "def my_hello(x): # 같은 이름의 함수는 덮어씀 (오버로딩 불가)\n",
    "    for i in range(x):\n",
    "        print(i, \"함수는 복습 필수\")"
   ]
  },
  {
   "cell_type": "code",
   "execution_count": 11,
   "id": "17060ee8-da0b-48f6-927a-e6c7de85f71c",
   "metadata": {},
   "outputs": [
    {
     "name": "stdout",
     "output_type": "stream",
     "text": [
      "0 함수는 복습 필수\n",
      "1 함수는 복습 필수\n",
      "2 함수는 복습 필수\n",
      "3 함수는 복습 필수\n"
     ]
    }
   ],
   "source": [
    "my_hello(4)"
   ]
  },
  {
   "cell_type": "code",
   "execution_count": 13,
   "id": "45dead08-77ab-4e3b-a623-79b364137221",
   "metadata": {},
   "outputs": [
    {
     "name": "stdout",
     "output_type": "stream",
     "text": [
      "6\n",
      "3\n"
     ]
    }
   ],
   "source": [
    "def my_add(num1, num2, num3 = 0): # num3은 기본값을 갖는 인수 -> 매개 변수 2개도 되고 3개도 된다!\n",
    "                                  # 기본값을 갖는 인수는 순서인수 뒤에\n",
    "    return num1 + num2 + num3\n",
    "print(my_add(1, 2, 3))\n",
    "print(my_add(1, 2))"
   ]
  },
  {
   "cell_type": "markdown",
   "id": "efb504f6-6bee-4964-a7a1-35994e99cf03",
   "metadata": {},
   "source": [
    "## 1.2 docstring\n",
    "- 함수 도움말 shift + tab키로 볼 수 있음"
   ]
  },
  {
   "cell_type": "code",
   "execution_count": 15,
   "id": "4f27336b-cf2a-4739-be4e-22ae2c42a23e",
   "metadata": {},
   "outputs": [],
   "source": [
    "def fibonacci(n):\n",
    "    '''\n",
    "    인수로 들어온 n값 미만의 피보나치 수열을 출력하는 함수\n",
    "    ex. n = 10 : 0, 1, 1, 2, 3, 5, 8\n",
    "    ex. n = 5 : 0, 1, 1, 2, 3\n",
    "    '''\n",
    "    a, b = 0, 1 # 내부적으로 튜플로\n",
    "    while a < n:\n",
    "        print(a, end='. ')\n",
    "        a, b = b, a + b\n",
    "    print() # 개행"
   ]
  },
  {
   "cell_type": "code",
   "execution_count": 16,
   "id": "20d8f175-0ba0-4a8f-b803-2b2abbe3ff1b",
   "metadata": {},
   "outputs": [
    {
     "name": "stdout",
     "output_type": "stream",
     "text": [
      "0. 1. 1. 2. 3. 5. 8. 13. 21. 34. 55. 89. \n"
     ]
    }
   ],
   "source": [
    "fibonacci(100)"
   ]
  },
  {
   "cell_type": "code",
   "execution_count": 17,
   "id": "a40a4521-f2a4-4675-b597-a40d7ef4dff0",
   "metadata": {},
   "outputs": [
    {
     "data": {
      "text/plain": [
       "<function __main__.fibonacci(n)>"
      ]
     },
     "execution_count": 17,
     "metadata": {},
     "output_type": "execute_result"
    }
   ],
   "source": [
    "fibonacci"
   ]
  },
  {
   "cell_type": "code",
   "execution_count": 20,
   "id": "3466a45d-f04f-41c7-b2b6-8770a7016463",
   "metadata": {},
   "outputs": [
    {
     "data": {
      "text/plain": [
       "'__main__'"
      ]
     },
     "execution_count": 20,
     "metadata": {},
     "output_type": "execute_result"
    }
   ],
   "source": [
    "__name__"
   ]
  },
  {
   "cell_type": "code",
   "execution_count": 21,
   "id": "b7f5b8d9-311d-4b65-97ac-3eea76b28717",
   "metadata": {},
   "outputs": [
    {
     "name": "stdout",
     "output_type": "stream",
     "text": [
      "0. 1. 1. 2. 3. 5. 8. 13. 21. 34. 55. 89. \n"
     ]
    }
   ],
   "source": [
    "if __name__ == '__main__':\n",
    "    fibonacci(100)"
   ]
  },
  {
   "cell_type": "code",
   "execution_count": 25,
   "id": "115c7b0c-1344-4468-af92-021b9777547c",
   "metadata": {},
   "outputs": [],
   "source": [
    "import fibonacci as fibo # fibonacci.py가 해석돼서 메모리에 로드 됨."
   ]
  },
  {
   "cell_type": "code",
   "execution_count": 26,
   "id": "477b5285-e4af-41dd-baeb-12e7553f2ea1",
   "metadata": {},
   "outputs": [
    {
     "name": "stdout",
     "output_type": "stream",
     "text": [
      "0. 1. 1. 2. 3. 5. 8. 13. 21. 34. 55. 89. \n"
     ]
    }
   ],
   "source": [
    "fibo.fibonacci(100)"
   ]
  },
  {
   "cell_type": "markdown",
   "id": "f83b4ad7-a9d9-4407-aef2-471a8b9ba911",
   "metadata": {},
   "source": [
    "## 1.3 지역변수(local var)와 전역변수(global var)"
   ]
  },
  {
   "cell_type": "code",
   "execution_count": 29,
   "id": "5b65a6de-cbfb-4bb0-85f7-7c4e98c6038a",
   "metadata": {},
   "outputs": [
    {
     "name": "stdout",
     "output_type": "stream",
     "text": [
      "100\n"
     ]
    },
    {
     "data": {
      "text/plain": [
       "100"
      ]
     },
     "execution_count": 29,
     "metadata": {},
     "output_type": "execute_result"
    }
   ],
   "source": [
    "global_var = 100 # 전역변수 : 어디에서나 쓸 수 있는 변수\n",
    "def func1():\n",
    "    print(global_var)\n",
    "\n",
    "func1()\n",
    "global_var"
   ]
  },
  {
   "cell_type": "code",
   "execution_count": 31,
   "id": "92bd07e1-cdbf-4059-9648-bee8c3838143",
   "metadata": {},
   "outputs": [
    {
     "name": "stdout",
     "output_type": "stream",
     "text": [
      "100\n"
     ]
    }
   ],
   "source": [
    "def func2():\n",
    "    local_var = 100 # 지역변수 : 함수내에서만 사용 가능한 변수\n",
    "    print(local_var)\n",
    "func2()"
   ]
  },
  {
   "cell_type": "code",
   "execution_count": 33,
   "id": "df0ddf31-0548-4c23-bf3f-c4e8491dd231",
   "metadata": {},
   "outputs": [
    {
     "ename": "NameError",
     "evalue": "name 'local_var' is not defined",
     "output_type": "error",
     "traceback": [
      "\u001b[1;31m---------------------------------------------------------------------------\u001b[0m",
      "\u001b[1;31mNameError\u001b[0m                                 Traceback (most recent call last)",
      "Cell \u001b[1;32mIn[33], line 1\u001b[0m\n\u001b[1;32m----> 1\u001b[0m local_var\n",
      "\u001b[1;31mNameError\u001b[0m: name 'local_var' is not defined"
     ]
    }
   ],
   "source": [
    "local_var # 함수 밖에서는 사용 불가"
   ]
  },
  {
   "cell_type": "code",
   "execution_count": 37,
   "id": "848bda1d-6db6-42d0-82c0-8e89b9356345",
   "metadata": {},
   "outputs": [
    {
     "name": "stdout",
     "output_type": "stream",
     "text": [
      "200\n"
     ]
    },
    {
     "data": {
      "text/plain": [
       "100"
      ]
     },
     "execution_count": 37,
     "metadata": {},
     "output_type": "execute_result"
    }
   ],
   "source": [
    "g_var = 100 # 전역변수\n",
    "def func3():\n",
    "    g_var = 200 # 지역변수 선언\n",
    "    print(g_var)\n",
    "func3()\n",
    "g_var"
   ]
  },
  {
   "cell_type": "markdown",
   "id": "d1d9a856-05f9-46b9-94e4-10dab2820f4d",
   "metadata": {},
   "source": [
    "## 1.4 Lexical 특성"
   ]
  },
  {
   "cell_type": "code",
   "execution_count": 42,
   "id": "d5964c8a-dcd2-4e51-bed6-36eff2dd97f3",
   "metadata": {},
   "outputs": [
    {
     "ename": "UnboundLocalError",
     "evalue": "cannot access local variable 'g_var' where it is not associated with a value",
     "output_type": "error",
     "traceback": [
      "\u001b[1;31m---------------------------------------------------------------------------\u001b[0m",
      "\u001b[1;31mUnboundLocalError\u001b[0m                         Traceback (most recent call last)",
      "Cell \u001b[1;32mIn[42], line 6\u001b[0m\n\u001b[0;32m      4\u001b[0m     g_var \u001b[38;5;241m=\u001b[39m \u001b[38;5;241m200\u001b[39m \u001b[38;5;66;03m# 지역변수 선언 - > 선언하는 부분을 먼저 컴파일한다! 하지만 아직 값을 할당하진 않아서 위 print(g_var)에서 error난다.\u001b[39;00m\n\u001b[0;32m      5\u001b[0m     \u001b[38;5;28mprint\u001b[39m(g_var)\n\u001b[1;32m----> 6\u001b[0m func3()\n",
      "Cell \u001b[1;32mIn[42], line 3\u001b[0m, in \u001b[0;36mfunc3\u001b[1;34m()\u001b[0m\n\u001b[0;32m      2\u001b[0m \u001b[38;5;28;01mdef\u001b[39;00m \u001b[38;5;21mfunc3\u001b[39m():\n\u001b[1;32m----> 3\u001b[0m     \u001b[38;5;28mprint\u001b[39m(g_var)\n\u001b[0;32m      4\u001b[0m     g_var \u001b[38;5;241m=\u001b[39m \u001b[38;5;241m200\u001b[39m \u001b[38;5;66;03m# 지역변수 선언 - > 선언하는 부분을 먼저 컴파일한다! 하지만 아직 값을 할당하진 않아서 위 print(g_var)에서 error난다.\u001b[39;00m\n\u001b[0;32m      5\u001b[0m     \u001b[38;5;28mprint\u001b[39m(g_var)\n",
      "\u001b[1;31mUnboundLocalError\u001b[0m: cannot access local variable 'g_var' where it is not associated with a value"
     ]
    }
   ],
   "source": [
    "g_var = 100 # 전역변수\n",
    "def func3():\n",
    "    print(g_var)\n",
    "    g_var = 200 # 지역변수 선언 - > 선언하는 부분을 먼저 컴파일한다! 하지만 아직 값을 할당하진 않아서 위 print(g_var)에서 error난다.\n",
    "    print(g_var)\n",
    "func3()"
   ]
  },
  {
   "cell_type": "markdown",
   "id": "b4b1c105-6a45-4fb2-aa06-fa9c753b22d5",
   "metadata": {},
   "source": [
    "## 1.5 전역변수 수정"
   ]
  },
  {
   "cell_type": "code",
   "execution_count": 41,
   "id": "713a685a-1553-405a-a263-e57f3440e078",
   "metadata": {},
   "outputs": [
    {
     "name": "stdout",
     "output_type": "stream",
     "text": [
      "100\n",
      "200\n"
     ]
    }
   ],
   "source": [
    "g_var = 100 # 전역변수\n",
    "def func3():\n",
    "    global g_var # 함수 내에서 g_var는 전역변수를 쓴다!\n",
    "    print(g_var)\n",
    "    g_var = 200 # 전역 변수에 값을 할당\n",
    "    print(g_var)\n",
    "func3()"
   ]
  },
  {
   "cell_type": "markdown",
   "id": "3282438e-3ea1-4c2e-a263-ed4a81825673",
   "metadata": {},
   "source": [
    "## 1.6 값에 의한 호출 (Call by Value)\n",
    "- 함수에 인수로 전달된는 변수가 스칼라 변수(숫자, 문자, 논리)일 경우"
   ]
  },
  {
   "cell_type": "code",
   "execution_count": 44,
   "id": "0a956814-8662-44b3-a7fc-2b1c5ca7f2c6",
   "metadata": {},
   "outputs": [
    {
     "data": {
      "text/plain": [
       "1559346221488"
      ]
     },
     "execution_count": 44,
     "metadata": {},
     "output_type": "execute_result"
    }
   ],
   "source": [
    "foo = 'ab' # 스칼라 변수\n",
    "id(foo)"
   ]
  },
  {
   "cell_type": "code",
   "execution_count": 46,
   "id": "a8d4f88f-5c20-4a83-99d4-3131ee14596f",
   "metadata": {},
   "outputs": [
    {
     "name": "stdout",
     "output_type": "stream",
     "text": [
      "Before : ab의 주소는 1559346221488\n",
      "After : ababab의 주소는 1559430595248\n",
      "함수 호출 후 foo : ab의 주소는 1559346221488\n"
     ]
    }
   ],
   "source": [
    "def func1(f):\n",
    "    print(\"Before : {}의 주소는 {}\".format(f, id(f)))\n",
    "    f *= 3 #매개변수는 지역변수\n",
    "    print(\"After : {}의 주소는 {}\".format(f, id(f)))\n",
    "\n",
    "func1(foo)\n",
    "print(\"함수 호출 후 foo : {}의 주소는 {}\".format(foo, id(foo))) # 함수 안에서만 바뀌고 밖에서는 안 바뀐다!"
   ]
  },
  {
   "cell_type": "markdown",
   "id": "8133ced5-a7b1-4061-b732-bf150766fe8e",
   "metadata": {},
   "source": [
    "## 1.7 참조에 의한 호출 (Call by reference)\n",
    "- 함수에 전달되는 인수가 리스트, 딕셔너리, 셋일 경우"
   ]
  },
  {
   "cell_type": "code",
   "execution_count": 49,
   "id": "7005a178-6554-4182-9504-0ef4d557b69f",
   "metadata": {},
   "outputs": [
    {
     "name": "stdout",
     "output_type": "stream",
     "text": [
      "L의 내용은 [1, 2, 3], 주소는 1559430047296\n"
     ]
    }
   ],
   "source": [
    "L = [1, 2, 3]\n",
    "print('L의 내용은 {}, 주소는 {}'.format(L, id(L)))"
   ]
  },
  {
   "cell_type": "code",
   "execution_count": 51,
   "id": "a8ab7c70-53c3-4826-a6f2-c8aeb6603fd4",
   "metadata": {},
   "outputs": [
    {
     "name": "stdout",
     "output_type": "stream",
     "text": [
      "함수 내 before : L의 내용은 [1, 2, 3, 4], 주소는 1559430047296\n",
      "함수 내 after : L의 내용은 [1, 2, 3, 4, 4], 주소는 1559430047296\n",
      "L의 내용은 [1, 2, 3, 4, 4], 주소는 1559430047296\n"
     ]
    }
   ],
   "source": [
    "def func2(f):\n",
    "    print('함수 내 before : L의 내용은 {}, 주소는 {}'.format(L, id(L)))\n",
    "    f.append(4)\n",
    "    print('함수 내 after : L의 내용은 {}, 주소는 {}'.format(L, id(L)))\n",
    "func2(L)\n",
    "print('L의 내용은 {}, 주소는 {}'.format(L, id(L))) # 함수 밖에서도 바뀐다!"
   ]
  },
  {
   "cell_type": "markdown",
   "id": "781cedb5-f7dc-459a-9b5c-427291ccf46f",
   "metadata": {},
   "source": [
    "# 2절. 함수의 실행결과를 반환하는 return\n",
    "- 여러 개의 값을 반환할 수 있다 (하나의 튜플로 반환)"
   ]
  },
  {
   "cell_type": "code",
   "execution_count": 53,
   "id": "c5eab66f-5d5a-452c-9da1-f4c56a73c724",
   "metadata": {},
   "outputs": [],
   "source": [
    "# 여러값을 return\n",
    "def swap(a, b):\n",
    "    return b, a"
   ]
  },
  {
   "cell_type": "code",
   "execution_count": 55,
   "id": "d39f52f7-1fa9-45bb-8d08-66328cfe5e2f",
   "metadata": {},
   "outputs": [
    {
     "name": "stdout",
     "output_type": "stream",
     "text": [
      "함수 실행 전 x = 5, y = 10\n",
      "함수 실행 후 x = 10, y = 5\n"
     ]
    }
   ],
   "source": [
    "x, y = 5, 10 # 컴마(,)는 자동적으로 튜플로 인식\n",
    "print(\"함수 실행 전 x = {}, y = {}\".format(x, y))\n",
    "x, y = swap(x, y)\n",
    "print(\"함수 실행 후 x = {}, y = {}\".format(x, y))"
   ]
  },
  {
   "cell_type": "markdown",
   "id": "2fd13f21-1a59-4e63-966f-7ded0a5a7e2f",
   "metadata": {},
   "source": [
    "# 3절. 함수의 매개변수 ★\n",
    "## 3.1 기본값을 갖는 매개변수"
   ]
  },
  {
   "cell_type": "code",
   "execution_count": 86,
   "id": "969acf79-b86a-414d-80e6-72dc4dbc61f5",
   "metadata": {},
   "outputs": [],
   "source": [
    "def make_url(ip, port=80) :\n",
    "    #반드시 순서인수, 기본값을 갖는 인수(키워드 인수 아님) 순으로\n",
    "    return \"http://{}:{}\".format(ip, port)"
   ]
  },
  {
   "cell_type": "code",
   "execution_count": 87,
   "id": "d47851b7-dc95-4796-9cbf-523f78fb80d4",
   "metadata": {},
   "outputs": [
    {
     "name": "stdout",
     "output_type": "stream",
     "text": [
      "http://localhost:80\n",
      "http://localhost:8090\n",
      "http://localhost:8090\n"
     ]
    }
   ],
   "source": [
    "print(make_url(\"localhost\"))\n",
    "print(make_url(\"localhost\", 8090))\n",
    "print(make_url(port=8090, ip=\"localhost\")) # 되긴한데 이렇게는 거의 안씀"
   ]
  },
  {
   "cell_type": "markdown",
   "id": "ebc6ac8e-a9f6-4105-942b-620ed2c94e3e",
   "metadata": {},
   "source": [
    "## 3.2 튜플 매개변수를 이용한 가변인수(인수 개수가 가변) 설정\n",
    "- 대표적으로 print"
   ]
  },
  {
   "cell_type": "code",
   "execution_count": 88,
   "id": "f5affdc8-81f2-433b-8ed4-73dc28be53a6",
   "metadata": {},
   "outputs": [
    {
     "name": "stdout",
     "output_type": "stream",
     "text": [
      "Hello world\n",
      "Hello\n",
      "h e l l o\n"
     ]
    }
   ],
   "source": [
    "print('Hello', 'world') # 인수의 개수가 가변 = 가변인수\n",
    "print('Hello')\n",
    "print('h', 'e','l','l','o')"
   ]
  },
  {
   "cell_type": "code",
   "execution_count": 89,
   "id": "d90f0025-b5c3-4091-b991-8426ea17e9d9",
   "metadata": {},
   "outputs": [],
   "source": [
    "# args앞에 * : args가 튜플로 전달 받음; 튜플 매개변수\n",
    "def add(*args) :\n",
    "    print(\"전달받은 args : \", args)\n",
    "    print(type(args))\n",
    "    sum = 0\n",
    "    for num in args:\n",
    "        sum += num\n",
    "    return sum"
   ]
  },
  {
   "cell_type": "code",
   "execution_count": 90,
   "id": "5eab3488-0901-4788-85ee-b010744c8367",
   "metadata": {},
   "outputs": [
    {
     "name": "stdout",
     "output_type": "stream",
     "text": [
      "전달받은 args :  (1, 2, 3, 4, 5, 6)\n",
      "<class 'tuple'>\n",
      "21\n",
      "전달받은 args :  (1,)\n",
      "<class 'tuple'>\n",
      "1\n",
      "전달받은 args :  (1, 2)\n",
      "<class 'tuple'>\n",
      "3\n"
     ]
    }
   ],
   "source": [
    "print(add(1, 2, 3, 4, 5, 6))\n",
    "print(add(1))\n",
    "print(add(1, 2))"
   ]
  },
  {
   "cell_type": "code",
   "execution_count": 91,
   "id": "7ba79d20-5212-47c9-9bd8-20254fa797a1",
   "metadata": {},
   "outputs": [
    {
     "ename": "TypeError",
     "evalue": "concat() missing 1 required keyword-only argument: 'sep'",
     "output_type": "error",
     "traceback": [
      "\u001b[1;31m---------------------------------------------------------------------------\u001b[0m",
      "\u001b[1;31mTypeError\u001b[0m                                 Traceback (most recent call last)",
      "Cell \u001b[1;32mIn[91], line 6\u001b[0m\n\u001b[0;32m      3\u001b[0m \u001b[38;5;28;01mdef\u001b[39;00m \u001b[38;5;21mconcat\u001b[39m(\u001b[38;5;241m*\u001b[39margs, sep):\n\u001b[0;32m      4\u001b[0m     \u001b[38;5;28;01mreturn\u001b[39;00m sep\u001b[38;5;241m.\u001b[39mjoin(args)\n\u001b[1;32m----> 6\u001b[0m concat(\u001b[38;5;124m\"\u001b[39m\u001b[38;5;124mC\u001b[39m\u001b[38;5;124m\"\u001b[39m, \u001b[38;5;124m\"\u001b[39m\u001b[38;5;124mPython\u001b[39m\u001b[38;5;124m\"\u001b[39m, \u001b[38;5;124m\"\u001b[39m\u001b[38;5;124mOracle\u001b[39m\u001b[38;5;124m\"\u001b[39m, \u001b[38;5;124m\"\u001b[39m\u001b[38;5;124m~\u001b[39m\u001b[38;5;124m\"\u001b[39m)\n",
      "\u001b[1;31mTypeError\u001b[0m: concat() missing 1 required keyword-only argument: 'sep'"
     ]
    }
   ],
   "source": [
    "#concat(\"C\", \"Python\", \"Oracle\", \"~\")\n",
    "#=> C~Python~Oracle\n",
    "def concat(*args, sep):\n",
    "    return sep.join(args)\n",
    "\n",
    "concat(\"C\", \"Python\", \"Oracle\", \"~\") # \"C\", \"Python\", \"Oracle\", \"~\" 모두 튜플로 받아서 sep을 안 받은것으로 error남"
   ]
  },
  {
   "cell_type": "code",
   "execution_count": 92,
   "id": "1b2be51a-95e3-4a1d-941a-dc7aee13dbf7",
   "metadata": {},
   "outputs": [
    {
     "data": {
      "text/plain": [
       "'C~Python~Oracle'"
      ]
     },
     "execution_count": 92,
     "metadata": {},
     "output_type": "execute_result"
    }
   ],
   "source": [
    "# 해결책1 <-비추\n",
    "concat(\"C\", \"Python\", \"Oracle\", sep=\"~\")"
   ]
  },
  {
   "cell_type": "code",
   "execution_count": 93,
   "id": "06522399-6b03-43f6-bcc3-ec2112303898",
   "metadata": {},
   "outputs": [
    {
     "data": {
      "text/plain": [
       "'C~Python~Oracle'"
      ]
     },
     "execution_count": 93,
     "metadata": {},
     "output_type": "execute_result"
    }
   ],
   "source": [
    "# 해결책2 <-강추\n",
    "def concat(sep, *args): # 순서인수 > 튜플인수 > 키워드 인수(키워드를 꼭 써야 에러가 안남 ex. sep='/') 순서로!!\n",
    "    return sep.join(args)\n",
    "\n",
    "concat(\"~\", \"C\", \"Python\", \"Oracle\")"
   ]
  },
  {
   "cell_type": "code",
   "execution_count": 97,
   "id": "a0af6afe-6c9b-49bc-a898-19794f2bd59d",
   "metadata": {},
   "outputs": [
    {
     "data": {
      "text/plain": [
       "'C/Python/Oracle'"
      ]
     },
     "execution_count": 97,
     "metadata": {},
     "output_type": "execute_result"
    }
   ],
   "source": [
    "def concat(*args, sep='/'): # 순서인수 > 튜플인수 > 키워드 인수(키워드를 꼭 써야 함. ex) sep='/') 순서로!!\n",
    "    return sep.join(args)\n",
    "    \n",
    "concat(\"C\", \"Python\", \"Oracle\")"
   ]
  },
  {
   "cell_type": "code",
   "execution_count": 98,
   "id": "700c1803-3d48-4982-ac48-26880b26efbf",
   "metadata": {},
   "outputs": [
    {
     "data": {
      "text/plain": [
       "'C/Python/Oracle/~'"
      ]
     },
     "execution_count": 98,
     "metadata": {},
     "output_type": "execute_result"
    }
   ],
   "source": [
    "concat(\"C\", \"Python\", \"Oracle\", \"~\") # sep=을 안쓰면 다 튜플로 인식"
   ]
  },
  {
   "cell_type": "code",
   "execution_count": 99,
   "id": "2c9affbc-3a38-4755-b5cb-95d9127b0f5a",
   "metadata": {},
   "outputs": [
    {
     "data": {
      "text/plain": [
       "'C~Python~Oracle'"
      ]
     },
     "execution_count": 99,
     "metadata": {},
     "output_type": "execute_result"
    }
   ],
   "source": [
    "concat(\"C\", \"Python\", \"Oracle\", sep='~') # sep=을 써야 하므로 키워드 인수"
   ]
  },
  {
   "cell_type": "markdown",
   "id": "bc36d0fb-437f-47cd-814d-426ce294e11a",
   "metadata": {},
   "source": [
    "## 3.3 딕셔너리 매개변수"
   ]
  },
  {
   "cell_type": "code",
   "execution_count": 105,
   "id": "87d52da6-2ae0-4b82-bd57-5a49dc495016",
   "metadata": {},
   "outputs": [],
   "source": [
    "def func(**args): # args를 딕셔너리로 전달 받음\n",
    "    print(args)\n",
    "    print(type(args))\n",
    "\n",
    "    for key, value in args.items():\n",
    "        print(\"{} : {}\".format(key, value))"
   ]
  },
  {
   "cell_type": "code",
   "execution_count": 106,
   "id": "77db3895-120f-401c-a9c4-ea8b62cbc3a4",
   "metadata": {},
   "outputs": [
    {
     "name": "stdout",
     "output_type": "stream",
     "text": [
      "{'name': '홍길동', 'age': 20}\n",
      "<class 'dict'>\n",
      "name : 홍길동\n",
      "age : 20\n"
     ]
    }
   ],
   "source": [
    "# dic = {\"name\":\"홍길동\", \"age\":20}\n",
    "# func(dic) #이렇게 하면 **args로 받을 필요없음. 그냥 args로 받으면 됨.\n",
    "func(name=\"홍길동\", age=20)"
   ]
  },
  {
   "cell_type": "code",
   "execution_count": 107,
   "id": "02396fa4-8ebc-4085-8f0d-6444e46483e7",
   "metadata": {},
   "outputs": [
    {
     "name": "stdout",
     "output_type": "stream",
     "text": [
      "{'gameName': '서바이벌C', 'year': 2024, 'price': 33000}\n",
      "<class 'dict'>\n",
      "gameName : 서바이벌C\n",
      "year : 2024\n",
      "price : 33000\n"
     ]
    }
   ],
   "source": [
    "func(gameName=\"서바이벌C\", year=2024, price=33000)"
   ]
  },
  {
   "cell_type": "markdown",
   "id": "246cdd71-d5ed-4130-8a93-be621a28f153",
   "metadata": {},
   "source": [
    "## 3.4 함수 정의 시 매개변수의 순서\n",
    "- 순서 인수 > 튜플 인수(*) > 키워드 인수(매개변수 이름을 명시) > 딕셔너리 인수(**)"
   ]
  },
  {
   "cell_type": "code",
   "execution_count": 108,
   "id": "ebfe5b9f-7b04-477d-969f-716abaf3cdf0",
   "metadata": {},
   "outputs": [],
   "source": [
    "def func(a, b, c, *d, e=10, **f):\n",
    "    print('a=', a)\n",
    "    print('b=', b)\n",
    "    print('c=', c)\n",
    "    print('d=', d)\n",
    "    print('e=', e)\n",
    "    print('f=', f)"
   ]
  },
  {
   "cell_type": "code",
   "execution_count": 109,
   "id": "777aacdf-3074-489d-af3c-9d53e6577ce5",
   "metadata": {},
   "outputs": [
    {
     "name": "stdout",
     "output_type": "stream",
     "text": [
      "a= 10\n",
      "b= 20\n",
      "c= 30\n",
      "d= (1, 2, 3, 4, 5)\n",
      "e= 100\n",
      "f= {'height': 180, 'name': '홍길동', 'address': '서울시'}\n"
     ]
    }
   ],
   "source": [
    "func(10, 20, 30, 1, 2, 3, 4, 5, e=100, height=180, name='홍길동',address='서울시')"
   ]
  },
  {
   "cell_type": "markdown",
   "id": "3687c3c9-0a90-4802-8bf2-89652a36f545",
   "metadata": {},
   "source": [
    "## 3.5 인수의 언패킹\n",
    "- 패킹하지 않고 그대로 전달 받고 싶을 때"
   ]
  },
  {
   "cell_type": "markdown",
   "id": "e9a402ea-c7b7-4f99-bcea-87e3a7085cdc",
   "metadata": {},
   "source": [
    "### *튜플 인수 언패킹"
   ]
  },
  {
   "cell_type": "code",
   "execution_count": 120,
   "id": "601617e3-1f7b-46bd-aaa2-2e625e1f4f2f",
   "metadata": {},
   "outputs": [],
   "source": [
    "# args앞에 * : args가 튜플로 전달 받음; 튜플 매개변수\n",
    "def add(*args) :\n",
    "    print(\"전달받은 args : \", args)\n",
    "    print(type(args))\n",
    "    sum = 0\n",
    "    for num in args:\n",
    "        sum += num\n",
    "    return sum"
   ]
  },
  {
   "cell_type": "code",
   "execution_count": 121,
   "id": "8c0de20e-bb16-418e-9c18-29e9127b547f",
   "metadata": {},
   "outputs": [
    {
     "name": "stdout",
     "output_type": "stream",
     "text": [
      "전달받은 args :  ((1, 2, 3, 4, 5, 6),)\n",
      "<class 'tuple'>\n"
     ]
    },
    {
     "ename": "TypeError",
     "evalue": "unsupported operand type(s) for +=: 'int' and 'tuple'",
     "output_type": "error",
     "traceback": [
      "\u001b[1;31m---------------------------------------------------------------------------\u001b[0m",
      "\u001b[1;31mTypeError\u001b[0m                                 Traceback (most recent call last)",
      "Cell \u001b[1;32mIn[121], line 2\u001b[0m\n\u001b[0;32m      1\u001b[0m data \u001b[38;5;241m=\u001b[39m (\u001b[38;5;241m1\u001b[39m, \u001b[38;5;241m2\u001b[39m, \u001b[38;5;241m3\u001b[39m, \u001b[38;5;241m4\u001b[39m, \u001b[38;5;241m5\u001b[39m, \u001b[38;5;241m6\u001b[39m)\n\u001b[1;32m----> 2\u001b[0m add(data)\n",
      "Cell \u001b[1;32mIn[120], line 7\u001b[0m, in \u001b[0;36madd\u001b[1;34m(*args)\u001b[0m\n\u001b[0;32m      5\u001b[0m \u001b[38;5;28msum\u001b[39m \u001b[38;5;241m=\u001b[39m \u001b[38;5;241m0\u001b[39m\n\u001b[0;32m      6\u001b[0m \u001b[38;5;28;01mfor\u001b[39;00m num \u001b[38;5;129;01min\u001b[39;00m args:\n\u001b[1;32m----> 7\u001b[0m     \u001b[38;5;28msum\u001b[39m \u001b[38;5;241m+\u001b[39m\u001b[38;5;241m=\u001b[39m num\n\u001b[0;32m      8\u001b[0m \u001b[38;5;28;01mreturn\u001b[39;00m \u001b[38;5;28msum\u001b[39m\n",
      "\u001b[1;31mTypeError\u001b[0m: unsupported operand type(s) for +=: 'int' and 'tuple'"
     ]
    }
   ],
   "source": [
    "data = (1, 2, 3, 4, 5, 6)\n",
    "add(data) # 언패킹 안하면 error"
   ]
  },
  {
   "cell_type": "code",
   "execution_count": 122,
   "id": "4b6f8a39-aa85-43a1-8653-e1434a9205a2",
   "metadata": {},
   "outputs": [
    {
     "name": "stdout",
     "output_type": "stream",
     "text": [
      "전달받은 args :  (1, 2, 3, 4, 5, 6)\n",
      "<class 'tuple'>\n"
     ]
    },
    {
     "data": {
      "text/plain": [
       "21"
      ]
     },
     "execution_count": 122,
     "metadata": {},
     "output_type": "execute_result"
    }
   ],
   "source": [
    "data = (1, 2, 3, 4, 5, 6)\n",
    "add(*data) # 언패킹"
   ]
  },
  {
   "cell_type": "markdown",
   "id": "1457fe6d-365a-47b2-bd70-bc235a7e4f12",
   "metadata": {},
   "source": [
    "### *딕셔너리 인수 언패킹"
   ]
  },
  {
   "cell_type": "code",
   "execution_count": 123,
   "id": "3cc1051a-cb19-43c0-8873-203f85543b27",
   "metadata": {},
   "outputs": [],
   "source": [
    "def func(**args): # args를 딕셔너리로 전달 받음\n",
    "    print(args)\n",
    "    print(type(args))\n",
    "\n",
    "    for key, value in args.items():\n",
    "        print(\"{} : {}\".format(key, value))"
   ]
  },
  {
   "cell_type": "code",
   "execution_count": 124,
   "id": "a70678e3-ac48-4ffd-9aac-c57840889ffb",
   "metadata": {},
   "outputs": [
    {
     "ename": "TypeError",
     "evalue": "func() takes 0 positional arguments but 1 was given",
     "output_type": "error",
     "traceback": [
      "\u001b[1;31m---------------------------------------------------------------------------\u001b[0m",
      "\u001b[1;31mTypeError\u001b[0m                                 Traceback (most recent call last)",
      "Cell \u001b[1;32mIn[124], line 2\u001b[0m\n\u001b[0;32m      1\u001b[0m dic \u001b[38;5;241m=\u001b[39m {\u001b[38;5;124m'\u001b[39m\u001b[38;5;124mname\u001b[39m\u001b[38;5;124m'\u001b[39m : \u001b[38;5;124m'\u001b[39m\u001b[38;5;124m홍길동\u001b[39m\u001b[38;5;124m'\u001b[39m, \u001b[38;5;124m'\u001b[39m\u001b[38;5;124mage\u001b[39m\u001b[38;5;124m'\u001b[39m : \u001b[38;5;124m'\u001b[39m\u001b[38;5;124m30\u001b[39m\u001b[38;5;124m'\u001b[39m}\n\u001b[1;32m----> 2\u001b[0m func(dic)\n",
      "\u001b[1;31mTypeError\u001b[0m: func() takes 0 positional arguments but 1 was given"
     ]
    }
   ],
   "source": [
    "dic = {'name' : '홍길동', 'age' : '30'}\n",
    "func(dic) # 언패킹 안하면 error"
   ]
  },
  {
   "cell_type": "code",
   "execution_count": 125,
   "id": "085fa36e-be14-4661-9224-eb0c86030465",
   "metadata": {},
   "outputs": [
    {
     "name": "stdout",
     "output_type": "stream",
     "text": [
      "{'name': '홍길동', 'age': '30'}\n",
      "<class 'dict'>\n",
      "name : 홍길동\n",
      "age : 30\n"
     ]
    }
   ],
   "source": [
    "dic = {'name' : '홍길동', 'age' : '30'}\n",
    "func(**dic) # 언패킹"
   ]
  },
  {
   "cell_type": "markdown",
   "id": "5f998b6d-839e-4b7a-9ad8-9229f5ee7a92",
   "metadata": {},
   "source": [
    "# 4절. 람다식\n",
    "- 람다식은 작은 익명함수를 의미함\n",
    "- 실행할 문장을 한 문장만 작성할 수 있음\n",
    "- 리스트 컴프리헨션과 같이 참조해서 학습 추천\n",
    "- ex. map(), filter()에서 사용할 예정"
   ]
  },
  {
   "cell_type": "code",
   "execution_count": 126,
   "id": "6087cdab-fc47-449f-aa06-ec30a7e57cd3",
   "metadata": {},
   "outputs": [
    {
     "data": {
      "text/plain": [
       "8"
      ]
     },
     "execution_count": 126,
     "metadata": {},
     "output_type": "execute_result"
    }
   ],
   "source": [
    "# 일반함수\n",
    "def add(a, b):\n",
    "    return a + b\n",
    "add(3 ,5)"
   ]
  },
  {
   "cell_type": "code",
   "execution_count": 127,
   "id": "96033e81-6cb2-4123-abcb-5eed0531aa7d",
   "metadata": {},
   "outputs": [
    {
     "data": {
      "text/plain": [
       "function"
      ]
     },
     "execution_count": 127,
     "metadata": {},
     "output_type": "execute_result"
    }
   ],
   "source": [
    "type(add)"
   ]
  },
  {
   "cell_type": "code",
   "execution_count": 131,
   "id": "0c12cc15-a517-4f05-a03f-3f9328406f29",
   "metadata": {},
   "outputs": [],
   "source": [
    "# 람다식\n",
    "add = lambda a, b : a + b # lambda 매개변수 : return 값\n",
    "                          # 원래 변수에 담으려고 쓰는게 아님!!"
   ]
  },
  {
   "cell_type": "code",
   "execution_count": 132,
   "id": "23cbe187-76be-4730-b2e9-bb50f04f6398",
   "metadata": {},
   "outputs": [
    {
     "data": {
      "text/plain": [
       "8"
      ]
     },
     "execution_count": 132,
     "metadata": {},
     "output_type": "execute_result"
    }
   ],
   "source": [
    "add(3, 5)"
   ]
  },
  {
   "cell_type": "code",
   "execution_count": 133,
   "id": "0f229656-fccd-4dec-b9f1-86e23c123cfa",
   "metadata": {},
   "outputs": [
    {
     "data": {
      "text/plain": [
       "function"
      ]
     },
     "execution_count": 133,
     "metadata": {},
     "output_type": "execute_result"
    }
   ],
   "source": [
    "type(add)"
   ]
  },
  {
   "cell_type": "code",
   "execution_count": 135,
   "id": "b108b3de-5f09-4eb4-8e97-aa8c20458142",
   "metadata": {},
   "outputs": [
    {
     "data": {
      "text/plain": [
       "11"
      ]
     },
     "execution_count": 135,
     "metadata": {},
     "output_type": "execute_result"
    }
   ],
   "source": [
    "(lambda a, b : a + b)(5, 6)"
   ]
  },
  {
   "cell_type": "markdown",
   "id": "c4ae9ce8-6409-4c69-a825-80c2de506c6d",
   "metadata": {},
   "source": [
    "## *매개변수로 람다식 이용"
   ]
  },
  {
   "cell_type": "code",
   "execution_count": 136,
   "id": "f2236047-6343-4449-8860-28e519a3013f",
   "metadata": {},
   "outputs": [
    {
     "data": {
      "text/plain": [
       "9"
      ]
     },
     "execution_count": 136,
     "metadata": {},
     "output_type": "execute_result"
    }
   ],
   "source": [
    "f = lambda x : x**2\n",
    "f(3)"
   ]
  },
  {
   "cell_type": "code",
   "execution_count": 138,
   "id": "2cb8a995-1919-4a8c-8f92-7a87a5651a1b",
   "metadata": {},
   "outputs": [],
   "source": [
    "def map_template(func, L=[]):\n",
    "    result = []\n",
    "    for data in L:\n",
    "        result.append(func(data))\n",
    "    return result"
   ]
  },
  {
   "cell_type": "code",
   "execution_count": 140,
   "id": "82f32c07-932a-4fb7-a339-8d0c557c4880",
   "metadata": {},
   "outputs": [
    {
     "data": {
      "text/plain": [
       "[1, 4, 9, 16, 25]"
      ]
     },
     "execution_count": 140,
     "metadata": {},
     "output_type": "execute_result"
    }
   ],
   "source": [
    "list_data = [1,2,3,4,5]\n",
    "map_template(lambda x : x**2, list_data)"
   ]
  },
  {
   "cell_type": "code",
   "execution_count": 146,
   "id": "74377304-e1ef-4bbc-9394-c493e8953479",
   "metadata": {},
   "outputs": [
    {
     "data": {
      "text/plain": [
       "[2, 4, 6, 8, 10]"
      ]
     },
     "execution_count": 146,
     "metadata": {},
     "output_type": "execute_result"
    }
   ],
   "source": [
    "list(map(lambda x:x*2, list_data)) # map함수로 있음!! (복잡한게 많아서 리스트 컴프리헨션이 아니라 map을 많이씀)"
   ]
  },
  {
   "cell_type": "code",
   "execution_count": 158,
   "id": "1d8c65b4-5590-42a2-8c4b-30c7c03a3ba7",
   "metadata": {},
   "outputs": [
    {
     "data": {
      "text/plain": [
       "[2, 4, 6, 8, 10]"
      ]
     },
     "execution_count": 158,
     "metadata": {},
     "output_type": "execute_result"
    }
   ],
   "source": [
    "# 리스트 컴프리헨션 이용 가능(간단한 데이터는 리스트 컴프리헨션을 사용!)\n",
    "[x*2 for x in list_data]"
   ]
  },
  {
   "cell_type": "code",
   "execution_count": 159,
   "id": "3a2f60da-afb9-4de4-ae93-6056f7b09f43",
   "metadata": {},
   "outputs": [],
   "source": [
    "list_data = [1,2,3,4,5]\n",
    "\n",
    "def filter_template(func, L=[]):\n",
    "    result = []\n",
    "    for data in L:\n",
    "        if func(data) :\n",
    "            result.append(data)\n",
    "    return result       "
   ]
  },
  {
   "cell_type": "code",
   "execution_count": 160,
   "id": "e7b3c171-f427-453b-8638-fb4b6e246a64",
   "metadata": {},
   "outputs": [
    {
     "data": {
      "text/plain": [
       "[2, 4]"
      ]
     },
     "execution_count": 160,
     "metadata": {},
     "output_type": "execute_result"
    }
   ],
   "source": [
    "filter_template(lambda x : x%2==0, list_data)"
   ]
  },
  {
   "cell_type": "code",
   "execution_count": 161,
   "id": "110021df-40ad-4691-bf42-926e2e4ba849",
   "metadata": {},
   "outputs": [
    {
     "data": {
      "text/plain": [
       "[2, 4]"
      ]
     },
     "execution_count": 161,
     "metadata": {},
     "output_type": "execute_result"
    }
   ],
   "source": [
    "list(filter(lambda x : x%2==0, list_data)) # filter 함수로 있음!!"
   ]
  },
  {
   "cell_type": "code",
   "execution_count": 162,
   "id": "c515c435-d75d-49b3-a550-8255a17c26f8",
   "metadata": {},
   "outputs": [
    {
     "data": {
      "text/plain": [
       "[2, 4]"
      ]
     },
     "execution_count": 162,
     "metadata": {},
     "output_type": "execute_result"
    }
   ],
   "source": [
    "# 리스트 컴프리헨션 이용 가능\n",
    "[x for x in list_data if x%2==0]"
   ]
  },
  {
   "cell_type": "markdown",
   "id": "e14f9166-e84c-4505-855c-6e4597befaf7",
   "metadata": {},
   "source": [
    "# 5절 파이썬 내장함수\n",
    " * print처럼 import하지 않고 사용가능한 함수"
   ]
  },
  {
   "cell_type": "markdown",
   "id": "5698edf2-0dda-4bf7-a40b-92a62ff8dc82",
   "metadata": {},
   "source": [
    "# 연습문제"
   ]
  },
  {
   "cell_type": "code",
   "execution_count": 169,
   "id": "d7047098-1221-48cb-88a2-80c21409e433",
   "metadata": {},
   "outputs": [
    {
     "data": {
      "text/plain": [
       "(5, 1)"
      ]
     },
     "execution_count": 169,
     "metadata": {},
     "output_type": "execute_result"
    }
   ],
   "source": [
    "# 1. 함수의 인자로 리스트를 받은 후, 리스트 내에 있는 모든 정수값에 대하여 \n",
    "#    최대값과 최소값을 return하는 함수 get_max_min(data_list)를 구현하고 호출하시오\n",
    "def get_max_min(data_list):\n",
    "      return max(data_list), min(data_list)\n",
    "\n",
    "data_list = [1,2,3,4,5]\n",
    "get_max_min(data_list)"
   ]
  },
  {
   "cell_type": "code",
   "execution_count": 170,
   "id": "55e68c10-00a9-4cdb-83dc-2f8228d6c7ee",
   "metadata": {},
   "outputs": [
    {
     "data": {
      "text/plain": [
       "[6, 15, 16, 23, 33, 38]"
      ]
     },
     "execution_count": 170,
     "metadata": {},
     "output_type": "execute_result"
    }
   ],
   "source": [
    "# 2.로또 생성함수 make_lotto()\n",
    "import random\n",
    "def make_lotto():\n",
    "    lotto = set()\n",
    "    while len(lotto) < 6:\n",
    "        lotto.add(random.randint(1, 45))\n",
    "    lotto = list(lotto)\n",
    "    lotto.sort()\n",
    "    return lotto\n",
    "\n",
    "make_lotto()"
   ]
  },
  {
   "cell_type": "code",
   "execution_count": 181,
   "id": "80fc0a01-46a2-436d-a1de-b6266f48ee45",
   "metadata": {},
   "outputs": [
    {
     "data": {
      "text/plain": [
       "[1, 2, '짝', 4, 5, '짝', 7, 8, '짝', 13, '짝', 20, 20, '짝', '짝짝']"
      ]
     },
     "execution_count": 181,
     "metadata": {},
     "output_type": "execute_result"
    }
   ],
   "source": [
    "# 3.369게임은 숫자에 3,6,9가 들어가면 박수를 치고, 나머지는 숫자는 그대로이야기하는 게임이다. 369게임을 시뮬레이션하는 함수를 정의하라\n",
    "# 1단계 : game_369([1,2,3,4,5,6,7,8,9,13,20,33])\n",
    "# - 결과 : [1,2, ‘짝’, 4,5, ‘짝’,7,8, ‘짝’, ‘짝’, 20,‘짝짝’]\n",
    "\n",
    "def game_369(L):\n",
    "    result=[]\n",
    "    for data in L: # 튜플과 리스트 모두 가능\n",
    "        data_str = str(data)\n",
    "        datastr_list = list(data_str)\n",
    "        clap = ''\n",
    "        for s in datastr_list:\n",
    "            if (int(s)!=0) & (int(s)%3 == 0): #3의 배수\n",
    "                clap += '짝'\n",
    "            if clap:\n",
    "                result.append(clap)\n",
    "            else:\n",
    "                result.append(data)\n",
    "    return result\n",
    "\n",
    "game_369([1,2,3,4,5,6,7,8,9,13,20,33])"
   ]
  },
  {
   "cell_type": "code",
   "execution_count": 182,
   "id": "9dff468a-9ed5-483c-a666-8fc461835e32",
   "metadata": {},
   "outputs": [
    {
     "data": {
      "text/plain": [
       "[1, 2, '짝', 4, 5, '짝', 13, '짝', 20, 20, '짝', '짝짝']"
      ]
     },
     "execution_count": 182,
     "metadata": {},
     "output_type": "execute_result"
    }
   ],
   "source": [
    "# 2단계 : game_369(1,2,3,4,5,6,7,8,9,13,20,33) #튜플인수이용\n",
    "# - 결과 : [1,2, ‘짝’, 4,5, ‘짝’,7,8, ‘짝’, ‘짝’, 20,‘짝짝’]\n",
    "\n",
    "def game_369(*L):\n",
    "    result=[]\n",
    "    for data in L:\n",
    "        data_str = str(data)\n",
    "        datastr_list = list(data_str)\n",
    "        clap = ''\n",
    "        for s in datastr_list:\n",
    "            if (int(s)!=0) & (int(s)%3 == 0): #3의 배수\n",
    "                clap += '짝'\n",
    "            if clap:\n",
    "                result.append(clap)\n",
    "            else:\n",
    "                result.append(data)\n",
    "    return result\n",
    "\n",
    "game_369(1, 2, 3, 4, 5, 6, 13, 20, 33)"
   ]
  }
 ],
 "metadata": {
  "kernelspec": {
   "display_name": "Python 3 (ipykernel)",
   "language": "python",
   "name": "python3"
  },
  "language_info": {
   "codemirror_mode": {
    "name": "ipython",
    "version": 3
   },
   "file_extension": ".py",
   "mimetype": "text/x-python",
   "name": "python",
   "nbconvert_exporter": "python",
   "pygments_lexer": "ipython3",
   "version": "3.11.7"
  }
 },
 "nbformat": 4,
 "nbformat_minor": 5
}
