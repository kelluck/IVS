{
 "cells": [
  {
   "cell_type": "markdown",
   "id": "0f23ff0e-054e-4344-986e-03aa1f47140e",
   "metadata": {},
   "source": [
    "<font size=\"6\" color = \"blue\"><b>ch04. 제어문</b></font>\n",
    "- if문, for-in문, while문"
   ]
  },
  {
   "cell_type": "markdown",
   "id": "1067c867-f7c1-457b-93a3-c82feac42a2b",
   "metadata": {},
   "source": [
    "# 1절. if문"
   ]
  },
  {
   "cell_type": "code",
   "execution_count": 9,
   "id": "5280c1fb-e040-46a3-b8c0-b05fbbfe9ec8",
   "metadata": {},
   "outputs": [
    {
     "name": "stdin",
     "output_type": "stream",
     "text": [
      "Hong! Enter your score >> 64\n"
     ]
    },
    {
     "name": "stdout",
     "output_type": "stream",
     "text": [
      "입력하신 점수는 64점이고, D등급입니다\n"
     ]
    }
   ],
   "source": [
    "# 점수를 입력받아 학점출력\n",
    "name = \"Hong\"\n",
    "score = int(input(name + \"! Enter your score >>\")) # input안에서는 .format() 사용불가 -> 연산자 '+' 사용!\n",
    "\n",
    "# grade는 if문 안에서만이 아니라 계속 쓸 수 있음!\n",
    "if 90 <= score <= 100: \n",
    "    grade = 'A'\n",
    "elif 80 <= score < 90:\n",
    "    grade = 'B'\n",
    "elif 70 <= score < 80:\n",
    "    grade = 'C'\n",
    "elif 60 <= score < 70:\n",
    "    grade = 'D'\n",
    "elif 0 <= score < 60:\n",
    "    grade = 'F'\n",
    "else:\n",
    "    grade = '유효하지 않은 점수'\n",
    "\n",
    "print(\"입력하신 점수는 {}점이고, {}등급입니다\".format(score, grade))"
   ]
  },
  {
   "cell_type": "markdown",
   "id": "2e07f120-72b0-42bc-90d9-f9de15eb66eb",
   "metadata": {},
   "source": [
    "# 2절. for-in문\n",
    "```\n",
    "for 변수 in 나열이 가능한 자료형:\n",
    "    반복할 문장1\n",
    "    반복할 문장2\n",
    "else:\n",
    "    변수에 값이 할당되지 않은 경우 한 번 실행할 문장 (else 구문은 선택사항)\n",
    "    for문 안에서 break로 빠져나오면 else는 수행되지 않는다. (모든 반복을 마친 후 수행)\n",
    "```"
   ]
  },
  {
   "cell_type": "code",
   "execution_count": 12,
   "id": "1cef1199-5823-4329-918c-7b0c501c67f5",
   "metadata": {},
   "outputs": [
    {
     "data": {
      "text/plain": [
       "[1, 3, 5, 7, 9]"
      ]
     },
     "execution_count": 12,
     "metadata": {},
     "output_type": "execute_result"
    }
   ],
   "source": [
    "list(range(1,10,2)) # range도 나열 가능한 자료"
   ]
  },
  {
   "cell_type": "code",
   "execution_count": 15,
   "id": "0be798ac-5755-43c2-99b9-37c385b3e77c",
   "metadata": {},
   "outputs": [
    {
     "name": "stdout",
     "output_type": "stream",
     "text": [
      "0\t1\t2\t3\t4\t5\t6\t7\t8\t9\t\n",
      "Done\n",
      "END\n"
     ]
    }
   ],
   "source": [
    "for i in range(10):\n",
    "    print(i, end='\\t')\n",
    "else:\n",
    "    print('\\nDone')\n",
    "print('END')"
   ]
  },
  {
   "cell_type": "code",
   "execution_count": 19,
   "id": "9f6e63d6-b5e3-4fed-98f3-347226f822e3",
   "metadata": {},
   "outputs": [
    {
     "name": "stdout",
     "output_type": "stream",
     "text": [
      "1부터 100까지의 짝수의 합은 2550입니다\n"
     ]
    }
   ],
   "source": [
    "# 1~100까지 짝수의 합을 계산하고 출력하시오.\n",
    "sum = 0\n",
    "for i in range(1, 101,):\n",
    "    if i%2==0:\n",
    "        sum += i\n",
    "print(\"1부터 100까지의 짝수의 합은 {}입니다\".format(sum))"
   ]
  },
  {
   "cell_type": "markdown",
   "id": "d98e8237-8fea-4549-a1ce-c68e24456eb2",
   "metadata": {},
   "source": [
    "# 3절. while문\n",
    "```\n",
    "while 조건:\n",
    "    반복문장1\n",
    "    반복문장1\n",
    "else:\n",
    "    조건이 거짓일 경우 한 번 수행할 문장 (else는 선택사항)\n",
    "    while문 내 break를 통해서 빠져 나올때는 else블럭은 수행하지 않음\n",
    "```"
   ]
  },
  {
   "cell_type": "code",
   "execution_count": 24,
   "id": "13ce18a5-aa1e-495a-b690-5ba96f53d1a2",
   "metadata": {},
   "outputs": [
    {
     "name": "stdin",
     "output_type": "stream",
     "text": [
      "첫 번째(작은 수) 정수를 입력하세요 >> 2\n",
      "두 번째(큰 수) 정수를 입력하세요 >> 40\n"
     ]
    },
    {
     "name": "stdout",
     "output_type": "stream",
     "text": [
      "2부터 40까지 홀수의 합은 399입니다\n"
     ]
    }
   ],
   "source": [
    "# 사용자에게 두 수를 입력받아 첫 번째 수(작은 수)부터 두 번째(큰 수) 입력한 수까지 홀수의 합 누적해서 출력\n",
    "n1 = int(input(\"첫 번째(작은 수) 정수를 입력하세요 >>\"))\n",
    "n2 = int(input(\"두 번째(큰 수) 정수를 입력하세요 >>\"))\n",
    "\n",
    "sum = 0\n",
    "i = n1\n",
    "while i <= n2:\n",
    "    if i % 2 != 0:\n",
    "        sum += i\n",
    "    i += 1\n",
    "print(\"{}부터 {}까지 홀수의 합은 {}입니다\".format(n1, n2, sum))"
   ]
  },
  {
   "cell_type": "markdown",
   "id": "24d9b3c0-75db-41c6-bb1c-8784e21325da",
   "metadata": {},
   "source": [
    "# 4절. break, continue"
   ]
  },
  {
   "cell_type": "code",
   "execution_count": 28,
   "id": "745dc544-70cf-45c7-99f3-aeb149d2af98",
   "metadata": {},
   "outputs": [
    {
     "name": "stdout",
     "output_type": "stream",
     "text": [
      "num=1\tnum=2\tnum=4\tnum=5\tnum=6\tnum=7\tnum=8\tnum=9\tnum=10\tnum=11\t"
     ]
    }
   ],
   "source": [
    "num = 0\n",
    "while num <= 10:\n",
    "    num += 1\n",
    "    if num == 3:\n",
    "        # break\n",
    "        continue\n",
    "    print(\"num={}\".format(num), end='\\t')"
   ]
  },
  {
   "cell_type": "markdown",
   "id": "8e5fa12a-781e-47ad-8407-3a5feb36ba4c",
   "metadata": {},
   "source": [
    "# 5절. 이중 loop"
   ]
  },
  {
   "cell_type": "code",
   "execution_count": 41,
   "id": "78495eb6-b2f0-4a99-9d10-2df01c990955",
   "metadata": {},
   "outputs": [
    {
     "name": "stdout",
     "output_type": "stream",
     "text": [
      "2 x 1 =  2\t3 x 1 =  3\t4 x 1 =  4\t5 x 1 =  5\t6 x 1 =  6\t7 x 1 =  7\t8 x 1 =  8\t9 x 1 =  9\t\n",
      "2 x 2 =  4\t3 x 2 =  6\t4 x 2 =  8\t5 x 2 = 10\t6 x 2 = 12\t7 x 2 = 14\t8 x 2 = 16\t9 x 2 = 18\t\n",
      "2 x 3 =  6\t3 x 3 =  9\t4 x 3 = 12\t5 x 3 = 15\t6 x 3 = 18\t7 x 3 = 21\t8 x 3 = 24\t9 x 3 = 27\t\n",
      "2 x 4 =  8\t3 x 4 = 12\t4 x 4 = 16\t5 x 4 = 20\t6 x 4 = 24\t7 x 4 = 28\t8 x 4 = 32\t9 x 4 = 36\t\n",
      "2 x 5 = 10\t3 x 5 = 15\t4 x 5 = 20\t5 x 5 = 25\t6 x 5 = 30\t7 x 5 = 35\t8 x 5 = 40\t9 x 5 = 45\t\n",
      "2 x 6 = 12\t3 x 6 = 18\t4 x 6 = 24\t5 x 6 = 30\t6 x 6 = 36\t7 x 6 = 42\t8 x 6 = 48\t9 x 6 = 54\t\n",
      "2 x 7 = 14\t3 x 7 = 21\t4 x 7 = 28\t5 x 7 = 35\t6 x 7 = 42\t7 x 7 = 49\t8 x 7 = 56\t9 x 7 = 63\t\n",
      "2 x 8 = 16\t3 x 8 = 24\t4 x 8 = 32\t5 x 8 = 40\t6 x 8 = 48\t7 x 8 = 56\t8 x 8 = 64\t9 x 8 = 72\t\n",
      "2 x 9 = 18\t3 x 9 = 27\t4 x 9 = 36\t5 x 9 = 45\t6 x 9 = 54\t7 x 9 = 63\t8 x 9 = 72\t9 x 9 = 81\t\n"
     ]
    }
   ],
   "source": [
    "for i in range(1, 10):\n",
    "    for j in range(2, 10):\n",
    "        print(\"{} x {} = {:>2}\\t\".format(j, i, j * i), end='')\n",
    "    print() # 개행용도 # default가 \\n"
   ]
  },
  {
   "cell_type": "markdown",
   "id": "36db782f-a057-4232-a83e-b6ff0772853f",
   "metadata": {},
   "source": [
    "# 4장 연습문제"
   ]
  },
  {
   "cell_type": "code",
   "execution_count": 134,
   "id": "90e3c7a7-0df4-4511-96f2-d01ef96f9a5a",
   "metadata": {},
   "outputs": [
    {
     "name": "stdout",
     "output_type": "stream",
     "text": [
      "10\n"
     ]
    }
   ],
   "source": [
    "import random\n",
    "# random.seed(7) # seed값을 같은 값으로 넣어주면 랜덤수 결과 동일\n",
    "print(random.randint(1, 100))"
   ]
  },
  {
   "cell_type": "code",
   "execution_count": null,
   "id": "c1b01c2a-2b48-4712-abfd-4b4a41192834",
   "metadata": {},
   "outputs": [],
   "source": [
    "# 1. 방법1 1~100까지 컴퓨터가 발생한 난수 알아맞추기(최소값과 최대값을 줄어가며 범위 출력)"
   ]
  },
  {
   "cell_type": "code",
   "execution_count": 170,
   "id": "a8931962-79c6-4e82-8e0b-478c72038123",
   "metadata": {},
   "outputs": [
    {
     "name": "stdout",
     "output_type": "stream",
     "text": [
      "75\n"
     ]
    },
    {
     "name": "stdin",
     "output_type": "stream",
     "text": [
      "1~100사이의 수를 맞춰 보세요. (남은 기회 : 5)>> 50\n"
     ]
    },
    {
     "name": "stdout",
     "output_type": "stream",
     "text": [
      "UP\n"
     ]
    },
    {
     "name": "stdin",
     "output_type": "stream",
     "text": [
      "50~100사이의 수를 맞춰 보세요. (남은 기회 : 4)>> 75\n"
     ]
    },
    {
     "name": "stdout",
     "output_type": "stream",
     "text": [
      "정답입니다! 2번만에 성공하셨습니다.\n"
     ]
    }
   ],
   "source": [
    "# 1. 방법2 1~100까지 컴퓨터가 발생한 난수를 5번 이내로 알아맞추기(최소값과 최대값을 줄어가며 범위 출력)\n",
    "#    5번 기회 이내에 알아맞추지 않을 시 실패 메시지 출력\n",
    "import random\n",
    "com = random.randint(1, 100)\n",
    "print(com)\n",
    "chance = 5\n",
    "min_ = 1;\n",
    "max_ = 100;\n",
    "while chance > 0:\n",
    "    user = int(input(str(min_) + '~' + str(max_) + '사이의 수를 맞춰 보세요. (남은 기회 : ' + str(chance) + ')>>' ))\n",
    "    if (max_ < user) | (min_ > user):\n",
    "        print('범위에 맞는 수를 입력하십시오')\n",
    "    elif user > com:\n",
    "        print('Down')\n",
    "        max_ = user\n",
    "        chance -= 1\n",
    "    elif user < com:\n",
    "        print('UP')\n",
    "        min_ = user\n",
    "        chance -= 1\n",
    "    else:\n",
    "        print('정답입니다! {}번만에 성공하셨습니다.'.format(6-chance))\n",
    "        break;\n",
    "else:\n",
    "    print('모든 기회를 사용하셨습니다.')"
   ]
  },
  {
   "cell_type": "code",
   "execution_count": 171,
   "id": "88a7ab3d-5b70-4a98-b554-1992e7744e32",
   "metadata": {},
   "outputs": [
    {
     "name": "stdout",
     "output_type": "stream",
     "text": [
      "[3, 4, 15, 26, 37, 38]\n"
     ]
    }
   ],
   "source": [
    "# 2. 중복되지 않은 로또 번호를 오름차순 정렬하여 출력하시오\n",
    "#    list(중복 데이터 포함 가능) or set(중복 불가, 정렬 불가) 사용\n",
    "import random\n",
    "lotto = set()\n",
    "while len(lotto) < 6:\n",
    "    lotto.add(random.randint(1, 45))\n",
    "\n",
    "lotto = list(lotto)\n",
    "lotto.sort()\n",
    "print(lotto)"
   ]
  }
 ],
 "metadata": {
  "kernelspec": {
   "display_name": "Python 3 (ipykernel)",
   "language": "python",
   "name": "python3"
  },
  "language_info": {
   "codemirror_mode": {
    "name": "ipython",
    "version": 3
   },
   "file_extension": ".py",
   "mimetype": "text/x-python",
   "name": "python",
   "nbconvert_exporter": "python",
   "pygments_lexer": "ipython3",
   "version": "3.11.7"
  }
 },
 "nbformat": 4,
 "nbformat_minor": 5
}
