{
 "cells": [
  {
   "cell_type": "markdown",
   "id": "8a4a4a0c-7408-4131-aaa7-93ce529c2d89",
   "metadata": {},
   "source": [
    "<font size=\"6\" color = \"blue\"><b>ch09. 파일 입출력</b></font>"
   ]
  },
  {
   "cell_type": "markdown",
   "id": "508d9376-74f4-4785-bb52-e00e683d6186",
   "metadata": {},
   "source": [
    "# 1절. 파일에 데이터를 저장하고 불러오기"
   ]
  },
  {
   "cell_type": "code",
   "execution_count": 21,
   "id": "e2824691-b937-499e-92dd-20f65e02fbea",
   "metadata": {},
   "outputs": [
    {
     "name": "stdout",
     "output_type": "stream",
     "text": [
      "True\n"
     ]
    }
   ],
   "source": [
    "# w : 있는 파일은 기존의 파일에 덮어쓰고 없는 파일은 생성 (쓰기 전용)\n",
    "# a : 있는 파일은 추가 / 없는 파일은 생성 (쓰기 전용)\n",
    "# r : 읽기 전용\n",
    "f = open('data/ch09.txt', 'w') # encoding 기본값 CP949\n",
    "print(f.writable()) # 쓸 수 있다!"
   ]
  },
  {
   "cell_type": "code",
   "execution_count": 22,
   "id": "6de1edb3-fc67-4587-abaa-bdd967cd338b",
   "metadata": {},
   "outputs": [],
   "source": [
    "f.write(\"Hello\\nWorld\\nPython\\n반갑습니다\\n\") # 한글은 cp949\n",
    "f.write(\"여러번 write가능\\n\")\n",
    "f.close()"
   ]
  },
  {
   "cell_type": "code",
   "execution_count": 23,
   "id": "f9469f6f-f716-42f9-9cb6-f6f4c391f460",
   "metadata": {},
   "outputs": [
    {
     "name": "stdout",
     "output_type": "stream",
     "text": [
      "['Hello\\n', 'World\\n', 'Python\\n', '반갑습니다\\n', '여러번 write가능\\n']\n"
     ]
    }
   ],
   "source": [
    "with open('data/ch09.txt', 'r') as f: # with를 이용한 read (close자동)\n",
    "    data = f.readlines()\n",
    "    print(data)"
   ]
  },
  {
   "cell_type": "code",
   "execution_count": 24,
   "id": "c9c579c2-7dcc-4a51-aa75-586dda899ffc",
   "metadata": {},
   "outputs": [],
   "source": [
    "with open('data/ch09.txt', 'w') as f: # with를 이용한 write (close자동)\n",
    "    print(\"Python is easy\\n\", file=f)"
   ]
  },
  {
   "cell_type": "code",
   "execution_count": 26,
   "id": "9572e5cc-bb6d-4b44-a1f6-a7c0d4919e64",
   "metadata": {},
   "outputs": [
    {
     "name": "stdout",
     "output_type": "stream",
     "text": [
      "홍길동,20,hong@hong.com,서울시 강동구\n",
      "박길서,33,park@hong.com,서울시 강서구\n",
      "박길남,23,gil@hong.com,서울시 강남구\n",
      "김길북,20,kim@hong.com,서울시 강북구\n",
      "신길서,40,shin@hong.com,서울시 강서구\n",
      "신길동,28,dong@hong.com,서울시 강서동"
     ]
    }
   ],
   "source": [
    "# utf-8로 인코딩 된 csv파일을 read\n",
    "with open('data/ch09_member1.csv', 'r', encoding='utf-8') as f:\n",
    "    data = f.readlines()\n",
    "    for row in data:\n",
    "        print(row, end=\"\")"
   ]
  },
  {
   "cell_type": "code",
   "execution_count": 32,
   "id": "f1b106db-4278-4621-b758-9aecad0da864",
   "metadata": {},
   "outputs": [
    {
     "data": {
      "text/html": [
       "<div>\n",
       "<style scoped>\n",
       "    .dataframe tbody tr th:only-of-type {\n",
       "        vertical-align: middle;\n",
       "    }\n",
       "\n",
       "    .dataframe tbody tr th {\n",
       "        vertical-align: top;\n",
       "    }\n",
       "\n",
       "    .dataframe thead th {\n",
       "        text-align: right;\n",
       "    }\n",
       "</style>\n",
       "<table border=\"1\" class=\"dataframe\">\n",
       "  <thead>\n",
       "    <tr style=\"text-align: right;\">\n",
       "      <th></th>\n",
       "      <th>name</th>\n",
       "      <th>age</th>\n",
       "      <th>email</th>\n",
       "      <th>address</th>\n",
       "    </tr>\n",
       "  </thead>\n",
       "  <tbody>\n",
       "    <tr>\n",
       "      <th>0</th>\n",
       "      <td>홍길동</td>\n",
       "      <td>20</td>\n",
       "      <td>hong@hong.com</td>\n",
       "      <td>서울시 강동구</td>\n",
       "    </tr>\n",
       "    <tr>\n",
       "      <th>1</th>\n",
       "      <td>박길서</td>\n",
       "      <td>33</td>\n",
       "      <td>park@hong.com</td>\n",
       "      <td>서울시 강서구</td>\n",
       "    </tr>\n",
       "    <tr>\n",
       "      <th>2</th>\n",
       "      <td>박길남</td>\n",
       "      <td>23</td>\n",
       "      <td>gil@hong.com</td>\n",
       "      <td>서울시 강남구</td>\n",
       "    </tr>\n",
       "    <tr>\n",
       "      <th>3</th>\n",
       "      <td>김길북</td>\n",
       "      <td>20</td>\n",
       "      <td>kim@hong.com</td>\n",
       "      <td>서울시 강북구</td>\n",
       "    </tr>\n",
       "    <tr>\n",
       "      <th>4</th>\n",
       "      <td>신길서</td>\n",
       "      <td>40</td>\n",
       "      <td>shin@hong.com</td>\n",
       "      <td>서울시 강서구</td>\n",
       "    </tr>\n",
       "    <tr>\n",
       "      <th>5</th>\n",
       "      <td>신길동</td>\n",
       "      <td>28</td>\n",
       "      <td>dong@hong.com</td>\n",
       "      <td>서울시 강서동</td>\n",
       "    </tr>\n",
       "  </tbody>\n",
       "</table>\n",
       "</div>"
      ],
      "text/plain": [
       "  name  age          email  address\n",
       "0  홍길동   20  hong@hong.com  서울시 강동구\n",
       "1  박길서   33  park@hong.com  서울시 강서구\n",
       "2  박길남   23   gil@hong.com  서울시 강남구\n",
       "3  김길북   20   kim@hong.com  서울시 강북구\n",
       "4  신길서   40  shin@hong.com  서울시 강서구\n",
       "5  신길동   28  dong@hong.com  서울시 강서동"
      ]
     },
     "execution_count": 32,
     "metadata": {},
     "output_type": "execute_result"
    }
   ],
   "source": [
    "import pandas as pd\n",
    "member1 = pd.read_csv('data/ch09_member1.csv', header=None) \n",
    "member1.columns = ['name', 'age', 'email', 'address'] # header가 업어서 추가\n",
    "member1"
   ]
  },
  {
   "cell_type": "code",
   "execution_count": 33,
   "id": "6db6ec8c-c81e-4f2b-9db3-00badf16250d",
   "metadata": {},
   "outputs": [
    {
     "data": {
      "text/plain": [
       "pandas.core.frame.DataFrame"
      ]
     },
     "execution_count": 33,
     "metadata": {},
     "output_type": "execute_result"
    }
   ],
   "source": [
    "type(member1)"
   ]
  },
  {
   "cell_type": "code",
   "execution_count": 34,
   "id": "ed354257-de40-4c0a-82af-1b7fe3627782",
   "metadata": {},
   "outputs": [
    {
     "data": {
      "text/html": [
       "<div>\n",
       "<style scoped>\n",
       "    .dataframe tbody tr th:only-of-type {\n",
       "        vertical-align: middle;\n",
       "    }\n",
       "\n",
       "    .dataframe tbody tr th {\n",
       "        vertical-align: top;\n",
       "    }\n",
       "\n",
       "    .dataframe thead th {\n",
       "        text-align: right;\n",
       "    }\n",
       "</style>\n",
       "<table border=\"1\" class=\"dataframe\">\n",
       "  <thead>\n",
       "    <tr style=\"text-align: right;\">\n",
       "      <th></th>\n",
       "      <th>name</th>\n",
       "      <th>age</th>\n",
       "      <th>email</th>\n",
       "      <th>address</th>\n",
       "    </tr>\n",
       "  </thead>\n",
       "  <tbody>\n",
       "    <tr>\n",
       "      <th>0</th>\n",
       "      <td>홍길동</td>\n",
       "      <td>20</td>\n",
       "      <td>hong@hong.com</td>\n",
       "      <td>서울시 강동구</td>\n",
       "    </tr>\n",
       "    <tr>\n",
       "      <th>1</th>\n",
       "      <td>박길서</td>\n",
       "      <td>33</td>\n",
       "      <td>park@hong.com</td>\n",
       "      <td>서울시 강서구</td>\n",
       "    </tr>\n",
       "    <tr>\n",
       "      <th>2</th>\n",
       "      <td>박길남</td>\n",
       "      <td>23</td>\n",
       "      <td>gil@hong.com</td>\n",
       "      <td>서울시 강남구</td>\n",
       "    </tr>\n",
       "  </tbody>\n",
       "</table>\n",
       "</div>"
      ],
      "text/plain": [
       "  name  age          email  address\n",
       "0  홍길동   20  hong@hong.com  서울시 강동구\n",
       "1  박길서   33  park@hong.com  서울시 강서구\n",
       "2  박길남   23   gil@hong.com  서울시 강남구"
      ]
     },
     "execution_count": 34,
     "metadata": {},
     "output_type": "execute_result"
    }
   ],
   "source": [
    "member2 = pd.read_csv('data/ch09_member2.csv', nrows=3) # 3줄만 열어라 # 주로 너무 많은 데이터가 있는 파일에서 사용\n",
    "member2"
   ]
  },
  {
   "cell_type": "code",
   "execution_count": 36,
   "id": "d71a3e1c-6b7e-4c50-9e78-9ec2637384c7",
   "metadata": {},
   "outputs": [
    {
     "data": {
      "text/html": [
       "<div>\n",
       "<style scoped>\n",
       "    .dataframe tbody tr th:only-of-type {\n",
       "        vertical-align: middle;\n",
       "    }\n",
       "\n",
       "    .dataframe tbody tr th {\n",
       "        vertical-align: top;\n",
       "    }\n",
       "\n",
       "    .dataframe thead th {\n",
       "        text-align: right;\n",
       "    }\n",
       "</style>\n",
       "<table border=\"1\" class=\"dataframe\">\n",
       "  <thead>\n",
       "    <tr style=\"text-align: right;\">\n",
       "      <th></th>\n",
       "      <th>name</th>\n",
       "      <th>age</th>\n",
       "      <th>email</th>\n",
       "      <th>address</th>\n",
       "    </tr>\n",
       "  </thead>\n",
       "  <tbody>\n",
       "    <tr>\n",
       "      <th>0</th>\n",
       "      <td>홍길동</td>\n",
       "      <td>20</td>\n",
       "      <td>hong@hong.com</td>\n",
       "      <td>서울시 강동구</td>\n",
       "    </tr>\n",
       "    <tr>\n",
       "      <th>1</th>\n",
       "      <td>박길서</td>\n",
       "      <td>33</td>\n",
       "      <td>park@hong.com</td>\n",
       "      <td>서울시 강서구</td>\n",
       "    </tr>\n",
       "    <tr>\n",
       "      <th>2</th>\n",
       "      <td>박길남</td>\n",
       "      <td>23</td>\n",
       "      <td>gil@hong.com</td>\n",
       "      <td>서울시 강남구</td>\n",
       "    </tr>\n",
       "    <tr>\n",
       "      <th>3</th>\n",
       "      <td>김길북</td>\n",
       "      <td>20</td>\n",
       "      <td>kim@hong.com</td>\n",
       "      <td>서울시 강북구</td>\n",
       "    </tr>\n",
       "    <tr>\n",
       "      <th>4</th>\n",
       "      <td>신길서</td>\n",
       "      <td>40</td>\n",
       "      <td>shin@hong.com</td>\n",
       "      <td>서울시 강서구</td>\n",
       "    </tr>\n",
       "    <tr>\n",
       "      <th>5</th>\n",
       "      <td>신길동</td>\n",
       "      <td>28</td>\n",
       "      <td>dong@hong.com</td>\n",
       "      <td>서울시 강서동</td>\n",
       "    </tr>\n",
       "    <tr>\n",
       "      <th>0</th>\n",
       "      <td>홍길동</td>\n",
       "      <td>20</td>\n",
       "      <td>hong@hong.com</td>\n",
       "      <td>서울시 강동구</td>\n",
       "    </tr>\n",
       "    <tr>\n",
       "      <th>1</th>\n",
       "      <td>박길서</td>\n",
       "      <td>33</td>\n",
       "      <td>park@hong.com</td>\n",
       "      <td>서울시 강서구</td>\n",
       "    </tr>\n",
       "    <tr>\n",
       "      <th>2</th>\n",
       "      <td>박길남</td>\n",
       "      <td>23</td>\n",
       "      <td>gil@hong.com</td>\n",
       "      <td>서울시 강남구</td>\n",
       "    </tr>\n",
       "  </tbody>\n",
       "</table>\n",
       "</div>"
      ],
      "text/plain": [
       "  name  age          email  address\n",
       "0  홍길동   20  hong@hong.com  서울시 강동구\n",
       "1  박길서   33  park@hong.com  서울시 강서구\n",
       "2  박길남   23   gil@hong.com  서울시 강남구\n",
       "3  김길북   20   kim@hong.com  서울시 강북구\n",
       "4  신길서   40  shin@hong.com  서울시 강서구\n",
       "5  신길동   28  dong@hong.com  서울시 강서동\n",
       "0  홍길동   20  hong@hong.com  서울시 강동구\n",
       "1  박길서   33  park@hong.com  서울시 강서구\n",
       "2  박길남   23   gil@hong.com  서울시 강남구"
      ]
     },
     "execution_count": 36,
     "metadata": {},
     "output_type": "execute_result"
    }
   ],
   "source": [
    "member = pd.concat([member1, member2]) # 행병합\n",
    "member"
   ]
  },
  {
   "cell_type": "code",
   "execution_count": 39,
   "id": "9f74347d-f033-4ee8-9f83-19e820cfa93c",
   "metadata": {},
   "outputs": [],
   "source": [
    "member.to_csv('data/member.csv', index=False) # index포함 안하고 파일 생성 및 저장"
   ]
  }
 ],
 "metadata": {
  "kernelspec": {
   "display_name": "Python 3 (ipykernel)",
   "language": "python",
   "name": "python3"
  },
  "language_info": {
   "codemirror_mode": {
    "name": "ipython",
    "version": 3
   },
   "file_extension": ".py",
   "mimetype": "text/x-python",
   "name": "python",
   "nbconvert_exporter": "python",
   "pygments_lexer": "ipython3",
   "version": "3.11.7"
  }
 },
 "nbformat": 4,
 "nbformat_minor": 5
}
